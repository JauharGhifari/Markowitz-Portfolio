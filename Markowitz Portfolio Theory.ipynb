{
 "cells": [
  {
   "cell_type": "code",
   "execution_count": null,
   "metadata": {},
   "outputs": [],
   "source": [
    "import numpy as np\n",
    "import pandas as pd\n",
    "import datetime\n",
    "from numpy.linalg import inv\n",
    "from pandas_datareader import data as pdr\n",
    "import yfinance as yfin\n",
    "#import matplotlib.pyplot as plt\n",
    "#from scipy.optimize import minimize\n",
    "import plotly.express as px\n",
    "from plotly.subplots import make_subplots\n",
    "import plotly.graph_objects as go\n",
    "start = datetime.datetime(2010,1,1)\n",
    "end = datetime.datetime.now()\n",
    "yfin.pdr_override()\n"
   ]
  },
  {
   "cell_type": "code",
   "execution_count": null,
   "metadata": {},
   "outputs": [],
   "source": [
    "def data_returns(data): #generating daily avg assets return \n",
    "    returns = (data/data.shift(1))-1\n",
    "    return returns"
   ]
  },
  {
   "cell_type": "code",
   "execution_count": null,
   "metadata": {},
   "outputs": [],
   "source": [
    "def portfolio_covariance(data): #generating yearly avg portfolio risk\n",
    "    yearly_port_cov = data_returns(data).cov()*252\n",
    "    return yearly_port_cov\n",
    "    "
   ]
  },
  {
   "cell_type": "markdown",
   "metadata": {},
   "source": [
    "#### Markowitz Portfolio Theory Function"
   ]
  },
  {
   "cell_type": "code",
   "execution_count": null,
   "metadata": {},
   "outputs": [],
   "source": [
    "# 1000 combination with function (Simple return)\n",
    "\n",
    "def combination(Ticker):\n",
    "\n",
    "    #load data and create random weights dataframe\n",
    "    data = pd.DataFrame()\n",
    "    data = pdr.get_data_yahoo(Ticker,start,end)['Adj Close']\n",
    "    \n",
    "    weights_array = pd.DataFrame(columns=[Ticker])\n",
    "\n",
    "    #empty array for Risk and Return Columns\n",
    "    port_return = []\n",
    "    port_risk = []\n",
    "  \n",
    "    #generating 1000 random combination for the portfolio\n",
    "    for w in range (1000):\n",
    "        #get random weights for each Ticker\n",
    "        weights = np.random.random(len(Ticker)) \n",
    "\n",
    "        #weights return array\n",
    "        weights = weights/np.sum(weights) \n",
    "        \n",
    "        #insert weights (array) to a dataframe called each_weights\n",
    "        weights_array.loc[len(weights_array)] = weights.tolist()  \n",
    "        \n",
    "        #calculate avg annual return and store it to array port_return\n",
    "        port_return.append(np.sum(weights * (data_returns(data).mean()*252)))\n",
    "        \n",
    "        #calculate avg annual std dev/risk and store it to array port_risk\n",
    "        port_risk.append(np.sqrt(np.dot(weights.T, np.dot(portfolio_covariance(data), weights)))) \n",
    "\n",
    "\n",
    "    #create dataframe called portfolios to store risk and return\n",
    "    portfolios = pd.DataFrame({'Return':port_return, 'Risk': port_risk}) \n",
    "    for i in range(len(Ticker)):   \n",
    "        weights_array.columns.values[i] = Ticker[i]\n",
    "        \n",
    "    result = pd.concat([weights_array, portfolios], axis=1) #concat dataframe each_weights and portfolios\n",
    "    \n",
    "    #return port_return, port_risk\n",
    "    return  result"
   ]
  },
  {
   "cell_type": "code",
   "execution_count": null,
   "metadata": {},
   "outputs": [],
   "source": [
    "#Calculation Minimum Variance Portfolio with Lagrange multiplier and Cramer's Rule based on Modul Portfolio Selection from Prof. Dr. Andreas Görg\n",
    "def Min_Varianz(Ticker):\n",
    "    \n",
    "    data = pd.DataFrame()\n",
    "    data = pdr.get_data_yahoo(Ticker,start,end)['Adj Close']\n",
    "\n",
    "    #Variable\n",
    "    Mu = (data_returns(data).mean()*252).to_numpy()\n",
    "    Sigma = (portfolio_covariance(data)).to_numpy()\n",
    "    One = [1 for x in range(len(Mu))]\n",
    "    One_arr = np.array(One)\n",
    "    Sigma_inverse = inv(Sigma)\n",
    "\n",
    "    a = np.dot(np.dot(Mu.T,Sigma_inverse),Mu)\n",
    "    b = np.dot(np.dot(Mu.T,Sigma_inverse),One_arr)\n",
    "    c = np.dot(np.dot(One_arr,Sigma_inverse),One_arr)\n",
    "\n",
    "\n",
    "    Return_x = b/c\n",
    "    Risk_x = 1/np.sqrt(c)\n",
    "\n",
    "    weights = (np.dot((Return_x*c-b)*Sigma_inverse,Mu)+(np.dot((a-Return_x*b)*Sigma_inverse,One_arr)))/(a*c-b**2)\n",
    "    \n",
    "    Min_Port = np.array([Return_x,Risk_x])\n",
    "\n",
    "    Data = np.concatenate((weights,Min_Port))\n",
    "\n",
    "    Columns = Ticker\n",
    "    Columns.append('Return')\n",
    "    Columns.append('Risk')\n",
    "\n",
    "    Min_Varianz_Data = pd.DataFrame(columns=Columns)\n",
    "    Min_Varianz_Data.loc[len(Min_Varianz_Data)] = Data    \n",
    "\n",
    "\n",
    "    return Min_Varianz_Data"
   ]
  },
  {
   "cell_type": "code",
   "execution_count": null,
   "metadata": {},
   "outputs": [],
   "source": []
  },
  {
   "cell_type": "markdown",
   "metadata": {},
   "source": [
    "#### Calling Function"
   ]
  },
  {
   "cell_type": "code",
   "execution_count": null,
   "metadata": {},
   "outputs": [],
   "source": [
    "xxx = ['AAPL','TSLA','COKE']"
   ]
  },
  {
   "cell_type": "code",
   "execution_count": 7,
   "metadata": {},
   "outputs": [],
   "source": [
    "my_combination = combination(xxx)"
   ]
  },
  {
   "cell_type": "code",
   "execution_count": 8,
   "metadata": {},
   "outputs": [
    {
     "data": {
      "text/html": [
       "<div>\n",
       "<style scoped>\n",
       "    .dataframe tbody tr th:only-of-type {\n",
       "        vertical-align: middle;\n",
       "    }\n",
       "\n",
       "    .dataframe tbody tr th {\n",
       "        vertical-align: top;\n",
       "    }\n",
       "\n",
       "    .dataframe thead th {\n",
       "        text-align: right;\n",
       "    }\n",
       "</style>\n",
       "<table border=\"1\" class=\"dataframe\">\n",
       "  <thead>\n",
       "    <tr style=\"text-align: right;\">\n",
       "      <th></th>\n",
       "      <th>AAPL</th>\n",
       "      <th>TSLA</th>\n",
       "      <th>COKE</th>\n",
       "      <th>Return</th>\n",
       "      <th>Risk</th>\n",
       "      <th>Sharpe Ratio</th>\n",
       "    </tr>\n",
       "  </thead>\n",
       "  <tbody>\n",
       "    <tr>\n",
       "      <th>0</th>\n",
       "      <td>0.480094</td>\n",
       "      <td>0.507443</td>\n",
       "      <td>0.012463</td>\n",
       "      <td>0.265547</td>\n",
       "      <td>0.248315</td>\n",
       "      <td>0.946971</td>\n",
       "    </tr>\n",
       "    <tr>\n",
       "      <th>1</th>\n",
       "      <td>0.092799</td>\n",
       "      <td>0.435727</td>\n",
       "      <td>0.471473</td>\n",
       "      <td>0.389606</td>\n",
       "      <td>0.341943</td>\n",
       "      <td>1.050486</td>\n",
       "    </tr>\n",
       "    <tr>\n",
       "      <th>2</th>\n",
       "      <td>0.225112</td>\n",
       "      <td>0.557789</td>\n",
       "      <td>0.217099</td>\n",
       "      <td>0.317730</td>\n",
       "      <td>0.274692</td>\n",
       "      <td>1.046008</td>\n",
       "    </tr>\n",
       "    <tr>\n",
       "      <th>3</th>\n",
       "      <td>0.304659</td>\n",
       "      <td>0.523833</td>\n",
       "      <td>0.171508</td>\n",
       "      <td>0.306968</td>\n",
       "      <td>0.262397</td>\n",
       "      <td>1.054002</td>\n",
       "    </tr>\n",
       "    <tr>\n",
       "      <th>4</th>\n",
       "      <td>0.060165</td>\n",
       "      <td>0.242718</td>\n",
       "      <td>0.697118</td>\n",
       "      <td>0.456581</td>\n",
       "      <td>0.429647</td>\n",
       "      <td>0.991933</td>\n",
       "    </tr>\n",
       "    <tr>\n",
       "      <th>...</th>\n",
       "      <td>...</td>\n",
       "      <td>...</td>\n",
       "      <td>...</td>\n",
       "      <td>...</td>\n",
       "      <td>...</td>\n",
       "      <td>...</td>\n",
       "    </tr>\n",
       "    <tr>\n",
       "      <th>995</th>\n",
       "      <td>0.153162</td>\n",
       "      <td>0.336831</td>\n",
       "      <td>0.510007</td>\n",
       "      <td>0.403547</td>\n",
       "      <td>0.352408</td>\n",
       "      <td>1.058847</td>\n",
       "    </tr>\n",
       "    <tr>\n",
       "      <th>996</th>\n",
       "      <td>0.294744</td>\n",
       "      <td>0.379660</td>\n",
       "      <td>0.325596</td>\n",
       "      <td>0.353173</td>\n",
       "      <td>0.289593</td>\n",
       "      <td>1.114571</td>\n",
       "    </tr>\n",
       "    <tr>\n",
       "      <th>997</th>\n",
       "      <td>0.607299</td>\n",
       "      <td>0.252042</td>\n",
       "      <td>0.140659</td>\n",
       "      <td>0.309130</td>\n",
       "      <td>0.253401</td>\n",
       "      <td>1.099954</td>\n",
       "    </tr>\n",
       "    <tr>\n",
       "      <th>998</th>\n",
       "      <td>0.023907</td>\n",
       "      <td>0.448816</td>\n",
       "      <td>0.527277</td>\n",
       "      <td>0.403861</td>\n",
       "      <td>0.364670</td>\n",
       "      <td>1.024108</td>\n",
       "    </tr>\n",
       "    <tr>\n",
       "      <th>999</th>\n",
       "      <td>0.468891</td>\n",
       "      <td>0.237387</td>\n",
       "      <td>0.293721</td>\n",
       "      <td>0.350147</td>\n",
       "      <td>0.281870</td>\n",
       "      <td>1.134379</td>\n",
       "    </tr>\n",
       "  </tbody>\n",
       "</table>\n",
       "<p>1000 rows × 6 columns</p>\n",
       "</div>"
      ],
      "text/plain": [
       "         AAPL      TSLA      COKE    Return      Risk  Sharpe Ratio\n",
       "0    0.480094  0.507443  0.012463  0.265547  0.248315      0.946971\n",
       "1    0.092799  0.435727  0.471473  0.389606  0.341943      1.050486\n",
       "2    0.225112  0.557789  0.217099  0.317730  0.274692      1.046008\n",
       "3    0.304659  0.523833  0.171508  0.306968  0.262397      1.054002\n",
       "4    0.060165  0.242718  0.697118  0.456581  0.429647      0.991933\n",
       "..        ...       ...       ...       ...       ...           ...\n",
       "995  0.153162  0.336831  0.510007  0.403547  0.352408      1.058847\n",
       "996  0.294744  0.379660  0.325596  0.353173  0.289593      1.114571\n",
       "997  0.607299  0.252042  0.140659  0.309130  0.253401      1.099954\n",
       "998  0.023907  0.448816  0.527277  0.403861  0.364670      1.024108\n",
       "999  0.468891  0.237387  0.293721  0.350147  0.281870      1.134379\n",
       "\n",
       "[1000 rows x 6 columns]"
      ]
     },
     "execution_count": 8,
     "metadata": {},
     "output_type": "execute_result"
    }
   ],
   "source": [
    "my_combination['Sharpe Ratio'] = (my_combination['Return']-0.0304)/my_combination['Risk']\n",
    "my_combination"
   ]
  },
  {
   "cell_type": "code",
   "execution_count": 9,
   "metadata": {},
   "outputs": [
    {
     "data": {
      "text/html": [
       "<div>\n",
       "<style scoped>\n",
       "    .dataframe tbody tr th:only-of-type {\n",
       "        vertical-align: middle;\n",
       "    }\n",
       "\n",
       "    .dataframe tbody tr th {\n",
       "        vertical-align: top;\n",
       "    }\n",
       "\n",
       "    .dataframe thead th {\n",
       "        text-align: right;\n",
       "    }\n",
       "</style>\n",
       "<table border=\"1\" class=\"dataframe\">\n",
       "  <thead>\n",
       "    <tr style=\"text-align: right;\">\n",
       "      <th></th>\n",
       "      <th>AAPL</th>\n",
       "      <th>TSLA</th>\n",
       "      <th>COKE</th>\n",
       "      <th>Return</th>\n",
       "      <th>Risk</th>\n",
       "      <th>Sharpe Ratio</th>\n",
       "    </tr>\n",
       "  </thead>\n",
       "  <tbody>\n",
       "    <tr>\n",
       "      <th>670</th>\n",
       "      <td>0.452825</td>\n",
       "      <td>0.278896</td>\n",
       "      <td>0.268279</td>\n",
       "      <td>0.341846</td>\n",
       "      <td>0.274148</td>\n",
       "      <td>1.136049</td>\n",
       "    </tr>\n",
       "  </tbody>\n",
       "</table>\n",
       "</div>"
      ],
      "text/plain": [
       "         AAPL      TSLA      COKE    Return      Risk  Sharpe Ratio\n",
       "670  0.452825  0.278896  0.268279  0.341846  0.274148      1.136049"
      ]
     },
     "execution_count": 9,
     "metadata": {},
     "output_type": "execute_result"
    }
   ],
   "source": [
    "Sharpe_max = my_combination[my_combination['Sharpe Ratio']== my_combination['Sharpe Ratio'].max()]\n",
    "Sharpe_max"
   ]
  },
  {
   "cell_type": "code",
   "execution_count": 10,
   "metadata": {},
   "outputs": [
    {
     "name": "stdout",
     "output_type": "stream",
     "text": [
      "[*********************100%***********************]  3 of 3 completed\n"
     ]
    },
    {
     "data": {
      "text/html": [
       "<div>\n",
       "<style scoped>\n",
       "    .dataframe tbody tr th:only-of-type {\n",
       "        vertical-align: middle;\n",
       "    }\n",
       "\n",
       "    .dataframe tbody tr th {\n",
       "        vertical-align: top;\n",
       "    }\n",
       "\n",
       "    .dataframe thead th {\n",
       "        text-align: right;\n",
       "    }\n",
       "</style>\n",
       "<table border=\"1\" class=\"dataframe\">\n",
       "  <thead>\n",
       "    <tr style=\"text-align: right;\">\n",
       "      <th></th>\n",
       "      <th>AAPL</th>\n",
       "      <th>TSLA</th>\n",
       "      <th>COKE</th>\n",
       "      <th>Return</th>\n",
       "      <th>Risk</th>\n",
       "    </tr>\n",
       "  </thead>\n",
       "  <tbody>\n",
       "    <tr>\n",
       "      <th>0</th>\n",
       "      <td>0.578681</td>\n",
       "      <td>0.383732</td>\n",
       "      <td>0.037587</td>\n",
       "      <td>0.276886</td>\n",
       "      <td>0.243822</td>\n",
       "    </tr>\n",
       "  </tbody>\n",
       "</table>\n",
       "</div>"
      ],
      "text/plain": [
       "       AAPL      TSLA      COKE    Return      Risk\n",
       "0  0.578681  0.383732  0.037587  0.276886  0.243822"
      ]
     },
     "execution_count": 10,
     "metadata": {},
     "output_type": "execute_result"
    }
   ],
   "source": [
    "Min_Var_Portfolio = Min_Varianz(xxx)\n",
    "Min_Var_Portfolio"
   ]
  },
  {
   "cell_type": "code",
   "execution_count": 11,
   "metadata": {},
   "outputs": [
    {
     "data": {
      "text/html": [
       "<div>\n",
       "<style scoped>\n",
       "    .dataframe tbody tr th:only-of-type {\n",
       "        vertical-align: middle;\n",
       "    }\n",
       "\n",
       "    .dataframe tbody tr th {\n",
       "        vertical-align: top;\n",
       "    }\n",
       "\n",
       "    .dataframe thead th {\n",
       "        text-align: right;\n",
       "    }\n",
       "</style>\n",
       "<table border=\"1\" class=\"dataframe\">\n",
       "  <thead>\n",
       "    <tr style=\"text-align: right;\">\n",
       "      <th></th>\n",
       "      <th>AAPL</th>\n",
       "      <th>TSLA</th>\n",
       "      <th>COKE</th>\n",
       "      <th>Return</th>\n",
       "      <th>Risk</th>\n",
       "      <th>Sharpe Ratio</th>\n",
       "    </tr>\n",
       "  </thead>\n",
       "  <tbody>\n",
       "    <tr>\n",
       "      <th>0</th>\n",
       "      <td>0.578681</td>\n",
       "      <td>0.383732</td>\n",
       "      <td>0.037587</td>\n",
       "      <td>0.276886</td>\n",
       "      <td>0.243822</td>\n",
       "      <td>1.010925</td>\n",
       "    </tr>\n",
       "  </tbody>\n",
       "</table>\n",
       "</div>"
      ],
      "text/plain": [
       "       AAPL      TSLA      COKE    Return      Risk  Sharpe Ratio\n",
       "0  0.578681  0.383732  0.037587  0.276886  0.243822      1.010925"
      ]
     },
     "execution_count": 11,
     "metadata": {},
     "output_type": "execute_result"
    }
   ],
   "source": [
    "Min_Var_Portfolio['Sharpe Ratio'] = (Min_Var_Portfolio['Return']-0.0304)/Min_Var_Portfolio['Risk']\n",
    "Min_Var_Portfolio\n"
   ]
  },
  {
   "cell_type": "code",
   "execution_count": 12,
   "metadata": {},
   "outputs": [],
   "source": [
    "#More Simple Version of Minimum Variance\n",
    "\n",
    "# Find index of row with minimum risk\n",
    "min_risk_idx = my_combination['Risk'].idxmin()\n",
    "\n",
    "# Subset DataFrame to only include rows with minimum risk\n",
    "min_risk_df = my_combination[my_combination['Risk'] == my_combination.loc[min_risk_idx, 'Risk']]\n",
    "\n",
    "# Find index of row with maximum return among rows with minimum risk\n",
    "optimal_return_idx = min_risk_df['Return'].idxmax()\n",
    "\n",
    "# Subset DataFrame to only include row with both minimum risk and maximum return\n",
    "optimal_portfolio = min_risk_df[min_risk_df['Return']==min_risk_df.loc[optimal_return_idx,'Return']]"
   ]
  },
  {
   "cell_type": "code",
   "execution_count": 13,
   "metadata": {},
   "outputs": [],
   "source": [
    "#reformat data\n",
    "def reformat_Data(Data):\n",
    "     \n",
    "     Data_1 = Data.copy()\n",
    "     Data_1.iloc[:,:-3] = (Data_1.iloc[:,:-3]*100).round(2).astype(str) + \"%\"\n",
    "     Data_1.iloc[:,-3:] = (Data_1.iloc[:,-3:]*100).round(2)\n",
    "     \n",
    "     return Data_1\n"
   ]
  },
  {
   "cell_type": "code",
   "execution_count": 14,
   "metadata": {},
   "outputs": [],
   "source": [
    "\n",
    "Scatter_Data = reformat_Data(my_combination)\n",
    "Min_Varianz_Data = reformat_Data(Min_Var_Portfolio)\n",
    "Sharpe_max_Data = reformat_Data(Sharpe_max)\n",
    "Optimal_Portfolio_Data = reformat_Data(optimal_portfolio)"
   ]
  },
  {
   "cell_type": "code",
   "execution_count": 18,
   "metadata": {},
   "outputs": [
    {
     "data": {
      "text/html": [
       "<div>\n",
       "<style scoped>\n",
       "    .dataframe tbody tr th:only-of-type {\n",
       "        vertical-align: middle;\n",
       "    }\n",
       "\n",
       "    .dataframe tbody tr th {\n",
       "        vertical-align: top;\n",
       "    }\n",
       "\n",
       "    .dataframe thead th {\n",
       "        text-align: right;\n",
       "    }\n",
       "</style>\n",
       "<table border=\"1\" class=\"dataframe\">\n",
       "  <thead>\n",
       "    <tr style=\"text-align: right;\">\n",
       "      <th></th>\n",
       "      <th>AAPL</th>\n",
       "      <th>TSLA</th>\n",
       "      <th>COKE</th>\n",
       "      <th>Return</th>\n",
       "      <th>Risk</th>\n",
       "      <th>Sharpe Ratio</th>\n",
       "    </tr>\n",
       "  </thead>\n",
       "  <tbody>\n",
       "    <tr>\n",
       "      <th>0</th>\n",
       "      <td>62.69%</td>\n",
       "      <td>41.55%</td>\n",
       "      <td>5.36%</td>\n",
       "      <td>28.14</td>\n",
       "      <td>24.46</td>\n",
       "      <td>102.86</td>\n",
       "    </tr>\n",
       "    <tr>\n",
       "      <th>1</th>\n",
       "      <td>64.25%</td>\n",
       "      <td>44.99%</td>\n",
       "      <td>8.89%</td>\n",
       "      <td>29.03</td>\n",
       "      <td>24.57</td>\n",
       "      <td>105.87</td>\n",
       "    </tr>\n",
       "    <tr>\n",
       "      <th>2</th>\n",
       "      <td>66.86%</td>\n",
       "      <td>46.4%</td>\n",
       "      <td>9.53%</td>\n",
       "      <td>29.30</td>\n",
       "      <td>24.59</td>\n",
       "      <td>106.83</td>\n",
       "    </tr>\n",
       "    <tr>\n",
       "      <th>3</th>\n",
       "      <td>68.7%</td>\n",
       "      <td>47.48%</td>\n",
       "      <td>9.16%</td>\n",
       "      <td>28.98</td>\n",
       "      <td>24.66</td>\n",
       "      <td>105.34</td>\n",
       "    </tr>\n",
       "    <tr>\n",
       "      <th>4</th>\n",
       "      <td>70.04%</td>\n",
       "      <td>49.03%</td>\n",
       "      <td>9.57%</td>\n",
       "      <td>29.50</td>\n",
       "      <td>24.75</td>\n",
       "      <td>107.17</td>\n",
       "    </tr>\n",
       "    <tr>\n",
       "      <th>...</th>\n",
       "      <td>...</td>\n",
       "      <td>...</td>\n",
       "      <td>...</td>\n",
       "      <td>...</td>\n",
       "      <td>...</td>\n",
       "      <td>...</td>\n",
       "    </tr>\n",
       "    <tr>\n",
       "      <th>120</th>\n",
       "      <td>9.51%</td>\n",
       "      <td>9.21%</td>\n",
       "      <td>72.04%</td>\n",
       "      <td>46.69</td>\n",
       "      <td>44.08</td>\n",
       "      <td>99.47</td>\n",
       "    </tr>\n",
       "    <tr>\n",
       "      <th>121</th>\n",
       "      <td>9.4%</td>\n",
       "      <td>6.57%</td>\n",
       "      <td>73.97%</td>\n",
       "      <td>47.18</td>\n",
       "      <td>44.92</td>\n",
       "      <td>98.91</td>\n",
       "    </tr>\n",
       "    <tr>\n",
       "      <th>122</th>\n",
       "      <td>6.41%</td>\n",
       "      <td>8.01%</td>\n",
       "      <td>77.05%</td>\n",
       "      <td>48.08</td>\n",
       "      <td>46.38</td>\n",
       "      <td>98.14</td>\n",
       "    </tr>\n",
       "    <tr>\n",
       "      <th>123</th>\n",
       "      <td>9.4%</td>\n",
       "      <td>5.37%</td>\n",
       "      <td>80.2%</td>\n",
       "      <td>48.84</td>\n",
       "      <td>47.73</td>\n",
       "      <td>96.65</td>\n",
       "    </tr>\n",
       "    <tr>\n",
       "      <th>124</th>\n",
       "      <td>9.45%</td>\n",
       "      <td>6.56%</td>\n",
       "      <td>90.93%</td>\n",
       "      <td>52.07</td>\n",
       "      <td>53.05</td>\n",
       "      <td>95.76</td>\n",
       "    </tr>\n",
       "  </tbody>\n",
       "</table>\n",
       "<p>125 rows × 6 columns</p>\n",
       "</div>"
      ],
      "text/plain": [
       "       AAPL    TSLA    COKE  Return   Risk  Sharpe Ratio\n",
       "0    62.69%  41.55%   5.36%   28.14  24.46        102.86\n",
       "1    64.25%  44.99%   8.89%   29.03  24.57        105.87\n",
       "2    66.86%   46.4%   9.53%   29.30  24.59        106.83\n",
       "3     68.7%  47.48%   9.16%   28.98  24.66        105.34\n",
       "4    70.04%  49.03%   9.57%   29.50  24.75        107.17\n",
       "..      ...     ...     ...     ...    ...           ...\n",
       "120   9.51%   9.21%  72.04%   46.69  44.08         99.47\n",
       "121    9.4%   6.57%  73.97%   47.18  44.92         98.91\n",
       "122   6.41%   8.01%  77.05%   48.08  46.38         98.14\n",
       "123    9.4%   5.37%   80.2%   48.84  47.73         96.65\n",
       "124   9.45%   6.56%  90.93%   52.07  53.05         95.76\n",
       "\n",
       "[125 rows x 6 columns]"
      ]
     },
     "execution_count": 18,
     "metadata": {},
     "output_type": "execute_result"
    }
   ],
   "source": [
    "sorted = Scatter_Data.sort_values(by=['Risk'])\n",
    "test = sorted.groupby(np.arange(len(sorted))//8).max()\n",
    "test"
   ]
  },
  {
   "cell_type": "code",
   "execution_count": 19,
   "metadata": {},
   "outputs": [
    {
     "data": {
      "text/html": [
       "<div>\n",
       "<style scoped>\n",
       "    .dataframe tbody tr th:only-of-type {\n",
       "        vertical-align: middle;\n",
       "    }\n",
       "\n",
       "    .dataframe tbody tr th {\n",
       "        vertical-align: top;\n",
       "    }\n",
       "\n",
       "    .dataframe thead th {\n",
       "        text-align: right;\n",
       "    }\n",
       "</style>\n",
       "<table border=\"1\" class=\"dataframe\">\n",
       "  <thead>\n",
       "    <tr style=\"text-align: right;\">\n",
       "      <th></th>\n",
       "      <th>max</th>\n",
       "    </tr>\n",
       "  </thead>\n",
       "  <tbody>\n",
       "    <tr>\n",
       "      <th>0</th>\n",
       "      <td>102.86</td>\n",
       "    </tr>\n",
       "    <tr>\n",
       "      <th>1</th>\n",
       "      <td>105.87</td>\n",
       "    </tr>\n",
       "    <tr>\n",
       "      <th>2</th>\n",
       "      <td>106.83</td>\n",
       "    </tr>\n",
       "    <tr>\n",
       "      <th>3</th>\n",
       "      <td>105.34</td>\n",
       "    </tr>\n",
       "    <tr>\n",
       "      <th>4</th>\n",
       "      <td>107.17</td>\n",
       "    </tr>\n",
       "    <tr>\n",
       "      <th>...</th>\n",
       "      <td>...</td>\n",
       "    </tr>\n",
       "    <tr>\n",
       "      <th>120</th>\n",
       "      <td>99.47</td>\n",
       "    </tr>\n",
       "    <tr>\n",
       "      <th>121</th>\n",
       "      <td>98.91</td>\n",
       "    </tr>\n",
       "    <tr>\n",
       "      <th>122</th>\n",
       "      <td>98.14</td>\n",
       "    </tr>\n",
       "    <tr>\n",
       "      <th>123</th>\n",
       "      <td>96.65</td>\n",
       "    </tr>\n",
       "    <tr>\n",
       "      <th>124</th>\n",
       "      <td>95.76</td>\n",
       "    </tr>\n",
       "  </tbody>\n",
       "</table>\n",
       "<p>125 rows × 1 columns</p>\n",
       "</div>"
      ],
      "text/plain": [
       "        max\n",
       "0    102.86\n",
       "1    105.87\n",
       "2    106.83\n",
       "3    105.34\n",
       "4    107.17\n",
       "..      ...\n",
       "120   99.47\n",
       "121   98.91\n",
       "122   98.14\n",
       "123   96.65\n",
       "124   95.76\n",
       "\n",
       "[125 rows x 1 columns]"
      ]
     },
     "execution_count": 19,
     "metadata": {},
     "output_type": "execute_result"
    }
   ],
   "source": [
    "sorted.groupby(np.arange(len(sorted))//8)['Sharpe Ratio'].agg(['max'])"
   ]
  },
  {
   "cell_type": "markdown",
   "metadata": {},
   "source": [
    "#### Visualization"
   ]
  },
  {
   "cell_type": "code",
   "execution_count": 20,
   "metadata": {},
   "outputs": [
    {
     "data": {
      "application/vnd.plotly.v1+json": {
       "config": {
        "plotlyServerURL": "https://plot.ly"
       },
       "data": [
        {
         "customdata": [
          [
           "48.01%",
           "50.74%",
           "1.25%",
           94.7
          ],
          [
           "9.28%",
           "43.57%",
           "47.15%",
           105.05
          ],
          [
           "22.51%",
           "55.78%",
           "21.71%",
           104.6
          ],
          [
           "30.47%",
           "52.38%",
           "17.15%",
           105.4
          ],
          [
           "6.02%",
           "24.27%",
           "69.71%",
           99.19
          ],
          [
           "37.82%",
           "39.46%",
           "22.72%",
           111.78
          ],
          [
           "22.7%",
           "15.85%",
           "61.46%",
           103.02
          ],
          [
           "31.28%",
           "44.78%",
           "23.94%",
           110.12
          ],
          [
           "69.44%",
           "18.6%",
           "11.96%",
           107.26
          ],
          [
           "41.45%",
           "22.62%",
           "35.93%",
           112.34
          ],
          [
           "29.23%",
           "17.45%",
           "53.32%",
           106.3
          ],
          [
           "0.4%",
           "40.9%",
           "58.7%",
           101.03
          ],
          [
           "28.1%",
           "21.2%",
           "50.7%",
           107.32
          ],
          [
           "21.13%",
           "54.67%",
           "24.2%",
           105.48
          ],
          [
           "33.85%",
           "31.53%",
           "34.62%",
           112.2
          ],
          [
           "40.13%",
           "47.29%",
           "12.58%",
           105.79
          ],
          [
           "62.58%",
           "26.76%",
           "10.66%",
           107.83
          ],
          [
           "28.53%",
           "12.93%",
           "58.53%",
           104.14
          ],
          [
           "29.73%",
           "52.17%",
           "18.09%",
           105.8
          ],
          [
           "22.55%",
           "33.39%",
           "44.06%",
           108.79
          ],
          [
           "35.74%",
           "29.49%",
           "34.77%",
           112.4
          ],
          [
           "21.28%",
           "35.98%",
           "42.74%",
           108.78
          ],
          [
           "6.07%",
           "47.31%",
           "46.62%",
           104.01
          ],
          [
           "18.28%",
           "21.85%",
           "59.87%",
           103.48
          ],
          [
           "76.72%",
           "0.46%",
           "22.82%",
           105.94
          ],
          [
           "23.98%",
           "58.0%",
           "18.02%",
           102.48
          ],
          [
           "50.07%",
           "17.05%",
           "32.87%",
           112.42
          ],
          [
           "46.55%",
           "17.46%",
           "35.98%",
           111.96
          ],
          [
           "33.02%",
           "2.26%",
           "64.72%",
           101.14
          ],
          [
           "20.4%",
           "45.81%",
           "33.79%",
           108.67
          ],
          [
           "24.01%",
           "54.92%",
           "21.07%",
           104.99
          ],
          [
           "38.39%",
           "12.29%",
           "49.32%",
           107.55
          ],
          [
           "48.94%",
           "33.62%",
           "17.44%",
           111.68
          ],
          [
           "37.8%",
           "7.36%",
           "54.84%",
           105.12
          ],
          [
           "0.44%",
           "88.47%",
           "11.09%",
           78.03
          ],
          [
           "26.4%",
           "40.71%",
           "32.88%",
           110.63
          ],
          [
           "45.41%",
           "31.76%",
           "22.83%",
           113.18
          ],
          [
           "39.09%",
           "58.08%",
           "2.83%",
           92.77
          ],
          [
           "19.56%",
           "37.17%",
           "43.27%",
           108.31
          ],
          [
           "95.6%",
           "1.02%",
           "3.37%",
           91.86
          ],
          [
           "19.43%",
           "40.41%",
           "40.15%",
           108.61
          ],
          [
           "20.86%",
           "67.9%",
           "11.24%",
           92.96
          ],
          [
           "69.37%",
           "24.11%",
           "6.51%",
           103.77
          ],
          [
           "25.94%",
           "69.32%",
           "4.74%",
           87.46
          ],
          [
           "3.28%",
           "16.52%",
           "80.2%",
           95.71
          ],
          [
           "38.15%",
           "4.84%",
           "57.02%",
           104.07
          ],
          [
           "71.97%",
           "22.35%",
           "5.68%",
           102.57
          ],
          [
           "67.93%",
           "19.24%",
           "12.82%",
           108.05
          ],
          [
           "30.78%",
           "24.7%",
           "44.51%",
           109.61
          ],
          [
           "14.29%",
           "32.05%",
           "53.66%",
           105.03
          ],
          [
           "36.12%",
           "18.52%",
           "45.37%",
           109.35
          ],
          [
           "91.16%",
           "8.71%",
           "0.13%",
           91.61
          ],
          [
           "51.0%",
           "4.78%",
           "44.22%",
           107.89
          ],
          [
           "6.41%",
           "45.16%",
           "48.44%",
           104.04
          ],
          [
           "21.97%",
           "51.27%",
           "26.76%",
           107.27
          ],
          [
           "29.09%",
           "38.32%",
           "32.59%",
           111.36
          ],
          [
           "24.57%",
           "53.44%",
           "21.99%",
           105.94
          ],
          [
           "54.79%",
           "29.38%",
           "15.83%",
           111.21
          ],
          [
           "56.59%",
           "1.87%",
           "41.54%",
           107.7
          ],
          [
           "9.12%",
           "50.04%",
           "40.84%",
           105
          ],
          [
           "5.13%",
           "14.57%",
           "80.3%",
           95.76
          ],
          [
           "62.55%",
           "9.52%",
           "27.93%",
           110.74
          ],
          [
           "69.94%",
           "9.33%",
           "20.73%",
           108.99
          ],
          [
           "18.06%",
           "73.3%",
           "8.64%",
           87.53
          ],
          [
           "48.82%",
           "4.15%",
           "47.03%",
           107.05
          ],
          [
           "9.97%",
           "80.31%",
           "9.72%",
           83.13
          ],
          [
           "40.3%",
           "46.44%",
           "13.26%",
           106.51
          ],
          [
           "1.86%",
           "39.42%",
           "58.71%",
           101.38
          ],
          [
           "42.93%",
           "45.81%",
           "11.26%",
           105.58
          ],
          [
           "29.49%",
           "34.39%",
           "36.12%",
           111.34
          ],
          [
           "27.63%",
           "29.45%",
           "42.92%",
           109.81
          ],
          [
           "32.82%",
           "5.79%",
           "61.39%",
           102.63
          ],
          [
           "37.78%",
           "25.83%",
           "36.39%",
           112.21
          ],
          [
           "60.46%",
           "12.1%",
           "27.44%",
           111.46
          ],
          [
           "43.58%",
           "9.88%",
           "46.53%",
           108.18
          ],
          [
           "31.28%",
           "35.71%",
           "33.01%",
           111.87
          ],
          [
           "44.63%",
           "49.87%",
           "5.5%",
           99.4
          ],
          [
           "70.04%",
           "27.89%",
           "2.07%",
           99.4
          ],
          [
           "2.13%",
           "26.03%",
           "71.84%",
           98.15
          ],
          [
           "33.09%",
           "17.33%",
           "49.58%",
           107.76
          ],
          [
           "31.15%",
           "28.24%",
           "40.61%",
           110.77
          ],
          [
           "48.99%",
           "4.32%",
           "46.69%",
           107.17
          ],
          [
           "7.38%",
           "54.67%",
           "37.95%",
           103.77
          ],
          [
           "18.74%",
           "31.6%",
           "49.67%",
           106.81
          ],
          [
           "60.26%",
           "16.97%",
           "22.77%",
           112
          ],
          [
           "6.97%",
           "43.22%",
           "49.81%",
           104.09
          ],
          [
           "4.77%",
           "52.41%",
           "42.82%",
           103.37
          ],
          [
           "8.3%",
           "62.62%",
           "29.08%",
           100.83
          ],
          [
           "51.57%",
           "22.43%",
           "26.01%",
           113.38
          ],
          [
           "14.93%",
           "46.47%",
           "38.6%",
           107.11
          ],
          [
           "39.92%",
           "25.05%",
           "35.03%",
           112.57
          ],
          [
           "17.96%",
           "74.84%",
           "7.2%",
           85.46
          ],
          [
           "42.64%",
           "1.41%",
           "55.95%",
           103.94
          ],
          [
           "38.13%",
           "12.29%",
           "49.57%",
           107.46
          ],
          [
           "36.27%",
           "21.08%",
           "42.65%",
           110.35
          ],
          [
           "5.84%",
           "40.32%",
           "53.84%",
           103.22
          ],
          [
           "12.31%",
           "28.13%",
           "59.57%",
           103.03
          ],
          [
           "25.02%",
           "35.39%",
           "39.59%",
           110.05
          ],
          [
           "57.13%",
           "25.88%",
           "16.98%",
           111.57
          ],
          [
           "22.91%",
           "2.01%",
           "75.09%",
           97.55
          ],
          [
           "25.51%",
           "22.92%",
           "51.57%",
           106.9
          ],
          [
           "44.27%",
           "50.55%",
           "5.18%",
           98.81
          ],
          [
           "40.91%",
           "8.32%",
           "50.76%",
           106.62
          ],
          [
           "23.88%",
           "34.83%",
           "41.29%",
           109.56
          ],
          [
           "31.8%",
           "38.63%",
           "29.58%",
           111.82
          ],
          [
           "37.57%",
           "20.81%",
           "41.61%",
           110.68
          ],
          [
           "68.12%",
           "10.59%",
           "21.29%",
           109.66
          ],
          [
           "11.2%",
           "50.04%",
           "38.76%",
           105.64
          ],
          [
           "84.25%",
           "7.89%",
           "7.85%",
           99.75
          ],
          [
           "39.7%",
           "51.85%",
           "8.45%",
           100.97
          ],
          [
           "36.59%",
           "12.21%",
           "51.19%",
           106.88
          ],
          [
           "32.58%",
           "52.04%",
           "15.38%",
           104.92
          ],
          [
           "44.17%",
           "9.67%",
           "46.16%",
           108.27
          ],
          [
           "52.23%",
           "38.87%",
           "8.89%",
           105.87
          ],
          [
           "35.96%",
           "47.13%",
           "16.91%",
           107.82
          ],
          [
           "37.3%",
           "42.1%",
           "20.6%",
           110.69
          ],
          [
           "21.38%",
           "53.6%",
           "25.03%",
           106.09
          ],
          [
           "34.62%",
           "28.51%",
           "36.87%",
           111.92
          ],
          [
           "42.79%",
           "32.27%",
           "24.93%",
           113.29
          ],
          [
           "46.85%",
           "15.51%",
           "37.64%",
           111.37
          ],
          [
           "28.07%",
           "14.59%",
           "57.34%",
           104.66
          ],
          [
           "48.45%",
           "15.02%",
           "36.53%",
           111.53
          ],
          [
           "3.8%",
           "68.49%",
           "27.7%",
           97.11
          ],
          [
           "5.35%",
           "36.48%",
           "58.17%",
           102.26
          ],
          [
           "19.06%",
           "43.3%",
           "37.64%",
           108.53
          ],
          [
           "32.18%",
           "8.2%",
           "59.62%",
           103.47
          ],
          [
           "34.97%",
           "28.08%",
           "36.95%",
           111.94
          ],
          [
           "30.68%",
           "36.14%",
           "33.18%",
           111.75
          ],
          [
           "30.83%",
           "34.3%",
           "34.87%",
           111.7
          ],
          [
           "21.57%",
           "36.49%",
           "41.94%",
           108.97
          ],
          [
           "4.82%",
           "54.14%",
           "41.03%",
           103.16
          ],
          [
           "53.68%",
           "44.99%",
           "1.34%",
           96.86
          ],
          [
           "34.62%",
           "36.42%",
           "28.96%",
           112.42
          ],
          [
           "36.72%",
           "35.13%",
           "28.16%",
           112.77
          ],
          [
           "20.63%",
           "25.84%",
           "53.53%",
           105.87
          ],
          [
           "10.07%",
           "26.45%",
           "63.48%",
           101.56
          ],
          [
           "27.08%",
           "18.39%",
           "54.53%",
           105.82
          ],
          [
           "43.03%",
           "6.72%",
           "50.25%",
           106.57
          ],
          [
           "0.66%",
           "69.28%",
           "30.05%",
           96.61
          ],
          [
           "35.56%",
           "20.43%",
           "44.01%",
           109.87
          ],
          [
           "22.55%",
           "26.73%",
           "50.72%",
           106.98
          ],
          [
           "48.45%",
           "43.69%",
           "7.86%",
           103.79
          ],
          [
           "33.19%",
           "11.37%",
           "55.44%",
           105.25
          ],
          [
           "18.35%",
           "33.01%",
           "48.65%",
           107
          ],
          [
           "25.38%",
           "39.31%",
           "35.3%",
           110.43
          ],
          [
           "43.69%",
           "20.54%",
           "35.77%",
           112.28
          ],
          [
           "4.63%",
           "90.58%",
           "4.79%",
           72.69
          ],
          [
           "5.53%",
           "61.82%",
           "32.64%",
           101.01
          ],
          [
           "73.04%",
           "5.03%",
           "21.93%",
           107.68
          ],
          [
           "1.14%",
           "65.22%",
           "33.64%",
           98.89
          ],
          [
           "13.78%",
           "54.43%",
           "31.78%",
           105.18
          ],
          [
           "53.97%",
           "21.41%",
           "24.62%",
           113.14
          ],
          [
           "46.4%",
           "9.75%",
           "43.85%",
           108.94
          ],
          [
           "49.15%",
           "42.23%",
           "8.61%",
           104.84
          ],
          [
           "25.02%",
           "64.43%",
           "10.54%",
           94.94
          ],
          [
           "22.69%",
           "30.89%",
           "46.42%",
           108.26
          ],
          [
           "38.68%",
           "61.22%",
           "0.11%",
           88.22
          ],
          [
           "38.87%",
           "23.66%",
           "37.47%",
           111.96
          ],
          [
           "39.22%",
           "37.45%",
           "23.33%",
           112.33
          ],
          [
           "10.03%",
           "48.03%",
           "41.95%",
           105.43
          ],
          [
           "55.81%",
           "19.72%",
           "24.47%",
           112.87
          ],
          [
           "44.92%",
           "16.17%",
           "38.91%",
           111.15
          ],
          [
           "54.51%",
           "41.55%",
           "3.94%",
           100.67
          ],
          [
           "9.4%",
           "10.81%",
           "79.79%",
           96.06
          ],
          [
           "3.11%",
           "66.15%",
           "30.74%",
           98.57
          ],
          [
           "46.74%",
           "7.79%",
           "45.47%",
           108.16
          ],
          [
           "70.34%",
           "27.23%",
           "2.44%",
           99.76
          ],
          [
           "23.02%",
           "6.74%",
           "70.24%",
           99.47
          ],
          [
           "28.02%",
           "23.8%",
           "48.18%",
           108.24
          ],
          [
           "45.99%",
           "3.24%",
           "50.77%",
           105.83
          ],
          [
           "40.91%",
           "36.02%",
           "23.06%",
           112.6
          ],
          [
           "19.72%",
           "11.58%",
           "68.7%",
           100.16
          ],
          [
           "33.75%",
           "33.29%",
           "32.96%",
           112.33
          ],
          [
           "18.52%",
           "10.15%",
           "71.32%",
           99.16
          ],
          [
           "22.26%",
           "25.43%",
           "52.31%",
           106.43
          ],
          [
           "5.35%",
           "35.18%",
           "59.46%",
           101.96
          ],
          [
           "45.58%",
           "19.49%",
           "34.93%",
           112.38
          ],
          [
           "17.52%",
           "65.43%",
           "17.05%",
           97.33
          ],
          [
           "42.77%",
           "26.69%",
           "30.54%",
           113.36
          ],
          [
           "3.34%",
           "52.44%",
           "44.22%",
           102.9
          ],
          [
           "38.72%",
           "6.85%",
           "54.43%",
           105.2
          ],
          [
           "34.05%",
           "21.6%",
           "44.35%",
           109.76
          ],
          [
           "29.93%",
           "51.49%",
           "18.57%",
           106.29
          ],
          [
           "52.92%",
           "24.85%",
           "22.23%",
           113.13
          ],
          [
           "22.35%",
           "38.11%",
           "39.54%",
           109.44
          ],
          [
           "9.75%",
           "70.0%",
           "20.25%",
           95.08
          ],
          [
           "53.81%",
           "28.18%",
           "18.01%",
           112.12
          ],
          [
           "13.3%",
           "11.92%",
           "74.78%",
           97.86
          ],
          [
           "19.29%",
           "42.98%",
           "37.73%",
           108.61
          ],
          [
           "10.01%",
           "69.62%",
           "20.37%",
           95.38
          ],
          [
           "41.5%",
           "34.57%",
           "23.93%",
           112.93
          ],
          [
           "16.9%",
           "50.67%",
           "32.43%",
           106.9
          ],
          [
           "15.21%",
           "41.27%",
           "43.52%",
           107.14
          ],
          [
           "6.54%",
           "73.12%",
           "20.34%",
           92.89
          ],
          [
           "66.77%",
           "30.78%",
           "2.45%",
           100.06
          ],
          [
           "11.78%",
           "65.0%",
           "23.23%",
           99.07
          ],
          [
           "43.21%",
           "38.02%",
           "18.77%",
           111.39
          ],
          [
           "1.96%",
           "37.19%",
           "60.85%",
           100.97
          ],
          [
           "38.12%",
           "4.24%",
           "57.65%",
           103.79
          ],
          [
           "25.89%",
           "45.13%",
           "28.98%",
           109.79
          ],
          [
           "45.35%",
           "51.67%",
           "2.99%",
           96.16
          ],
          [
           "34.68%",
           "32.88%",
           "32.44%",
           112.51
          ],
          [
           "24.51%",
           "43.79%",
           "31.7%",
           109.86
          ],
          [
           "40.83%",
           "1.82%",
           "57.36%",
           103.56
          ],
          [
           "47.76%",
           "11.71%",
           "40.53%",
           110.13
          ],
          [
           "50.44%",
           "49.03%",
           "0.53%",
           94.56
          ],
          [
           "26.46%",
           "12.14%",
           "61.4%",
           103
          ],
          [
           "30.9%",
           "21.6%",
           "47.5%",
           108.58
          ],
          [
           "3.41%",
           "60.13%",
           "36.46%",
           101.34
          ],
          [
           "48.92%",
           "43.52%",
           "7.56%",
           103.59
          ],
          [
           "35.69%",
           "46.47%",
           "17.84%",
           108.41
          ],
          [
           "32.01%",
           "19.56%",
           "48.42%",
           108.24
          ],
          [
           "49.33%",
           "1.6%",
           "49.07%",
           105.98
          ],
          [
           "53.16%",
           "19.88%",
           "26.96%",
           113.11
          ],
          [
           "25.75%",
           "35.41%",
           "38.85%",
           110.29
          ],
          [
           "40.05%",
           "39.27%",
           "20.69%",
           111.54
          ],
          [
           "30.53%",
           "20.35%",
           "49.12%",
           107.97
          ],
          [
           "37.75%",
           "21.62%",
           "40.63%",
           111.01
          ],
          [
           "30.4%",
           "5.48%",
           "64.12%",
           101.63
          ],
          [
           "28.66%",
           "18.75%",
           "52.59%",
           106.6
          ],
          [
           "34.49%",
           "22.87%",
           "42.63%",
           110.35
          ],
          [
           "44.6%",
           "12.4%",
           "43.0%",
           109.58
          ],
          [
           "41.61%",
           "10.45%",
           "47.94%",
           107.82
          ],
          [
           "4.62%",
           "36.24%",
           "59.14%",
           101.89
          ],
          [
           "32.7%",
           "50.89%",
           "16.41%",
           105.91
          ],
          [
           "0.88%",
           "63.28%",
           "35.83%",
           99.71
          ],
          [
           "32.68%",
           "58.54%",
           "8.78%",
           97.54
          ],
          [
           "23.48%",
           "70.83%",
           "5.69%",
           87.18
          ],
          [
           "20.72%",
           "35.64%",
           "43.65%",
           108.51
          ],
          [
           "22.11%",
           "19.79%",
           "58.1%",
           104.32
          ],
          [
           "18.55%",
           "39.25%",
           "42.21%",
           108.19
          ],
          [
           "39.36%",
           "21.8%",
           "38.84%",
           111.56
          ],
          [
           "33.84%",
           "40.77%",
           "25.39%",
           111.53
          ],
          [
           "17.95%",
           "40.48%",
           "41.57%",
           108.09
          ],
          [
           "21.25%",
           "13.48%",
           "65.27%",
           101.5
          ],
          [
           "33.38%",
           "39.75%",
           "26.87%",
           111.78
          ],
          [
           "49.25%",
           "32.7%",
           "18.05%",
           111.99
          ],
          [
           "16.63%",
           "36.69%",
           "46.68%",
           107.08
          ],
          [
           "46.78%",
           "31.55%",
           "21.67%",
           113.02
          ],
          [
           "29.75%",
           "16.42%",
           "53.83%",
           106.09
          ],
          [
           "46.31%",
           "24.66%",
           "29.04%",
           113.5
          ],
          [
           "57.02%",
           "40.54%",
           "2.44%",
           99.24
          ],
          [
           "9.4%",
           "16.63%",
           "73.97%",
           98.04
          ],
          [
           "19.47%",
           "56.03%",
           "24.5%",
           104.73
          ],
          [
           "42.44%",
           "14.64%",
           "42.92%",
           109.87
          ],
          [
           "11.34%",
           "16.25%",
           "72.41%",
           98.65
          ],
          [
           "11.43%",
           "29.35%",
           "59.22%",
           103.03
          ],
          [
           "23.02%",
           "23.05%",
           "53.92%",
           105.92
          ],
          [
           "24.03%",
           "53.09%",
           "22.89%",
           106.23
          ],
          [
           "36.11%",
           "8.46%",
           "55.43%",
           105.02
          ],
          [
           "26.85%",
           "48.31%",
           "24.84%",
           108.68
          ],
          [
           "62.93%",
           "21.27%",
           "15.8%",
           110.34
          ],
          [
           "50.38%",
           "22.7%",
           "26.92%",
           113.44
          ],
          [
           "24.54%",
           "55.65%",
           "19.81%",
           104.33
          ],
          [
           "0.76%",
           "96.43%",
           "2.81%",
           67.46
          ],
          [
           "48.36%",
           "10.27%",
           "41.38%",
           109.67
          ],
          [
           "68.78%",
           "10.32%",
           "20.9%",
           109.42
          ],
          [
           "41.04%",
           "40.23%",
           "18.73%",
           110.82
          ],
          [
           "40.69%",
           "34.13%",
           "25.18%",
           113.05
          ],
          [
           "39.19%",
           "9.17%",
           "51.63%",
           106.43
          ],
          [
           "35.23%",
           "34.08%",
           "30.69%",
           112.64
          ],
          [
           "30.46%",
           "19.14%",
           "50.4%",
           107.47
          ],
          [
           "25.31%",
           "36.36%",
           "38.33%",
           110.26
          ],
          [
           "24.89%",
           "54.81%",
           "20.3%",
           104.91
          ],
          [
           "22.4%",
           "43.19%",
           "34.41%",
           109.47
          ],
          [
           "49.03%",
           "15.73%",
           "35.24%",
           111.87
          ],
          [
           "65.59%",
           "14.71%",
           "19.7%",
           110.44
          ],
          [
           "20.31%",
           "35.93%",
           "43.76%",
           108.4
          ],
          [
           "48.14%",
           "9.12%",
           "42.74%",
           109.13
          ],
          [
           "37.75%",
           "14.89%",
           "47.36%",
           108.45
          ],
          [
           "11.54%",
           "63.13%",
           "25.33%",
           100.48
          ],
          [
           "25.21%",
           "54.24%",
           "20.55%",
           105.28
          ],
          [
           "54.37%",
           "36.1%",
           "9.53%",
           106.83
          ],
          [
           "39.65%",
           "32.57%",
           "27.78%",
           113.2
          ],
          [
           "24.27%",
           "42.08%",
           "33.65%",
           110.03
          ],
          [
           "85.59%",
           "2.58%",
           "11.83%",
           100.68
          ],
          [
           "27.14%",
           "38.43%",
           "34.43%",
           110.9
          ],
          [
           "42.81%",
           "36.93%",
           "20.25%",
           111.99
          ],
          [
           "45.27%",
           "38.01%",
           "16.72%",
           110.7
          ],
          [
           "30.13%",
           "38.19%",
           "31.68%",
           111.58
          ],
          [
           "35.86%",
           "36.12%",
           "28.02%",
           112.58
          ],
          [
           "9.26%",
           "36.96%",
           "53.78%",
           104.04
          ],
          [
           "65.14%",
           "26.89%",
           "7.97%",
           105.58
          ],
          [
           "55.54%",
           "36.7%",
           "7.76%",
           105.28
          ],
          [
           "19.31%",
           "56.88%",
           "23.81%",
           104.2
          ],
          [
           "16.09%",
           "30.26%",
           "53.64%",
           105.31
          ],
          [
           "32.67%",
           "13.31%",
           "54.01%",
           105.91
          ],
          [
           "5.87%",
           "3.2%",
           "90.93%",
           92.41
          ],
          [
           "23.48%",
           "57.92%",
           "18.6%",
           102.69
          ],
          [
           "11.32%",
           "40.79%",
           "47.89%",
           105.56
          ],
          [
           "21.41%",
           "46.21%",
           "32.38%",
           108.82
          ],
          [
           "15.19%",
           "26.46%",
           "58.35%",
           103.75
          ],
          [
           "25.24%",
           "59.08%",
           "15.69%",
           101
          ],
          [
           "27.59%",
           "53.7%",
           "18.71%",
           105.16
          ],
          [
           "12.69%",
           "10.44%",
           "76.87%",
           97.11
          ],
          [
           "22.76%",
           "42.21%",
           "35.03%",
           109.64
          ],
          [
           "69.2%",
           "9.56%",
           "21.24%",
           109.26
          ],
          [
           "28.59%",
           "30.81%",
           "40.6%",
           110.48
          ],
          [
           "19.55%",
           "53.26%",
           "27.19%",
           106.25
          ],
          [
           "42.9%",
           "19.03%",
           "38.07%",
           111.63
          ],
          [
           "0.92%",
           "56.66%",
           "42.42%",
           101.59
          ],
          [
           "18.62%",
           "39.61%",
           "41.76%",
           108.26
          ],
          [
           "22.42%",
           "38.91%",
           "38.67%",
           109.52
          ],
          [
           "34.79%",
           "31.23%",
           "33.98%",
           112.4
          ],
          [
           "12.71%",
           "46.85%",
           "40.44%",
           106.38
          ],
          [
           "31.29%",
           "51.57%",
           "17.14%",
           105.81
          ],
          [
           "25.0%",
           "17.02%",
           "57.98%",
           104.43
          ],
          [
           "28.02%",
           "27.99%",
           "43.99%",
           109.57
          ],
          [
           "67.01%",
           "18.37%",
           "14.62%",
           108.99
          ],
          [
           "38.26%",
           "21.88%",
           "39.87%",
           111.25
          ],
          [
           "1.13%",
           "19.12%",
           "79.75%",
           95.72
          ],
          [
           "28.29%",
           "46.85%",
           "24.86%",
           109.32
          ],
          [
           "29.36%",
           "30.0%",
           "40.64%",
           110.57
          ],
          [
           "25.81%",
           "49.55%",
           "24.64%",
           108.11
          ],
          [
           "57.73%",
           "4.14%",
           "38.13%",
           108.85
          ],
          [
           "35.86%",
           "39.97%",
           "24.17%",
           111.74
          ],
          [
           "40.3%",
           "22.82%",
           "36.89%",
           112.11
          ],
          [
           "48.26%",
           "21.34%",
           "30.4%",
           113.19
          ],
          [
           "84.77%",
           "14.1%",
           "1.14%",
           94.94
          ],
          [
           "54.73%",
           "43.95%",
           "1.32%",
           97.14
          ],
          [
           "32.65%",
           "23.08%",
           "44.27%",
           109.77
          ],
          [
           "42.46%",
           "10.07%",
           "47.47%",
           107.92
          ],
          [
           "48.59%",
           "20.1%",
           "31.32%",
           112.98
          ],
          [
           "40.68%",
           "34.49%",
           "24.83%",
           112.98
          ],
          [
           "32.92%",
           "21.11%",
           "45.97%",
           109.17
          ],
          [
           "65.14%",
           "10.02%",
           "24.84%",
           110.43
          ],
          [
           "19.71%",
           "40.1%",
           "40.18%",
           108.69
          ],
          [
           "15.53%",
           "52.2%",
           "32.27%",
           106.21
          ],
          [
           "19.96%",
           "72.7%",
           "7.34%",
           87.08
          ],
          [
           "29.88%",
           "20.78%",
           "49.34%",
           107.88
          ],
          [
           "51.54%",
           "15.72%",
           "32.73%",
           112.22
          ],
          [
           "37.4%",
           "15.32%",
           "47.28%",
           108.51
          ],
          [
           "39.59%",
           "36.62%",
           "23.79%",
           112.54
          ],
          [
           "22.45%",
           "47.54%",
           "30.01%",
           108.69
          ],
          [
           "50.49%",
           "14.79%",
           "34.71%",
           111.8
          ],
          [
           "31.31%",
           "51.33%",
           "17.36%",
           106.02
          ],
          [
           "46.81%",
           "27.57%",
           "25.61%",
           113.6
          ],
          [
           "39.75%",
           "2.82%",
           "57.43%",
           103.67
          ],
          [
           "4.06%",
           "64.4%",
           "31.55%",
           99.59
          ],
          [
           "29.05%",
           "19.65%",
           "51.3%",
           107.11
          ],
          [
           "50.92%",
           "13.29%",
           "35.79%",
           111.37
          ],
          [
           "17.74%",
           "43.99%",
           "38.27%",
           108.11
          ],
          [
           "47.26%",
           "32.71%",
           "20.03%",
           112.57
          ],
          [
           "46.03%",
           "43.2%",
           "10.78%",
           106.16
          ],
          [
           "27.5%",
           "35.73%",
           "36.78%",
           110.88
          ],
          [
           "72.55%",
           "8.2%",
           "19.25%",
           107.92
          ],
          [
           "35.76%",
           "18.52%",
           "45.72%",
           109.22
          ],
          [
           "51.37%",
           "29.35%",
           "19.28%",
           112.55
          ],
          [
           "35.36%",
           "29.1%",
           "35.54%",
           112.24
          ],
          [
           "20.83%",
           "26.26%",
           "52.91%",
           106.1
          ],
          [
           "26.57%",
           "41.43%",
           "32.0%",
           110.6
          ],
          [
           "50.2%",
           "47.48%",
           "2.32%",
           97.16
          ],
          [
           "29.64%",
           "28.98%",
           "41.37%",
           110.43
          ],
          [
           "15.59%",
           "5.37%",
           "79.04%",
           96.31
          ],
          [
           "32.7%",
           "14.66%",
           "52.64%",
           106.5
          ],
          [
           "81.83%",
           "7.91%",
           "10.26%",
           101.93
          ],
          [
           "17.16%",
           "35.76%",
           "47.08%",
           107.12
          ],
          [
           "35.4%",
           "13.68%",
           "50.92%",
           107.09
          ],
          [
           "17.08%",
           "35.45%",
           "47.48%",
           107.02
          ],
          [
           "24.19%",
           "71.83%",
           "3.97%",
           85.11
          ],
          [
           "50.49%",
           "48.42%",
           "1.09%",
           95.44
          ],
          [
           "18.86%",
           "74.99%",
           "6.15%",
           84.6
          ],
          [
           "53.53%",
           "12.02%",
           "34.45%",
           111.3
          ],
          [
           "69.89%",
           "21.25%",
           "8.86%",
           105.4
          ],
          [
           "44.18%",
           "10.21%",
           "45.61%",
           108.51
          ],
          [
           "10.35%",
           "40.88%",
           "48.76%",
           105.18
          ],
          [
           "37.11%",
           "33.71%",
           "29.18%",
           112.91
          ],
          [
           "49.84%",
           "13.03%",
           "37.13%",
           111.09
          ],
          [
           "65.62%",
           "15.3%",
           "19.09%",
           110.38
          ],
          [
           "15.45%",
           "38.81%",
           "45.74%",
           106.95
          ],
          [
           "44.49%",
           "3.49%",
           "52.02%",
           105.5
          ],
          [
           "23.36%",
           "44.04%",
           "32.6%",
           109.59
          ],
          [
           "31.26%",
           "32.53%",
           "36.21%",
           111.63
          ],
          [
           "70.85%",
           "25.07%",
           "4.08%",
           101.36
          ],
          [
           "23.66%",
           "54.99%",
           "21.36%",
           105
          ],
          [
           "3.46%",
           "53.37%",
           "43.17%",
           102.85
          ],
          [
           "41.4%",
           "18.68%",
           "39.93%",
           111.1
          ],
          [
           "20.09%",
           "73.09%",
           "6.82%",
           86.43
          ],
          [
           "52.64%",
           "0.92%",
           "46.44%",
           106.48
          ],
          [
           "34.41%",
           "5.61%",
           "59.98%",
           103.12
          ],
          [
           "25.11%",
           "15.3%",
           "59.6%",
           103.77
          ],
          [
           "23.44%",
           "48.37%",
           "28.19%",
           108.53
          ],
          [
           "20.02%",
           "57.77%",
           "22.21%",
           103.51
          ],
          [
           "43.35%",
           "18.05%",
           "38.61%",
           111.41
          ],
          [
           "45.85%",
           "43.12%",
           "11.03%",
           106.36
          ],
          [
           "41.71%",
           "37.94%",
           "20.35%",
           111.79
          ],
          [
           "57.65%",
           "23.63%",
           "18.72%",
           112.03
          ],
          [
           "54.28%",
           "24.08%",
           "21.63%",
           112.94
          ],
          [
           "37.24%",
           "44.7%",
           "18.06%",
           109.17
          ],
          [
           "7.07%",
           "39.33%",
           "53.59%",
           103.57
          ],
          [
           "9.51%",
           "18.45%",
           "72.04%",
           98.7
          ],
          [
           "47.38%",
           "45.51%",
           "7.11%",
           102.55
          ],
          [
           "38.6%",
           "49.67%",
           "11.73%",
           104.24
          ],
          [
           "24.07%",
           "11.5%",
           "64.43%",
           101.81
          ],
          [
           "41.94%",
           "21.74%",
           "36.32%",
           112.22
          ],
          [
           "34.08%",
           "14.6%",
           "51.32%",
           106.99
          ],
          [
           "39.29%",
           "51.8%",
           "8.91%",
           101.34
          ],
          [
           "8.06%",
           "71.92%",
           "20.02%",
           93.66
          ],
          [
           "39.23%",
           "21.4%",
           "39.37%",
           111.39
          ],
          [
           "15.53%",
           "33.51%",
           "50.96%",
           105.94
          ],
          [
           "41.91%",
           "17.53%",
           "40.56%",
           110.84
          ],
          [
           "26.47%",
           "26.33%",
           "47.2%",
           108.46
          ],
          [
           "36.59%",
           "26.0%",
           "37.41%",
           111.93
          ],
          [
           "36.88%",
           "56.21%",
           "6.92%",
           97.48
          ],
          [
           "86.74%",
           "7.95%",
           "5.3%",
           97.21
          ],
          [
           "45.49%",
           "7.57%",
           "46.94%",
           107.71
          ],
          [
           "21.8%",
           "69.28%",
           "8.93%",
           90.58
          ],
          [
           "10.45%",
           "48.47%",
           "41.08%",
           105.55
          ],
          [
           "27.92%",
           "37.85%",
           "34.23%",
           111.09
          ],
          [
           "17.14%",
           "29.5%",
           "53.36%",
           105.54
          ],
          [
           "27.01%",
           "52.12%",
           "20.87%",
           106.47
          ],
          [
           "55.15%",
           "12.65%",
           "32.2%",
           111.65
          ],
          [
           "45.23%",
           "38.2%",
           "16.56%",
           110.6
          ],
          [
           "58.15%",
           "1.13%",
           "40.72%",
           107.62
          ],
          [
           "35.34%",
           "28.42%",
           "36.25%",
           112.11
          ],
          [
           "55.75%",
           "28.24%",
           "16.01%",
           111.27
          ],
          [
           "73.57%",
           "26.27%",
           "0.16%",
           96.82
          ],
          [
           "37.36%",
           "54.59%",
           "8.05%",
           99.26
          ],
          [
           "12.82%",
           "37.85%",
           "49.34%",
           105.72
          ],
          [
           "53.12%",
           "46.61%",
           "0.27%",
           95.1
          ],
          [
           "37.6%",
           "37.79%",
           "24.61%",
           112.32
          ],
          [
           "13.55%",
           "23.75%",
           "62.7%",
           102.15
          ],
          [
           "37.12%",
           "54.39%",
           "8.49%",
           99.7
          ],
          [
           "39.67%",
           "0.92%",
           "59.41%",
           102.76
          ],
          [
           "4.85%",
           "42.62%",
           "52.53%",
           103.15
          ],
          [
           "39.51%",
           "45.89%",
           "14.6%",
           107.39
          ],
          [
           "64.01%",
           "1.03%",
           "34.96%",
           108.09
          ],
          [
           "56.66%",
           "26.29%",
           "17.05%",
           111.64
          ],
          [
           "52.94%",
           "28.6%",
           "18.46%",
           112.29
          ],
          [
           "42.25%",
           "44.76%",
           "12.99%",
           107
          ],
          [
           "45.81%",
           "12.22%",
           "41.97%",
           109.84
          ],
          [
           "44.43%",
           "13.95%",
           "41.62%",
           110.17
          ],
          [
           "13.41%",
           "49.94%",
           "36.65%",
           106.27
          ],
          [
           "45.16%",
           "11.93%",
           "42.91%",
           109.54
          ],
          [
           "36.25%",
           "7.15%",
           "56.6%",
           104.47
          ],
          [
           "36.75%",
           "12.72%",
           "50.53%",
           107.16
          ],
          [
           "16.65%",
           "67.4%",
           "15.95%",
           95.56
          ],
          [
           "47.67%",
           "42.76%",
           "9.57%",
           105.44
          ],
          [
           "51.46%",
           "46.4%",
           "2.13%",
           97.32
          ],
          [
           "41.37%",
           "30.96%",
           "27.67%",
           113.39
          ],
          [
           "2.02%",
           "40.19%",
           "57.78%",
           101.59
          ],
          [
           "15.62%",
           "56.59%",
           "27.79%",
           104.42
          ],
          [
           "50.84%",
           "28.7%",
           "20.47%",
           112.88
          ],
          [
           "40.98%",
           "13.8%",
           "45.22%",
           109.07
          ],
          [
           "38.87%",
           "28.87%",
           "32.27%",
           112.99
          ],
          [
           "6.93%",
           "43.83%",
           "49.24%",
           104.14
          ],
          [
           "20.87%",
           "27.38%",
           "51.75%",
           106.48
          ],
          [
           "43.22%",
           "24.67%",
           "32.11%",
           113.15
          ],
          [
           "45.57%",
           "30.21%",
           "24.22%",
           113.43
          ],
          [
           "32.81%",
           "20.63%",
           "46.57%",
           108.94
          ],
          [
           "27.59%",
           "64.24%",
           "8.17%",
           93.5
          ],
          [
           "63.29%",
           "5.94%",
           "30.77%",
           109.76
          ],
          [
           "33.53%",
           "29.7%",
           "36.77%",
           111.84
          ],
          [
           "6.41%",
           "17.62%",
           "75.97%",
           97.22
          ],
          [
           "36.17%",
           "21.64%",
           "42.19%",
           110.51
          ],
          [
           "44.92%",
           "17.49%",
           "37.6%",
           111.61
          ],
          [
           "29.55%",
           "31.59%",
           "38.85%",
           110.96
          ],
          [
           "8.73%",
           "3.91%",
           "87.36%",
           93.53
          ],
          [
           "52.0%",
           "34.46%",
           "13.54%",
           109.76
          ],
          [
           "33.3%",
           "30.57%",
           "36.13%",
           111.92
          ],
          [
           "48.82%",
           "42.02%",
           "9.16%",
           105.34
          ],
          [
           "63.38%",
           "7.69%",
           "28.92%",
           110.23
          ],
          [
           "14.41%",
           "75.15%",
           "10.43%",
           87.3
          ],
          [
           "26.21%",
           "43.35%",
           "30.44%",
           110.24
          ],
          [
           "78.25%",
           "7.01%",
           "14.74%",
           104.91
          ],
          [
           "44.26%",
           "30.31%",
           "25.44%",
           113.48
          ],
          [
           "45.1%",
           "44.1%",
           "10.8%",
           105.89
          ],
          [
           "39.57%",
           "34.02%",
           "26.41%",
           113.06
          ],
          [
           "44.73%",
           "35.1%",
           "20.17%",
           112.3
          ],
          [
           "48.65%",
           "21.36%",
           "29.99%",
           113.22
          ],
          [
           "55.2%",
           "40.09%",
           "4.71%",
           101.78
          ],
          [
           "21.01%",
           "68.73%",
           "10.26%",
           91.8
          ],
          [
           "27.44%",
           "23.53%",
           "49.02%",
           107.91
          ],
          [
           "25.78%",
           "49.65%",
           "24.57%",
           108.06
          ],
          [
           "0.97%",
           "44.19%",
           "54.84%",
           101.75
          ],
          [
           "10.68%",
           "60.6%",
           "28.72%",
           102.07
          ],
          [
           "8.04%",
           "36.65%",
           "55.31%",
           103.45
          ],
          [
           "42.78%",
           "30.88%",
           "26.34%",
           113.45
          ],
          [
           "9.86%",
           "42.37%",
           "47.77%",
           105.16
          ],
          [
           "21.65%",
           "6.57%",
           "71.78%",
           98.91
          ],
          [
           "32.13%",
           "34.16%",
           "33.71%",
           112.01
          ],
          [
           "49.58%",
           "22.65%",
           "27.77%",
           113.43
          ],
          [
           "18.6%",
           "5.28%",
           "76.12%",
           97.32
          ],
          [
           "14.92%",
           "50.41%",
           "34.67%",
           106.56
          ],
          [
           "26.01%",
           "4.85%",
           "69.14%",
           99.78
          ],
          [
           "31.23%",
           "25.77%",
           "43.0%",
           110.11
          ],
          [
           "49.72%",
           "25.61%",
           "24.67%",
           113.51
          ],
          [
           "14.45%",
           "25.54%",
           "60.01%",
           103.13
          ],
          [
           "20.54%",
           "41.39%",
           "38.07%",
           109.01
          ],
          [
           "21.73%",
           "57.33%",
           "20.94%",
           103.57
          ],
          [
           "23.31%",
           "17.39%",
           "59.3%",
           103.88
          ],
          [
           "48.82%",
           "42.2%",
           "8.98%",
           105.14
          ],
          [
           "42.58%",
           "51.37%",
           "6.05%",
           99.23
          ],
          [
           "11.84%",
           "52.06%",
           "36.1%",
           105.47
          ],
          [
           "22.87%",
           "32.29%",
           "44.84%",
           108.67
          ],
          [
           "42.95%",
           "0.57%",
           "56.48%",
           103.64
          ],
          [
           "44.1%",
           "29.4%",
           "26.5%",
           113.55
          ],
          [
           "33.85%",
           "32.07%",
           "34.08%",
           112.26
          ],
          [
           "48.66%",
           "34.17%",
           "17.17%",
           111.52
          ],
          [
           "38.81%",
           "26.08%",
           "35.11%",
           112.53
          ],
          [
           "25.23%",
           "2.97%",
           "71.8%",
           98.73
          ],
          [
           "33.45%",
           "6.36%",
           "60.18%",
           103.12
          ],
          [
           "74.23%",
           "6.28%",
           "19.5%",
           107.22
          ],
          [
           "41.71%",
           "14.66%",
           "43.64%",
           109.66
          ],
          [
           "29.92%",
           "21.02%",
           "49.06%",
           107.98
          ],
          [
           "19.33%",
           "9.21%",
           "71.46%",
           99.09
          ],
          [
           "13.67%",
           "36.57%",
           "49.76%",
           105.83
          ],
          [
           "9.3%",
           "56.67%",
           "34.04%",
           103.64
          ],
          [
           "5.82%",
           "40.22%",
           "53.95%",
           103.2
          ],
          [
           "43.82%",
           "16.41%",
           "39.77%",
           110.95
          ],
          [
           "35.81%",
           "32.33%",
           "31.85%",
           112.7
          ],
          [
           "30.36%",
           "25.96%",
           "43.68%",
           109.85
          ],
          [
           "35.39%",
           "44.18%",
           "20.43%",
           109.94
          ],
          [
           "79.06%",
           "0.53%",
           "20.4%",
           104.98
          ],
          [
           "14.07%",
           "24.6%",
           "61.33%",
           102.65
          ],
          [
           "43.45%",
           "24.76%",
           "31.79%",
           113.2
          ],
          [
           "43.55%",
           "45.14%",
           "11.3%",
           105.85
          ],
          [
           "49.1%",
           "4.39%",
           "46.51%",
           107.23
          ],
          [
           "74.58%",
           "3.06%",
           "22.36%",
           106.97
          ],
          [
           "56.3%",
           "17.97%",
           "25.72%",
           112.7
          ],
          [
           "21.49%",
           "26.2%",
           "52.31%",
           106.36
          ],
          [
           "0.19%",
           "57.59%",
           "42.22%",
           101.21
          ],
          [
           "10.76%",
           "22.61%",
           "66.63%",
           100.6
          ],
          [
           "39.18%",
           "28.42%",
           "32.41%",
           113
          ],
          [
           "14.16%",
           "57.69%",
           "28.15%",
           103.79
          ],
          [
           "55.78%",
           "26.49%",
           "17.72%",
           111.93
          ],
          [
           "16.86%",
           "15.41%",
           "67.73%",
           100.51
          ],
          [
           "39.74%",
           "52.28%",
           "7.99%",
           100.4
          ],
          [
           "46.72%",
           "20.4%",
           "32.89%",
           112.81
          ],
          [
           "37.36%",
           "48.44%",
           "14.2%",
           106.13
          ],
          [
           "18.44%",
           "22.12%",
           "59.45%",
           103.64
          ],
          [
           "14.07%",
           "4.35%",
           "81.57%",
           95.43
          ],
          [
           "47.71%",
           "11.12%",
           "41.17%",
           109.87
          ],
          [
           "29.93%",
           "60.27%",
           "9.8%",
           97.17
          ],
          [
           "31.68%",
           "26.36%",
           "41.95%",
           110.45
          ],
          [
           "76.01%",
           "4.19%",
           "19.79%",
           106.43
          ],
          [
           "25.82%",
           "8.35%",
           "65.83%",
           101.17
          ],
          [
           "56.93%",
           "37.72%",
           "5.36%",
           102.86
          ],
          [
           "51.52%",
           "24.71%",
           "23.77%",
           113.37
          ],
          [
           "53.06%",
           "26.97%",
           "19.97%",
           112.72
          ],
          [
           "30.26%",
           "46.61%",
           "23.13%",
           109.34
          ],
          [
           "49.38%",
           "17.86%",
           "32.76%",
           112.54
          ],
          [
           "4.19%",
           "41.34%",
           "54.47%",
           102.69
          ],
          [
           "71.17%",
           "16.06%",
           "12.77%",
           107.09
          ],
          [
           "19.71%",
           "34.09%",
           "46.2%",
           107.81
          ],
          [
           "45.37%",
           "49.88%",
           "4.75%",
           98.7
          ],
          [
           "16.79%",
           "54.27%",
           "28.93%",
           105.61
          ],
          [
           "38.35%",
           "50.19%",
           "11.46%",
           103.84
          ],
          [
           "5.12%",
           "50.73%",
           "44.15%",
           103.62
          ],
          [
           "38.47%",
           "46.56%",
           "14.97%",
           107.29
          ],
          [
           "28.76%",
           "46.65%",
           "24.59%",
           109.4
          ],
          [
           "13.05%",
           "14.95%",
           "71.99%",
           98.86
          ],
          [
           "30.55%",
           "26.19%",
           "43.25%",
           109.99
          ],
          [
           "55.14%",
           "31.87%",
           "12.99%",
           109.62
          ],
          [
           "25.4%",
           "44.11%",
           "30.49%",
           109.96
          ],
          [
           "46.26%",
           "31.6%",
           "22.14%",
           113.09
          ],
          [
           "23.36%",
           "41.52%",
           "35.12%",
           109.83
          ],
          [
           "17.77%",
           "38.65%",
           "43.58%",
           107.83
          ],
          [
           "57.07%",
           "9.82%",
           "33.11%",
           110.9
          ],
          [
           "26.5%",
           "36.56%",
           "36.94%",
           110.65
          ],
          [
           "54.12%",
           "5.69%",
           "40.19%",
           108.94
          ],
          [
           "52.08%",
           "30.23%",
           "17.69%",
           112
          ],
          [
           "27.59%",
           "51.09%",
           "21.32%",
           107.07
          ],
          [
           "28.84%",
           "33.28%",
           "37.89%",
           111.01
          ],
          [
           "36.04%",
           "36.65%",
           "27.31%",
           112.53
          ],
          [
           "22.41%",
           "53.35%",
           "24.25%",
           106.19
          ],
          [
           "11.11%",
           "55.09%",
           "33.8%",
           104.5
          ],
          [
           "33.36%",
           "26.37%",
           "40.27%",
           111.03
          ],
          [
           "18.82%",
           "42.41%",
           "38.78%",
           108.47
          ],
          [
           "55.47%",
           "35.19%",
           "9.33%",
           106.78
          ],
          [
           "68.22%",
           "11.89%",
           "19.89%",
           109.6
          ],
          [
           "47.61%",
           "23.59%",
           "28.81%",
           113.47
          ],
          [
           "10.22%",
           "65.33%",
           "24.45%",
           98.99
          ],
          [
           "13.9%",
           "42.6%",
           "43.5%",
           106.75
          ],
          [
           "22.06%",
           "44.94%",
           "33.0%",
           109.18
          ],
          [
           "79.06%",
           "9.23%",
           "11.72%",
           103.71
          ],
          [
           "50.18%",
           "32.95%",
           "16.88%",
           111.53
          ],
          [
           "82.59%",
           "8.16%",
           "9.25%",
           101.16
          ],
          [
           "21.02%",
           "38.46%",
           "40.52%",
           109.01
          ],
          [
           "49.54%",
           "7.5%",
           "42.96%",
           108.76
          ],
          [
           "58.46%",
           "13.29%",
           "28.26%",
           111.84
          ],
          [
           "43.73%",
           "31.08%",
           "25.2%",
           113.42
          ],
          [
           "7.54%",
           "19.73%",
           "72.73%",
           98.35
          ],
          [
           "24.84%",
           "57.15%",
           "18.01%",
           102.99
          ],
          [
           "29.67%",
           "1.06%",
           "69.26%",
           99.47
          ],
          [
           "14.54%",
           "19.8%",
           "65.66%",
           101.18
          ],
          [
           "20.18%",
           "10.22%",
           "69.6%",
           99.8
          ],
          [
           "27.23%",
           "24.61%",
           "48.16%",
           108.2
          ],
          [
           "41.2%",
           "43.5%",
           "15.3%",
           108.59
          ],
          [
           "5.02%",
           "64.49%",
           "30.48%",
           99.61
          ],
          [
           "35.12%",
           "22.17%",
           "42.72%",
           110.33
          ],
          [
           "12.65%",
           "41.4%",
           "45.95%",
           106.17
          ],
          [
           "13.07%",
           "21.63%",
           "65.3%",
           101.22
          ],
          [
           "47.27%",
           "17.71%",
           "35.02%",
           112.17
          ],
          [
           "0.35%",
           "29.79%",
           "69.86%",
           98.49
          ],
          [
           "18.36%",
           "55.36%",
           "26.29%",
           105.15
          ],
          [
           "63.46%",
           "6.2%",
           "30.34%",
           109.83
          ],
          [
           "31.34%",
           "27.32%",
           "41.34%",
           110.59
          ],
          [
           "40.78%",
           "37.16%",
           "22.06%",
           112.25
          ],
          [
           "19.09%",
           "29.8%",
           "51.11%",
           106.46
          ],
          [
           "18.42%",
           "66.21%",
           "15.37%",
           96.16
          ],
          [
           "47.38%",
           "2.97%",
           "49.64%",
           106.1
          ],
          [
           "84.6%",
           "4.92%",
           "10.48%",
           100.73
          ],
          [
           "32.23%",
           "25.57%",
           "42.2%",
           110.41
          ],
          [
           "44.95%",
           "9.92%",
           "45.13%",
           108.61
          ],
          [
           "22.96%",
           "37.7%",
           "39.34%",
           109.61
          ],
          [
           "17.28%",
           "6.72%",
           "76.0%",
           97.4
          ],
          [
           "34.4%",
           "25.31%",
           "40.29%",
           111.07
          ],
          [
           "24.0%",
           "59.45%",
           "16.55%",
           101.1
          ],
          [
           "58.31%",
           "7.18%",
           "34.51%",
           110.08
          ],
          [
           "39.89%",
           "44.32%",
           "15.79%",
           108.51
          ],
          [
           "33.02%",
           "31.15%",
           "35.83%",
           111.93
          ],
          [
           "14.9%",
           "17.32%",
           "67.78%",
           100.44
          ],
          [
           "14.02%",
           "12.37%",
           "73.61%",
           98.29
          ],
          [
           "16.83%",
           "72.6%",
           "10.56%",
           89.22
          ],
          [
           "31.54%",
           "43.11%",
           "25.35%",
           110.77
          ],
          [
           "42.38%",
           "21.97%",
           "35.65%",
           112.39
          ],
          [
           "46.4%",
           "23.58%",
           "30.02%",
           113.38
          ],
          [
           "25.22%",
           "51.47%",
           "23.3%",
           107.1
          ],
          [
           "19.57%",
           "37.22%",
           "43.21%",
           108.32
          ],
          [
           "31.57%",
           "44.52%",
           "23.9%",
           110.22
          ],
          [
           "47.14%",
           "39.41%",
           "13.45%",
           108.85
          ],
          [
           "12.1%",
           "34.15%",
           "53.76%",
           104.62
          ],
          [
           "30.62%",
           "38.14%",
           "31.24%",
           111.68
          ],
          [
           "36.78%",
           "10.81%",
           "52.41%",
           106.32
          ],
          [
           "54.53%",
           "40.13%",
           "5.34%",
           102.41
          ],
          [
           "39.33%",
           "6.41%",
           "54.26%",
           105.21
          ],
          [
           "21.42%",
           "47.96%",
           "30.62%",
           108.42
          ],
          [
           "21.6%",
           "26.27%",
           "52.13%",
           106.43
          ],
          [
           "36.04%",
           "34.81%",
           "29.15%",
           112.72
          ],
          [
           "30.17%",
           "29.59%",
           "40.24%",
           110.75
          ],
          [
           "38.74%",
           "49.17%",
           "12.1%",
           104.69
          ],
          [
           "18.05%",
           "52.98%",
           "28.97%",
           106.27
          ],
          [
           "36.64%",
           "39.05%",
           "24.32%",
           112
          ],
          [
           "56.65%",
           "43.34%",
           "0.02%",
           95.74
          ],
          [
           "45.54%",
           "50.23%",
           "4.23%",
           98.05
          ],
          [
           "24.9%",
           "37.6%",
           "37.51%",
           110.23
          ],
          [
           "52.23%",
           "1.0%",
           "46.77%",
           106.42
          ],
          [
           "13.77%",
           "33.35%",
           "52.88%",
           105.14
          ],
          [
           "14.49%",
           "11.84%",
           "73.67%",
           98.28
          ],
          [
           "39.35%",
           "30.45%",
           "30.2%",
           113.19
          ],
          [
           "40.06%",
           "59.8%",
           "0.14%",
           89.05
          ],
          [
           "4.74%",
           "48.27%",
           "47.0%",
           103.53
          ],
          [
           "49.82%",
           "39.42%",
           "10.76%",
           107.17
          ],
          [
           "12.98%",
           "51.34%",
           "35.68%",
           105.9
          ],
          [
           "42.58%",
           "24.85%",
           "32.58%",
           113.07
          ],
          [
           "49.3%",
           "1.7%",
           "49.0%",
           106.02
          ],
          [
           "40.01%",
           "28.2%",
           "31.78%",
           113.12
          ],
          [
           "33.0%",
           "22.65%",
           "44.35%",
           109.74
          ],
          [
           "36.58%",
           "37.49%",
           "25.93%",
           112.4
          ],
          [
           "28.2%",
           "3.66%",
           "68.14%",
           100.06
          ],
          [
           "36.95%",
           "43.3%",
           "19.75%",
           110.11
          ],
          [
           "59.35%",
           "29.26%",
           "11.38%",
           108.55
          ],
          [
           "10.77%",
           "70.14%",
           "19.09%",
           94.68
          ],
          [
           "40.7%",
           "43.57%",
           "15.73%",
           108.75
          ],
          [
           "8.41%",
           "35.84%",
           "55.75%",
           103.43
          ],
          [
           "52.56%",
           "25.17%",
           "22.27%",
           113.16
          ],
          [
           "31.98%",
           "5.28%",
           "62.74%",
           102.11
          ],
          [
           "23.59%",
           "26.88%",
           "49.53%",
           107.46
          ],
          [
           "36.15%",
           "56.89%",
           "6.96%",
           97.13
          ],
          [
           "13.9%",
           "41.46%",
           "44.64%",
           106.66
          ],
          [
           "23.5%",
           "31.14%",
           "45.36%",
           108.64
          ],
          [
           "6.92%",
           "54.95%",
           "38.13%",
           103.6
          ],
          [
           "14.94%",
           "68.76%",
           "16.3%",
           94.74
          ],
          [
           "41.18%",
           "41.23%",
           "17.59%",
           110.19
          ],
          [
           "32.71%",
           "33.22%",
           "34.07%",
           112.09
          ],
          [
           "53.13%",
           "13.88%",
           "32.99%",
           111.85
          ],
          [
           "58.68%",
           "23.79%",
           "17.53%",
           111.58
          ],
          [
           "31.07%",
           "21.33%",
           "47.61%",
           108.54
          ],
          [
           "38.93%",
           "22.94%",
           "38.13%",
           111.78
          ],
          [
           "45.28%",
           "27.89%",
           "26.83%",
           113.6
          ],
          [
           "34.28%",
           "30.25%",
           "35.47%",
           112.14
          ],
          [
           "33.24%",
           "43.2%",
           "23.55%",
           110.68
          ],
          [
           "28.8%",
           "35.95%",
           "35.25%",
           111.27
          ],
          [
           "4.17%",
           "59.21%",
           "36.62%",
           101.8
          ],
          [
           "57.0%",
           "18.82%",
           "24.17%",
           112.66
          ],
          [
           "35.02%",
           "18.79%",
           "46.19%",
           109.06
          ],
          [
           "7.16%",
           "40.8%",
           "52.04%",
           103.85
          ],
          [
           "7.07%",
           "52.72%",
           "40.21%",
           104.05
          ],
          [
           "56.22%",
           "2.72%",
           "41.06%",
           108.02
          ],
          [
           "46.88%",
           "38.69%",
           "14.43%",
           109.54
          ],
          [
           "15.67%",
           "45.7%",
           "38.63%",
           107.39
          ],
          [
           "12.85%",
           "22.21%",
           "64.94%",
           101.33
          ],
          [
           "39.09%",
           "42.63%",
           "18.28%",
           109.97
          ],
          [
           "22.21%",
           "56.13%",
           "21.66%",
           104.39
          ],
          [
           "19.2%",
           "30.56%",
           "50.24%",
           106.72
          ],
          [
           "40.85%",
           "57.99%",
           "1.16%",
           91.12
          ],
          [
           "10.34%",
           "60.48%",
           "29.19%",
           102.11
          ],
          [
           "40.49%",
           "36.86%",
           "22.65%",
           112.39
          ],
          [
           "38.69%",
           "48.16%",
           "13.15%",
           105.72
          ],
          [
           "0.4%",
           "28.03%",
           "71.56%",
           98.03
          ],
          [
           "22.49%",
           "35.94%",
           "41.56%",
           109.23
          ],
          [
           "3.78%",
           "46.55%",
           "49.67%",
           103.1
          ],
          [
           "52.36%",
           "11.19%",
           "36.45%",
           110.85
          ],
          [
           "20.33%",
           "35.69%",
           "43.98%",
           108.37
          ],
          [
           "63.02%",
           "9.63%",
           "27.34%",
           110.71
          ],
          [
           "28.73%",
           "35.98%",
           "35.29%",
           111.25
          ],
          [
           "27.3%",
           "49.51%",
           "23.18%",
           108.05
          ],
          [
           "29.53%",
           "54.89%",
           "15.58%",
           103.46
          ],
          [
           "60.24%",
           "13.66%",
           "26.1%",
           111.75
          ],
          [
           "41.16%",
           "33.7%",
           "25.14%",
           113.11
          ],
          [
           "6.41%",
           "15.49%",
           "78.1%",
           96.53
          ],
          [
           "32.02%",
           "24.28%",
           "43.7%",
           109.93
          ],
          [
           "46.48%",
           "48.48%",
           "5.04%",
           99.55
          ],
          [
           "15.34%",
           "49.23%",
           "35.43%",
           106.89
          ],
          [
           "18.58%",
           "45.94%",
           "35.48%",
           108.2
          ],
          [
           "7.6%",
           "37.71%",
           "54.69%",
           103.48
          ],
          [
           "41.11%",
           "9.43%",
           "49.46%",
           107.19
          ],
          [
           "27.92%",
           "41.67%",
           "30.4%",
           110.81
          ],
          [
           "18.36%",
           "61.25%",
           "20.39%",
           101.03
          ],
          [
           "36.34%",
           "38.06%",
           "25.61%",
           112.27
          ],
          [
           "44.64%",
           "6.26%",
           "49.1%",
           106.85
          ],
          [
           "15.31%",
           "25.75%",
           "58.94%",
           103.57
          ],
          [
           "15.74%",
           "28.07%",
           "56.2%",
           104.5
          ],
          [
           "61.12%",
           "1.98%",
           "36.9%",
           108.31
          ],
          [
           "18.08%",
           "32.52%",
           "49.4%",
           106.77
          ],
          [
           "17.6%",
           "55.54%",
           "26.87%",
           105.04
          ],
          [
           "22.4%",
           "64.9%",
           "12.7%",
           95.83
          ],
          [
           "41.14%",
           "40.55%",
           "18.31%",
           110.61
          ],
          [
           "39.29%",
           "31.04%",
           "29.66%",
           113.2
          ],
          [
           "22.34%",
           "36.18%",
           "41.48%",
           109.21
          ],
          [
           "50.05%",
           "30.28%",
           "19.67%",
           112.64
          ],
          [
           "46.67%",
           "43.84%",
           "9.49%",
           105.04
          ],
          [
           "22.28%",
           "35.54%",
           "42.19%",
           109.08
          ],
          [
           "26.22%",
           "48.47%",
           "25.3%",
           108.61
          ],
          [
           "18.48%",
           "3.6%",
           "77.92%",
           96.65
          ],
          [
           "81.79%",
           "9.39%",
           "8.82%",
           101.31
          ],
          [
           "32.73%",
           "30.06%",
           "37.2%",
           111.67
          ],
          [
           "19.76%",
           "45.82%",
           "34.42%",
           108.52
          ],
          [
           "4.44%",
           "45.64%",
           "49.92%",
           103.3
          ],
          [
           "64.41%",
           "29.41%",
           "6.18%",
           104.07
          ],
          [
           "20.74%",
           "57.1%",
           "22.15%",
           103.89
          ],
          [
           "81.59%",
           "4.14%",
           "14.27%",
           103.25
          ],
          [
           "0.94%",
           "63.02%",
           "36.03%",
           99.82
          ],
          [
           "53.89%",
           "8.71%",
           "37.4%",
           110.15
          ],
          [
           "24.25%",
           "31.86%",
           "43.89%",
           109.11
          ],
          [
           "46.08%",
           "1.02%",
           "52.9%",
           104.8
          ],
          [
           "41.12%",
           "27.8%",
           "31.07%",
           113.25
          ],
          [
           "54.56%",
           "13.54%",
           "31.9%",
           111.87
          ],
          [
           "37.19%",
           "27.44%",
           "35.37%",
           112.4
          ],
          [
           "23.4%",
           "46.23%",
           "30.38%",
           109.17
          ],
          [
           "43.16%",
           "32.81%",
           "24.02%",
           113.18
          ],
          [
           "28.26%",
           "35.61%",
           "36.13%",
           111.09
          ],
          [
           "38.61%",
           "31.34%",
           "30.05%",
           113.12
          ],
          [
           "32.21%",
           "43.8%",
           "24.0%",
           110.49
          ],
          [
           "60.29%",
           "21.47%",
           "18.23%",
           111.51
          ],
          [
           "15.46%",
           "39.61%",
           "44.93%",
           107.06
          ],
          [
           "26.86%",
           "11.77%",
           "61.36%",
           103
          ],
          [
           "68.7%",
           "29.59%",
           "1.71%",
           99.11
          ],
          [
           "59.63%",
           "15.52%",
           "24.86%",
           112.05
          ],
          [
           "21.19%",
           "37.62%",
           "41.19%",
           108.98
          ],
          [
           "74.41%",
           "9.86%",
           "15.73%",
           106.75
          ],
          [
           "50.17%",
           "22.34%",
           "27.49%",
           113.41
          ],
          [
           "11.42%",
           "46.11%",
           "42.47%",
           105.96
          ],
          [
           "70.05%",
           "12.84%",
           "17.12%",
           108.66
          ],
          [
           "27.48%",
           "38.79%",
           "33.73%",
           110.98
          ],
          [
           "47.31%",
           "23.28%",
           "29.41%",
           113.41
          ],
          [
           "7.19%",
           "46.79%",
           "46.02%",
           104.42
          ],
          [
           "25.87%",
           "20.75%",
           "53.38%",
           106.24
          ],
          [
           "21.76%",
           "38.43%",
           "39.81%",
           109.26
          ],
          [
           "28.89%",
           "33.64%",
           "37.48%",
           111.07
          ],
          [
           "30.93%",
           "23.36%",
           "45.7%",
           109.22
          ],
          [
           "41.13%",
           "40.9%",
           "17.97%",
           110.41
          ],
          [
           "34.88%",
           "35.03%",
           "30.08%",
           112.56
          ],
          [
           "17.01%",
           "56.6%",
           "26.39%",
           104.46
          ],
          [
           "38.4%",
           "20.84%",
           "40.76%",
           110.96
          ],
          [
           "73.13%",
           "11.15%",
           "15.71%",
           107.26
          ],
          [
           "44.81%",
           "48.65%",
           "6.54%",
           100.86
          ],
          [
           "49.1%",
           "8.06%",
           "42.84%",
           108.9
          ],
          [
           "46.18%",
           "18.49%",
           "35.33%",
           112.2
          ],
          [
           "15.83%",
           "67.68%",
           "16.5%",
           95.58
          ],
          [
           "38.68%",
           "58.58%",
           "2.74%",
           92.41
          ],
          [
           "8.43%",
           "27.15%",
           "64.42%",
           101.08
          ],
          [
           "39.28%",
           "47.34%",
           "13.38%",
           106.2
          ],
          [
           "37.15%",
           "9.36%",
           "53.49%",
           105.8
          ],
          [
           "52.77%",
           "32.63%",
           "14.6%",
           110.5
          ],
          [
           "51.28%",
           "23.12%",
           "25.61%",
           113.42
          ],
          [
           "32.09%",
           "40.75%",
           "27.16%",
           111.47
          ],
          [
           "85.03%",
           "5.84%",
           "9.13%",
           99.99
          ],
          [
           "43.37%",
           "27.25%",
           "29.38%",
           113.48
          ],
          [
           "9.61%",
           "45.93%",
           "44.46%",
           105.3
          ],
          [
           "13.42%",
           "22.24%",
           "64.34%",
           101.58
          ],
          [
           "57.66%",
           "33.56%",
           "8.78%",
           106.47
          ],
          [
           "25.24%",
           "60.22%",
           "14.54%",
           99.8
          ],
          [
           "30.48%",
           "2.85%",
           "66.67%",
           100.51
          ],
          [
           "6.77%",
           "68.08%",
           "25.16%",
           97.23
          ],
          [
           "38.69%",
           "10.08%",
           "51.23%",
           106.67
          ],
          [
           "54.99%",
           "31.21%",
           "13.81%",
           110.13
          ],
          [
           "52.17%",
           "28.06%",
           "19.78%",
           112.69
          ],
          [
           "45.38%",
           "31.08%",
           "23.54%",
           113.31
          ],
          [
           "30.97%",
           "33.95%",
           "35.08%",
           111.71
          ],
          [
           "60.03%",
           "0.57%",
           "39.4%",
           107.62
          ],
          [
           "62.69%",
           "33.25%",
           "4.06%",
           101.89
          ],
          [
           "33.08%",
           "38.88%",
           "28.04%",
           111.93
          ],
          [
           "26.08%",
           "46.51%",
           "27.41%",
           109.39
          ],
          [
           "46.08%",
           "53.11%",
           "0.81%",
           93.17
          ],
          [
           "54.47%",
           "9.27%",
           "36.26%",
           110.44
          ],
          [
           "34.07%",
           "35.96%",
           "29.97%",
           112.39
          ],
          [
           "29.12%",
           "27.94%",
           "42.94%",
           109.97
          ],
          [
           "4.74%",
           "90.34%",
           "4.93%",
           72.95
          ],
          [
           "52.65%",
           "32.79%",
           "14.56%",
           110.47
          ],
          [
           "40.58%",
           "41.6%",
           "17.82%",
           110.15
          ],
          [
           "32.88%",
           "34.23%",
           "32.88%",
           112.19
          ],
          [
           "25.77%",
           "48.52%",
           "25.71%",
           108.59
          ],
          [
           "10.72%",
           "68.71%",
           "20.57%",
           96.06
          ],
          [
           "34.43%",
           "23.45%",
           "42.12%",
           110.52
          ],
          [
           "26.75%",
           "36.96%",
           "36.29%",
           110.75
          ],
          [
           "49.96%",
           "12.93%",
           "37.11%",
           111.07
          ],
          [
           "1.31%",
           "16.57%",
           "82.12%",
           95.02
          ],
          [
           "4.63%",
           "33.69%",
           "61.69%",
           101.29
          ],
          [
           "28.5%",
           "1.35%",
           "70.15%",
           99.19
          ],
          [
           "61.85%",
           "15.83%",
           "22.31%",
           111.6
          ],
          [
           "45.89%",
           "32.46%",
           "21.65%",
           112.93
          ],
          [
           "38.58%",
           "29.64%",
           "31.78%",
           113.02
          ],
          [
           "40.12%",
           "38.91%",
           "20.97%",
           111.68
          ],
          [
           "50.57%",
           "36.91%",
           "12.53%",
           108.82
          ],
          [
           "41.67%",
           "5.0%",
           "53.33%",
           105.32
          ],
          [
           "41.95%",
           "38.54%",
           "19.51%",
           111.46
          ],
          [
           "30.72%",
           "39.33%",
           "29.95%",
           111.58
          ],
          [
           "21.61%",
           "42.15%",
           "36.25%",
           109.32
          ],
          [
           "3.9%",
           "52.34%",
           "43.75%",
           103.09
          ],
          [
           "43.7%",
           "32.31%",
           "23.99%",
           113.24
          ],
          [
           "38.48%",
           "34.98%",
           "26.54%",
           112.9
          ],
          [
           "8.27%",
           "29.91%",
           "61.82%",
           101.83
          ],
          [
           "40.26%",
           "25.65%",
           "34.09%",
           112.77
          ],
          [
           "29.19%",
           "42.0%",
           "28.81%",
           110.92
          ],
          [
           "10.88%",
           "42.73%",
           "46.4%",
           105.6
          ],
          [
           "16.63%",
           "0.68%",
           "82.7%",
           94.97
          ],
          [
           "57.89%",
           "20.6%",
           "21.5%",
           112.44
          ],
          [
           "22.34%",
           "66.12%",
           "11.54%",
           94.36
          ],
          [
           "26.01%",
           "25.3%",
           "48.69%",
           107.94
          ],
          [
           "45.31%",
           "23.02%",
           "31.67%",
           113.16
          ],
          [
           "27.13%",
           "29.04%",
           "43.82%",
           109.52
          ],
          [
           "36.07%",
           "52.45%",
           "11.48%",
           102.73
          ],
          [
           "34.95%",
           "29.03%",
           "36.02%",
           112.12
          ],
          [
           "70.66%",
           "22.3%",
           "7.04%",
           103.94
          ],
          [
           "11.67%",
           "45.49%",
           "42.84%",
           106.05
          ],
          [
           "70.34%",
           "21.85%",
           "7.81%",
           104.58
          ],
          [
           "35.69%",
           "25.71%",
           "38.6%",
           111.59
          ],
          [
           "25.22%",
           "55.71%",
           "19.07%",
           104.12
          ],
          [
           "14.0%",
           "73.71%",
           "12.29%",
           89.37
          ],
          [
           "11.28%",
           "15.99%",
           "72.73%",
           98.54
          ],
          [
           "45.48%",
           "45.68%",
           "8.83%",
           103.91
          ],
          [
           "38.26%",
           "40.16%",
           "21.59%",
           111.44
          ],
          [
           "61.6%",
           "2.38%",
           "36.02%",
           108.51
          ],
          [
           "39.17%",
           "26.31%",
           "34.52%",
           112.66
          ],
          [
           "16.29%",
           "60.14%",
           "23.57%",
           102.22
          ],
          [
           "41.86%",
           "36.79%",
           "21.34%",
           112.22
          ],
          [
           "38.01%",
           "44.77%",
           "17.22%",
           108.88
          ],
          [
           "9.68%",
           "24.0%",
           "66.33%",
           100.61
          ],
          [
           "33.43%",
           "32.83%",
           "33.74%",
           112.23
          ],
          [
           "28.51%",
           "49.97%",
           "21.52%",
           107.65
          ],
          [
           "63.35%",
           "3.08%",
           "33.57%",
           108.83
          ],
          [
           "12.53%",
           "19.53%",
           "67.94%",
           100.27
          ],
          [
           "33.92%",
           "25.36%",
           "40.72%",
           110.93
          ],
          [
           "14.46%",
           "0.58%",
           "84.96%",
           94.24
          ],
          [
           "39.78%",
           "33.14%",
           "27.08%",
           113.17
          ],
          [
           "15.85%",
           "43.09%",
           "41.06%",
           107.48
          ],
          [
           "20.64%",
           "50.47%",
           "28.89%",
           107.51
          ],
          [
           "20.27%",
           "26.14%",
           "53.58%",
           105.82
          ],
          [
           "42.49%",
           "7.65%",
           "49.86%",
           106.82
          ],
          [
           "60.68%",
           "37.31%",
           "2.01%",
           99.26
          ],
          [
           "29.82%",
           "31.17%",
           "39.01%",
           110.97
          ],
          [
           "30.5%",
           "63.24%",
           "6.26%",
           92.72
          ],
          [
           "9.45%",
           "6.56%",
           "84.0%",
           94.64
          ],
          [
           "33.27%",
           "33.34%",
           "33.39%",
           112.23
          ],
          [
           "51.14%",
           "14.34%",
           "34.53%",
           111.75
          ],
          [
           "26.57%",
           "32.92%",
           "40.5%",
           110.19
          ],
          [
           "38.25%",
           "33.02%",
           "28.73%",
           113.06
          ],
          [
           "15.58%",
           "60.97%",
           "23.45%",
           101.69
          ],
          [
           "29.26%",
           "25.78%",
           "44.96%",
           109.38
          ],
          [
           "34.33%",
           "41.85%",
           "23.82%",
           111.15
          ],
          [
           "63.72%",
           "0.34%",
           "35.95%",
           107.81
          ],
          [
           "51.47%",
           "42.22%",
           "6.31%",
           102.85
          ],
          [
           "41.56%",
           "34.36%",
           "24.08%",
           112.97
          ],
          [
           "43.47%",
           "13.02%",
           "43.51%",
           109.51
          ],
          [
           "55.47%",
           "1.79%",
           "42.74%",
           107.47
          ],
          [
           "67.96%",
           "13.61%",
           "18.43%",
           109.57
          ],
          [
           "31.01%",
           "7.93%",
           "61.06%",
           102.92
          ],
          [
           "31.87%",
           "21.75%",
           "46.37%",
           109.01
          ],
          [
           "18.46%",
           "33.79%",
           "47.75%",
           107.23
          ],
          [
           "60.09%",
           "2.28%",
           "37.63%",
           108.34
          ],
          [
           "19.71%",
           "40.53%",
           "39.76%",
           108.71
          ],
          [
           "46.38%",
           "36.02%",
           "17.59%",
           111.4
          ],
          [
           "44.34%",
           "46.83%",
           "8.82%",
           103.47
          ],
          [
           "50.4%",
           "12.36%",
           "37.24%",
           110.94
          ],
          [
           "23.56%",
           "6.25%",
           "70.19%",
           99.47
          ],
          [
           "32.33%",
           "33.17%",
           "34.5%",
           111.99
          ],
          [
           "29.01%",
           "23.99%",
           "47.0%",
           108.69
          ],
          [
           "11.75%",
           "35.67%",
           "52.58%",
           104.82
          ],
          [
           "28.23%",
           "31.59%",
           "40.18%",
           110.51
          ],
          [
           "35.53%",
           "41.91%",
           "22.56%",
           111.04
          ],
          [
           "15.21%",
           "29.07%",
           "55.73%",
           104.57
          ],
          [
           "39.56%",
           "32.08%",
           "28.36%",
           113.22
          ],
          [
           "52.67%",
           "26.34%",
           "20.98%",
           112.95
          ],
          [
           "20.78%",
           "61.97%",
           "17.24%",
           99.71
          ],
          [
           "23.11%",
           "45.2%",
           "31.69%",
           109.35
          ],
          [
           "17.47%",
           "25.23%",
           "57.3%",
           104.32
          ],
          [
           "71.8%",
           "3.42%",
           "24.78%",
           107.88
          ],
          [
           "41.0%",
           "48.89%",
           "10.1%",
           103.55
          ],
          [
           "19.27%",
           "23.11%",
           "57.62%",
           104.35
          ],
          [
           "16.75%",
           "18.29%",
           "64.95%",
           101.54
          ],
          [
           "1.65%",
           "45.05%",
           "53.3%",
           102.13
          ],
          [
           "31.3%",
           "30.39%",
           "38.31%",
           111.3
          ],
          [
           "10.57%",
           "59.53%",
           "29.9%",
           102.62
          ],
          [
           "37.28%",
           "20.46%",
           "42.26%",
           110.46
          ],
          [
           "45.34%",
           "21.93%",
           "32.73%",
           112.95
          ],
          [
           "24.95%",
           "42.82%",
           "32.22%",
           110.1
          ],
          [
           "36.67%",
           "31.15%",
           "32.18%",
           112.79
          ],
          [
           "27.27%",
           "28.69%",
           "44.04%",
           109.48
          ],
          [
           "44.73%",
           "20.89%",
           "34.38%",
           112.59
          ],
          [
           "42.41%",
           "50.83%",
           "6.76%",
           100.1
          ],
          [
           "29.27%",
           "45.45%",
           "25.28%",
           109.89
          ],
          [
           "14.5%",
           "53.17%",
           "32.33%",
           105.73
          ],
          [
           "2.15%",
           "20.8%",
           "77.05%",
           96.61
          ],
          [
           "23.97%",
           "29.64%",
           "46.4%",
           108.44
          ],
          [
           "36.42%",
           "57.39%",
           "6.19%",
           96.22
          ],
          [
           "22.93%",
           "37.19%",
           "39.88%",
           109.55
          ],
          [
           "42.01%",
           "14.6%",
           "43.39%",
           109.73
          ],
          [
           "23.01%",
           "23.44%",
           "53.55%",
           106.05
          ],
          [
           "20.29%",
           "31.63%",
           "48.09%",
           107.46
          ],
          [
           "16.38%",
           "44.28%",
           "39.34%",
           107.66
          ],
          [
           "27.6%",
           "51.62%",
           "20.78%",
           106.71
          ],
          [
           "4.72%",
           "49.21%",
           "46.07%",
           103.53
          ],
          [
           "44.17%",
           "27.35%",
           "28.48%",
           113.55
          ],
          [
           "31.14%",
           "9.74%",
           "59.12%",
           103.77
          ],
          [
           "18.21%",
           "49.29%",
           "32.5%",
           107.51
          ],
          [
           "62.15%",
           "30.97%",
           "6.88%",
           104.81
          ],
          [
           "0.47%",
           "61.45%",
           "38.09%",
           100.29
          ],
          [
           "22.43%",
           "35.77%",
           "41.8%",
           109.18
          ],
          [
           "36.51%",
           "31.2%",
           "32.29%",
           112.77
          ],
          [
           "12.1%",
           "67.46%",
           "20.44%",
           96.9
          ],
          [
           "30.42%",
           "33.33%",
           "36.25%",
           111.49
          ],
          [
           "32.56%",
           "31.92%",
           "35.53%",
           111.91
          ],
          [
           "43.75%",
           "38.23%",
           "18.02%",
           111.11
          ],
          [
           "22.38%",
           "49.41%",
           "28.21%",
           108.07
          ],
          [
           "28.96%",
           "22.76%",
           "48.29%",
           108.24
          ],
          [
           "22.68%",
           "40.25%",
           "37.07%",
           109.66
          ],
          [
           "23.45%",
           "53.43%",
           "23.13%",
           106.07
          ],
          [
           "39.17%",
           "23.46%",
           "37.38%",
           111.99
          ],
          [
           "4.05%",
           "49.47%",
           "46.48%",
           103.28
          ],
          [
           "20.44%",
           "37.56%",
           "42.0%",
           108.7
          ],
          [
           "53.23%",
           "34.59%",
           "12.18%",
           108.91
          ],
          [
           "0.47%",
           "51.59%",
           "47.94%",
           101.94
          ],
          [
           "64.25%",
           "34.42%",
           "1.33%",
           98.68
          ],
          [
           "39.06%",
           "18.05%",
           "42.89%",
           110.16
          ],
          [
           "32.43%",
           "28.7%",
           "38.87%",
           111.3
          ],
          [
           "25.15%",
           "41.03%",
           "33.82%",
           110.32
          ],
          [
           "28.55%",
           "21.51%",
           "49.93%",
           107.62
          ],
          [
           "31.26%",
           "27.15%",
           "41.59%",
           110.52
          ],
          [
           "9.45%",
           "36.13%",
           "54.41%",
           103.94
          ],
          [
           "39.07%",
           "40.92%",
           "20.01%",
           110.94
          ],
          [
           "27.18%",
           "61.85%",
           "10.98%",
           96.91
          ],
          [
           "11.9%",
           "86.67%",
           "1.42%",
           72.84
          ],
          [
           "52.16%",
           "9.32%",
           "38.52%",
           110.09
          ],
          [
           "65.74%",
           "16.05%",
           "18.21%",
           110.23
          ],
          [
           "20.28%",
           "20.95%",
           "58.77%",
           103.99
          ],
          [
           "1.1%",
           "21.35%",
           "77.55%",
           96.37
          ],
          [
           "25.06%",
           "18.39%",
           "56.55%",
           105
          ],
          [
           "28.87%",
           "36.8%",
           "34.32%",
           111.32
          ],
          [
           "26.47%",
           "67.25%",
           "6.28%",
           90.09
          ],
          [
           "24.57%",
           "33.07%",
           "42.36%",
           109.49
          ],
          [
           "55.05%",
           "40.56%",
           "4.39%",
           101.36
          ],
          [
           "23.26%",
           "15.7%",
           "61.04%",
           103.19
          ],
          [
           "84.19%",
           "4.6%",
           "11.21%",
           101.17
          ],
          [
           "57.61%",
           "25.18%",
           "17.2%",
           111.61
          ],
          [
           "15.59%",
           "64.19%",
           "20.23%",
           99.08
          ],
          [
           "53.63%",
           "23.9%",
           "22.47%",
           113.1
          ],
          [
           "8.99%",
           "36.15%",
           "54.86%",
           103.75
          ],
          [
           "52.52%",
           "21.79%",
           "25.69%",
           113.29
          ],
          [
           "36.76%",
           "16.2%",
           "47.05%",
           108.64
          ],
          [
           "28.16%",
           "30.98%",
           "40.86%",
           110.36
          ],
          [
           "41.15%",
           "31.96%",
           "26.88%",
           113.32
          ],
          [
           "66.86%",
           "31.95%",
           "1.19%",
           98.55
          ],
          [
           "32.6%",
           "21.94%",
           "45.46%",
           109.35
          ],
          [
           "1.39%",
           "43.18%",
           "55.43%",
           101.8
          ],
          [
           "50.92%",
           "2.38%",
           "46.7%",
           106.76
          ],
          [
           "19.51%",
           "68.71%",
           "11.78%",
           92.69
          ],
          [
           "14.76%",
           "17.19%",
           "68.05%",
           100.33
          ],
          [
           "30.94%",
           "40.38%",
           "28.68%",
           111.44
          ],
          [
           "17.99%",
           "8.01%",
           "74.0%",
           98.14
          ],
          [
           "3.32%",
           "43.82%",
           "52.86%",
           102.67
          ],
          [
           "25.13%",
           "25.94%",
           "48.92%",
           107.79
          ],
          [
           "42.22%",
           "10.59%",
           "47.19%",
           108.07
          ],
          [
           "38.77%",
           "11.29%",
           "49.93%",
           107.24
          ],
          [
           "35.39%",
           "43.94%",
           "20.68%",
           110.07
          ],
          [
           "9.15%",
           "44.14%",
           "46.7%",
           105.04
          ],
          [
           "53.55%",
           "9.49%",
           "36.96%",
           110.4
          ],
          [
           "18.36%",
           "64.15%",
           "17.49%",
           98.34
          ],
          [
           "29.89%",
           "11.26%",
           "58.86%",
           103.95
          ],
          [
           "39.75%",
           "22.25%",
           "38.0%",
           111.8
          ],
          [
           "37.19%",
           "31.59%",
           "31.22%",
           112.91
          ],
          [
           "3.82%",
           "16.26%",
           "79.92%",
           95.83
          ],
          [
           "44.66%",
           "6.85%",
           "48.49%",
           107.13
          ],
          [
           "38.07%",
           "30.47%",
           "31.46%",
           113
          ],
          [
           "15.32%",
           "33.68%",
           "51.0%",
           105.88
          ],
          [
           "29.47%",
           "37.97%",
           "32.56%",
           111.46
          ],
          [
           "60.73%",
           "25.2%",
           "14.07%",
           110
          ],
          [
           "2.39%",
           "44.88%",
           "52.73%",
           102.41
          ],
          [
           "46.89%",
           "23.74%",
           "29.37%",
           113.44
          ]
         ],
         "hovertemplate": "Risk=%{x}<br>Return=%{y}<br>AAPL=%{customdata[0]}<br>TSLA=%{customdata[1]}<br>COKE=%{customdata[2]}<br>Sharpe Ratio=%{marker.color}<extra></extra>",
         "legendgroup": "",
         "marker": {
          "color": [
           94.7,
           105.05,
           104.6,
           105.4,
           99.19,
           111.78,
           103.02,
           110.12,
           107.26,
           112.34,
           106.3,
           101.03,
           107.32,
           105.48,
           112.2,
           105.79,
           107.83,
           104.14,
           105.8,
           108.79,
           112.4,
           108.78,
           104.01,
           103.48,
           105.94,
           102.48,
           112.42,
           111.96,
           101.14,
           108.67,
           104.99,
           107.55,
           111.68,
           105.12,
           78.03,
           110.63,
           113.18,
           92.77,
           108.31,
           91.86,
           108.61,
           92.96,
           103.77,
           87.46,
           95.71,
           104.07,
           102.57,
           108.05,
           109.61,
           105.03,
           109.35,
           91.61,
           107.89,
           104.04,
           107.27,
           111.36,
           105.94,
           111.21,
           107.7,
           105,
           95.76,
           110.74,
           108.99,
           87.53,
           107.05,
           83.13,
           106.51,
           101.38,
           105.58,
           111.34,
           109.81,
           102.63,
           112.21,
           111.46,
           108.18,
           111.87,
           99.4,
           99.4,
           98.15,
           107.76,
           110.77,
           107.17,
           103.77,
           106.81,
           112,
           104.09,
           103.37,
           100.83,
           113.38,
           107.11,
           112.57,
           85.46,
           103.94,
           107.46,
           110.35,
           103.22,
           103.03,
           110.05,
           111.57,
           97.55,
           106.9,
           98.81,
           106.62,
           109.56,
           111.82,
           110.68,
           109.66,
           105.64,
           99.75,
           100.97,
           106.88,
           104.92,
           108.27,
           105.87,
           107.82,
           110.69,
           106.09,
           111.92,
           113.29,
           111.37,
           104.66,
           111.53,
           97.11,
           102.26,
           108.53,
           103.47,
           111.94,
           111.75,
           111.7,
           108.97,
           103.16,
           96.86,
           112.42,
           112.77,
           105.87,
           101.56,
           105.82,
           106.57,
           96.61,
           109.87,
           106.98,
           103.79,
           105.25,
           107,
           110.43,
           112.28,
           72.69,
           101.01,
           107.68,
           98.89,
           105.18,
           113.14,
           108.94,
           104.84,
           94.94,
           108.26,
           88.22,
           111.96,
           112.33,
           105.43,
           112.87,
           111.15,
           100.67,
           96.06,
           98.57,
           108.16,
           99.76,
           99.47,
           108.24,
           105.83,
           112.6,
           100.16,
           112.33,
           99.16,
           106.43,
           101.96,
           112.38,
           97.33,
           113.36,
           102.9,
           105.2,
           109.76,
           106.29,
           113.13,
           109.44,
           95.08,
           112.12,
           97.86,
           108.61,
           95.38,
           112.93,
           106.9,
           107.14,
           92.89,
           100.06,
           99.07,
           111.39,
           100.97,
           103.79,
           109.79,
           96.16,
           112.51,
           109.86,
           103.56,
           110.13,
           94.56,
           103,
           108.58,
           101.34,
           103.59,
           108.41,
           108.24,
           105.98,
           113.11,
           110.29,
           111.54,
           107.97,
           111.01,
           101.63,
           106.6,
           110.35,
           109.58,
           107.82,
           101.89,
           105.91,
           99.71,
           97.54,
           87.18,
           108.51,
           104.32,
           108.19,
           111.56,
           111.53,
           108.09,
           101.5,
           111.78,
           111.99,
           107.08,
           113.02,
           106.09,
           113.5,
           99.24,
           98.04,
           104.73,
           109.87,
           98.65,
           103.03,
           105.92,
           106.23,
           105.02,
           108.68,
           110.34,
           113.44,
           104.33,
           67.46,
           109.67,
           109.42,
           110.82,
           113.05,
           106.43,
           112.64,
           107.47,
           110.26,
           104.91,
           109.47,
           111.87,
           110.44,
           108.4,
           109.13,
           108.45,
           100.48,
           105.28,
           106.83,
           113.2,
           110.03,
           100.68,
           110.9,
           111.99,
           110.7,
           111.58,
           112.58,
           104.04,
           105.58,
           105.28,
           104.2,
           105.31,
           105.91,
           92.41,
           102.69,
           105.56,
           108.82,
           103.75,
           101,
           105.16,
           97.11,
           109.64,
           109.26,
           110.48,
           106.25,
           111.63,
           101.59,
           108.26,
           109.52,
           112.4,
           106.38,
           105.81,
           104.43,
           109.57,
           108.99,
           111.25,
           95.72,
           109.32,
           110.57,
           108.11,
           108.85,
           111.74,
           112.11,
           113.19,
           94.94,
           97.14,
           109.77,
           107.92,
           112.98,
           112.98,
           109.17,
           110.43,
           108.69,
           106.21,
           87.08,
           107.88,
           112.22,
           108.51,
           112.54,
           108.69,
           111.8,
           106.02,
           113.6,
           103.67,
           99.59,
           107.11,
           111.37,
           108.11,
           112.57,
           106.16,
           110.88,
           107.92,
           109.22,
           112.55,
           112.24,
           106.1,
           110.6,
           97.16,
           110.43,
           96.31,
           106.5,
           101.93,
           107.12,
           107.09,
           107.02,
           85.11,
           95.44,
           84.6,
           111.3,
           105.4,
           108.51,
           105.18,
           112.91,
           111.09,
           110.38,
           106.95,
           105.5,
           109.59,
           111.63,
           101.36,
           105,
           102.85,
           111.1,
           86.43,
           106.48,
           103.12,
           103.77,
           108.53,
           103.51,
           111.41,
           106.36,
           111.79,
           112.03,
           112.94,
           109.17,
           103.57,
           98.7,
           102.55,
           104.24,
           101.81,
           112.22,
           106.99,
           101.34,
           93.66,
           111.39,
           105.94,
           110.84,
           108.46,
           111.93,
           97.48,
           97.21,
           107.71,
           90.58,
           105.55,
           111.09,
           105.54,
           106.47,
           111.65,
           110.6,
           107.62,
           112.11,
           111.27,
           96.82,
           99.26,
           105.72,
           95.1,
           112.32,
           102.15,
           99.7,
           102.76,
           103.15,
           107.39,
           108.09,
           111.64,
           112.29,
           107,
           109.84,
           110.17,
           106.27,
           109.54,
           104.47,
           107.16,
           95.56,
           105.44,
           97.32,
           113.39,
           101.59,
           104.42,
           112.88,
           109.07,
           112.99,
           104.14,
           106.48,
           113.15,
           113.43,
           108.94,
           93.5,
           109.76,
           111.84,
           97.22,
           110.51,
           111.61,
           110.96,
           93.53,
           109.76,
           111.92,
           105.34,
           110.23,
           87.3,
           110.24,
           104.91,
           113.48,
           105.89,
           113.06,
           112.3,
           113.22,
           101.78,
           91.8,
           107.91,
           108.06,
           101.75,
           102.07,
           103.45,
           113.45,
           105.16,
           98.91,
           112.01,
           113.43,
           97.32,
           106.56,
           99.78,
           110.11,
           113.51,
           103.13,
           109.01,
           103.57,
           103.88,
           105.14,
           99.23,
           105.47,
           108.67,
           103.64,
           113.55,
           112.26,
           111.52,
           112.53,
           98.73,
           103.12,
           107.22,
           109.66,
           107.98,
           99.09,
           105.83,
           103.64,
           103.2,
           110.95,
           112.7,
           109.85,
           109.94,
           104.98,
           102.65,
           113.2,
           105.85,
           107.23,
           106.97,
           112.7,
           106.36,
           101.21,
           100.6,
           113,
           103.79,
           111.93,
           100.51,
           100.4,
           112.81,
           106.13,
           103.64,
           95.43,
           109.87,
           97.17,
           110.45,
           106.43,
           101.17,
           102.86,
           113.37,
           112.72,
           109.34,
           112.54,
           102.69,
           107.09,
           107.81,
           98.7,
           105.61,
           103.84,
           103.62,
           107.29,
           109.4,
           98.86,
           109.99,
           109.62,
           109.96,
           113.09,
           109.83,
           107.83,
           110.9,
           110.65,
           108.94,
           112,
           107.07,
           111.01,
           112.53,
           106.19,
           104.5,
           111.03,
           108.47,
           106.78,
           109.6,
           113.47,
           98.99,
           106.75,
           109.18,
           103.71,
           111.53,
           101.16,
           109.01,
           108.76,
           111.84,
           113.42,
           98.35,
           102.99,
           99.47,
           101.18,
           99.8,
           108.2,
           108.59,
           99.61,
           110.33,
           106.17,
           101.22,
           112.17,
           98.49,
           105.15,
           109.83,
           110.59,
           112.25,
           106.46,
           96.16,
           106.1,
           100.73,
           110.41,
           108.61,
           109.61,
           97.4,
           111.07,
           101.1,
           110.08,
           108.51,
           111.93,
           100.44,
           98.29,
           89.22,
           110.77,
           112.39,
           113.38,
           107.1,
           108.32,
           110.22,
           108.85,
           104.62,
           111.68,
           106.32,
           102.41,
           105.21,
           108.42,
           106.43,
           112.72,
           110.75,
           104.69,
           106.27,
           112,
           95.74,
           98.05,
           110.23,
           106.42,
           105.14,
           98.28,
           113.19,
           89.05,
           103.53,
           107.17,
           105.9,
           113.07,
           106.02,
           113.12,
           109.74,
           112.4,
           100.06,
           110.11,
           108.55,
           94.68,
           108.75,
           103.43,
           113.16,
           102.11,
           107.46,
           97.13,
           106.66,
           108.64,
           103.6,
           94.74,
           110.19,
           112.09,
           111.85,
           111.58,
           108.54,
           111.78,
           113.6,
           112.14,
           110.68,
           111.27,
           101.8,
           112.66,
           109.06,
           103.85,
           104.05,
           108.02,
           109.54,
           107.39,
           101.33,
           109.97,
           104.39,
           106.72,
           91.12,
           102.11,
           112.39,
           105.72,
           98.03,
           109.23,
           103.1,
           110.85,
           108.37,
           110.71,
           111.25,
           108.05,
           103.46,
           111.75,
           113.11,
           96.53,
           109.93,
           99.55,
           106.89,
           108.2,
           103.48,
           107.19,
           110.81,
           101.03,
           112.27,
           106.85,
           103.57,
           104.5,
           108.31,
           106.77,
           105.04,
           95.83,
           110.61,
           113.2,
           109.21,
           112.64,
           105.04,
           109.08,
           108.61,
           96.65,
           101.31,
           111.67,
           108.52,
           103.3,
           104.07,
           103.89,
           103.25,
           99.82,
           110.15,
           109.11,
           104.8,
           113.25,
           111.87,
           112.4,
           109.17,
           113.18,
           111.09,
           113.12,
           110.49,
           111.51,
           107.06,
           103,
           99.11,
           112.05,
           108.98,
           106.75,
           113.41,
           105.96,
           108.66,
           110.98,
           113.41,
           104.42,
           106.24,
           109.26,
           111.07,
           109.22,
           110.41,
           112.56,
           104.46,
           110.96,
           107.26,
           100.86,
           108.9,
           112.2,
           95.58,
           92.41,
           101.08,
           106.2,
           105.8,
           110.5,
           113.42,
           111.47,
           99.99,
           113.48,
           105.3,
           101.58,
           106.47,
           99.8,
           100.51,
           97.23,
           106.67,
           110.13,
           112.69,
           113.31,
           111.71,
           107.62,
           101.89,
           111.93,
           109.39,
           93.17,
           110.44,
           112.39,
           109.97,
           72.95,
           110.47,
           110.15,
           112.19,
           108.59,
           96.06,
           110.52,
           110.75,
           111.07,
           95.02,
           101.29,
           99.19,
           111.6,
           112.93,
           113.02,
           111.68,
           108.82,
           105.32,
           111.46,
           111.58,
           109.32,
           103.09,
           113.24,
           112.9,
           101.83,
           112.77,
           110.92,
           105.6,
           94.97,
           112.44,
           94.36,
           107.94,
           113.16,
           109.52,
           102.73,
           112.12,
           103.94,
           106.05,
           104.58,
           111.59,
           104.12,
           89.37,
           98.54,
           103.91,
           111.44,
           108.51,
           112.66,
           102.22,
           112.22,
           108.88,
           100.61,
           112.23,
           107.65,
           108.83,
           100.27,
           110.93,
           94.24,
           113.17,
           107.48,
           107.51,
           105.82,
           106.82,
           99.26,
           110.97,
           92.72,
           94.64,
           112.23,
           111.75,
           110.19,
           113.06,
           101.69,
           109.38,
           111.15,
           107.81,
           102.85,
           112.97,
           109.51,
           107.47,
           109.57,
           102.92,
           109.01,
           107.23,
           108.34,
           108.71,
           111.4,
           103.47,
           110.94,
           99.47,
           111.99,
           108.69,
           104.82,
           110.51,
           111.04,
           104.57,
           113.22,
           112.95,
           99.71,
           109.35,
           104.32,
           107.88,
           103.55,
           104.35,
           101.54,
           102.13,
           111.3,
           102.62,
           110.46,
           112.95,
           110.1,
           112.79,
           109.48,
           112.59,
           100.1,
           109.89,
           105.73,
           96.61,
           108.44,
           96.22,
           109.55,
           109.73,
           106.05,
           107.46,
           107.66,
           106.71,
           103.53,
           113.55,
           103.77,
           107.51,
           104.81,
           100.29,
           109.18,
           112.77,
           96.9,
           111.49,
           111.91,
           111.11,
           108.07,
           108.24,
           109.66,
           106.07,
           111.99,
           103.28,
           108.7,
           108.91,
           101.94,
           98.68,
           110.16,
           111.3,
           110.32,
           107.62,
           110.52,
           103.94,
           110.94,
           96.91,
           72.84,
           110.09,
           110.23,
           103.99,
           96.37,
           105,
           111.32,
           90.09,
           109.49,
           101.36,
           103.19,
           101.17,
           111.61,
           99.08,
           113.1,
           103.75,
           113.29,
           108.64,
           110.36,
           113.32,
           98.55,
           109.35,
           101.8,
           106.76,
           92.69,
           100.33,
           111.44,
           98.14,
           102.67,
           107.79,
           108.07,
           107.24,
           110.07,
           105.04,
           110.4,
           98.34,
           103.95,
           111.8,
           112.91,
           95.83,
           107.13,
           113,
           105.88,
           111.46,
           110,
           102.41,
           113.44
          ],
          "coloraxis": "coloraxis",
          "symbol": "circle"
         },
         "mode": "markers",
         "name": "",
         "orientation": "v",
         "showlegend": false,
         "type": "scatter",
         "x": [
          24.83,
          34.19,
          27.47,
          26.24,
          42.96,
          26.5,
          39.56,
          27.01,
          25.7,
          30.04,
          36.26,
          38.68,
          35.14,
          27.9,
          29.47,
          25.18,
          24.96,
          38.5,
          26.38,
          32.62,
          29.52,
          32.21,
          34.27,
          38.76,
          29.38,
          27,
          29.49,
          30.33,
          41.66,
          29.73,
          27.24,
          35.04,
          25.47,
          37.41,
          31.63,
          29.16,
          26.45,
          25.5,
          32.44,
          28.26,
          31.48,
          27.44,
          24.98,
          27.14,
          47.73,
          38.43,
          25.12,
          25.7,
          32.79,
          36.26,
          33.29,
          27.09,
          33.94,
          34.79,
          28.19,
          28.98,
          27.28,
          25.34,
          33.45,
          32.39,
          47.81,
          29.02,
          27.74,
          28.12,
          34.93,
          29.63,
          25.21,
          38.6,
          24.96,
          29.96,
          32.18,
          40.07,
          30.08,
          28.62,
          34.24,
          29.04,
          24.82,
          24.75,
          43.93,
          34.85,
          31.39,
          34.8,
          31.87,
          34.68,
          27.22,
          35.2,
          33.32,
          30.17,
          27.46,
          31.33,
          29.69,
          28.29,
          38.34,
          35.13,
          32.25,
          36.63,
          38.62,
          31.11,
          25.65,
          46.01,
          35.43,
          24.86,
          35.84,
          31.68,
          28.14,
          31.91,
          27.67,
          31.67,
          26.95,
          25.13,
          35.72,
          25.93,
          34.12,
          24.55,
          25.78,
          26.16,
          27.99,
          30.18,
          26.9,
          30.95,
          37.95,
          30.66,
          30.72,
          38.24,
          30.79,
          39.2,
          30.21,
          29.09,
          29.57,
          31.95,
          32.86,
          24.53,
          27.92,
          27.69,
          36.16,
          40.26,
          36.69,
          35.79,
          31.49,
          32.74,
          35.06,
          24.6,
          37.37,
          34.32,
          29.84,
          30.09,
          31.55,
          31.08,
          28.53,
          31.88,
          29.9,
          27.23,
          33.35,
          24.59,
          26.81,
          33.45,
          25.86,
          30.47,
          26.58,
          32.61,
          27.32,
          31.29,
          24.41,
          47.67,
          31.17,
          34.05,
          24.78,
          43.65,
          34.13,
          36.29,
          26.5,
          42.76,
          28.98,
          43.95,
          35.68,
          38.73,
          29.9,
          27.88,
          28.38,
          33.83,
          37.3,
          32.81,
          26.41,
          26.56,
          31.18,
          29.25,
          25.69,
          45.4,
          30.8,
          29.2,
          26.68,
          29.71,
          32.71,
          29.83,
          24.58,
          29.05,
          25.7,
          39.4,
          38.72,
          28.29,
          24.89,
          28.83,
          28.97,
          38.82,
          32.13,
          24.74,
          39.69,
          33.94,
          32.04,
          24.57,
          25.89,
          34.34,
          35.88,
          27.84,
          30.86,
          26.08,
          34.57,
          31.55,
          41.18,
          35.93,
          32.18,
          32.86,
          34.68,
          38.64,
          25.98,
          32.28,
          25.84,
          27.45,
          32.53,
          38.07,
          32.15,
          30.97,
          27.15,
          31.98,
          41.23,
          27.47,
          25.58,
          33.68,
          26.23,
          36.5,
          28.06,
          24.4,
          44.92,
          28.13,
          32.67,
          44.23,
          38.49,
          36.34,
          27.44,
          37.56,
          27.46,
          25.81,
          27.65,
          27.06,
          32.9,
          32.51,
          27.64,
          25.75,
          26.95,
          36.09,
          28.35,
          35.09,
          30.71,
          27.07,
          29.75,
          30.24,
          26.95,
          32.58,
          33.05,
          34.18,
          29.27,
          27.06,
          24.58,
          27.58,
          29.45,
          27.95,
          29.54,
          25.95,
          25.37,
          28.71,
          27.67,
          36.45,
          24.81,
          24.48,
          28.07,
          36.22,
          36.71,
          53.05,
          27.1,
          34.31,
          29.33,
          38.1,
          26.75,
          26.65,
          46.38,
          29.89,
          27.79,
          31.39,
          28.5,
          30.86,
          33.64,
          32,
          30.91,
          29.28,
          31.98,
          26.16,
          38.1,
          32.56,
          25.95,
          31.3,
          47.5,
          27.36,
          31.4,
          27.51,
          32.18,
          26.83,
          30.32,
          28.57,
          26.2,
          24.49,
          32.74,
          34.54,
          28.88,
          26.88,
          33.4,
          28.34,
          31.48,
          29.81,
          27.9,
          34.64,
          29.56,
          34.13,
          26.67,
          28.74,
          30.17,
          26.18,
          27.14,
          38.76,
          31.13,
          35.41,
          30.59,
          31.04,
          25.91,
          24.79,
          30.19,
          27.7,
          33.41,
          25.85,
          29.76,
          35.91,
          28.93,
          24.62,
          31.65,
          47.55,
          36.12,
          27,
          33.79,
          35.53,
          33.93,
          27.54,
          24.69,
          28.24,
          30.33,
          25.28,
          33.89,
          34.65,
          27.94,
          31,
          26.8,
          33.41,
          36.71,
          29.25,
          29.96,
          24.9,
          27.31,
          33.54,
          31.46,
          27.93,
          35.08,
          39.52,
          38.82,
          28.31,
          27.81,
          31.08,
          24.81,
          25.99,
          26.03,
          26.49,
          25.82,
          36.48,
          44.03,
          24.63,
          25.26,
          40.97,
          30.2,
          35.63,
          25.16,
          29.54,
          31.16,
          35.22,
          31.73,
          33.74,
          30.39,
          25.45,
          26.96,
          34.57,
          27.43,
          32.34,
          29.46,
          36.1,
          26.91,
          29.69,
          25.35,
          33.29,
          29.98,
          25.41,
          24.95,
          25.36,
          34.73,
          24.62,
          26.87,
          39.92,
          25.37,
          39.68,
          36.24,
          25.35,
          31.75,
          25.64,
          25.74,
          25.09,
          32.54,
          32.3,
          30.96,
          32.87,
          38.1,
          35.45,
          28.01,
          24.68,
          24.57,
          27.56,
          38.25,
          29.02,
          26.07,
          33.5,
          28.8,
          35.02,
          35.46,
          28.87,
          26.77,
          33.63,
          26.56,
          30.08,
          30.14,
          45.8,
          32.07,
          30.81,
          30.81,
          51.38,
          24.95,
          29.93,
          24.62,
          29.45,
          28.66,
          28.59,
          27.4,
          27.04,
          24.83,
          27.24,
          25.92,
          28.46,
          24.4,
          27.47,
          34.45,
          27.5,
          37.28,
          29.79,
          37.06,
          27.24,
          34.36,
          44.32,
          29.22,
          27.85,
          46.27,
          30.37,
          43.3,
          32.24,
          27.01,
          38.79,
          30.83,
          27.49,
          38.63,
          24.62,
          24.95,
          30.99,
          32.89,
          38.61,
          27.3,
          29.31,
          25.42,
          29.68,
          44.54,
          39.54,
          28,
          32.91,
          34.53,
          44.05,
          34.84,
          30.83,
          36.67,
          31.55,
          28.66,
          32.47,
          26.23,
          29.04,
          39.35,
          28.78,
          24.93,
          34.73,
          28.89,
          27.71,
          35.67,
          33.68,
          41.62,
          28.85,
          29.26,
          25.72,
          42.21,
          25.14,
          29.28,
          25.46,
          38.58,
          48.74,
          32.38,
          26.15,
          31.87,
          28.36,
          41.71,
          24.4,
          26.87,
          26.05,
          26.94,
          29.41,
          36.95,
          26.03,
          33.42,
          24.8,
          29.07,
          25.27,
          33.64,
          25.45,
          27.28,
          44.08,
          32.32,
          24.94,
          28.64,
          26.32,
          29.88,
          32.61,
          30.2,
          30.26,
          32.6,
          25.57,
          26.91,
          30.51,
          27.5,
          27.78,
          30.58,
          31.3,
          31.12,
          24.58,
          27.3,
          28.05,
          29.39,
          32.78,
          29.43,
          26.86,
          25.39,
          26.93,
          31.52,
          33.27,
          28.68,
          26.97,
          44.32,
          26.9,
          43.61,
          41.23,
          43.21,
          34.11,
          25.33,
          30.84,
          32.23,
          33.61,
          41.05,
          30.04,
          43.1,
          28.49,
          29.95,
          31.65,
          26.31,
          35.22,
          27.73,
          35.93,
          27.5,
          31.97,
          33.76,
          31.09,
          46.15,
          31.33,
          26.93,
          30.85,
          25.44,
          29.84,
          42.19,
          44.86,
          28.19,
          27.24,
          29.99,
          28.36,
          27.37,
          32.42,
          26.98,
          24.96,
          36.35,
          28.58,
          36.26,
          24.41,
          37.27,
          28.95,
          35.61,
          27.94,
          31.26,
          25.26,
          28.94,
          26.84,
          24.51,
          24.81,
          30.48,
          35.18,
          35.97,
          44.91,
          28.22,
          25.69,
          34.48,
          24.69,
          30.78,
          28.99,
          35.84,
          28.68,
          32.78,
          27.18,
          42.96,
          26.05,
          24.88,
          29.04,
          25.39,
          37.21,
          26.55,
          40.64,
          34.6,
          25.52,
          33.13,
          33.06,
          31.96,
          28.3,
          25.59,
          29.31,
          29.78,
          25.85,
          33.98,
          30.7,
          27.41,
          29.73,
          26.83,
          29.72,
          31.97,
          27.33,
          33.57,
          35.94,
          32.43,
          33.2,
          25.07,
          31.28,
          40.89,
          25.76,
          27.5,
          34.89,
          25.48,
          29.9,
          26.43,
          25.31,
          43.83,
          31.8,
          35.38,
          30.96,
          32.65,
          28.88,
          29.73,
          27.17,
          26.24,
          28.18,
          26.95,
          46.79,
          32.51,
          24.71,
          30.51,
          30.26,
          36.85,
          35.29,
          28.49,
          27.89,
          27.11,
          35.43,
          38.35,
          37.23,
          32.12,
          34.59,
          28.66,
          27.14,
          25.69,
          28.07,
          31.78,
          25.89,
          24.71,
          32.01,
          27.58,
          47.15,
          26.73,
          30.27,
          29.92,
          35.41,
          24.63,
          27.72,
          27.82,
          32.3,
          31.47,
          32.54,
          37.27,
          28.49,
          29.53,
          29.73,
          28.75,
          26.7,
          29.98,
          28.17,
          26.96,
          26.11,
          33.14,
          39.69,
          24.66,
          27.75,
          31.72,
          27.07,
          27.8,
          32.64,
          26.83,
          29.34,
          28.22,
          34,
          36.18,
          31.28,
          30.38,
          33.24,
          25.64,
          28.19,
          28.66,
          31.63,
          26.89,
          24.78,
          33.18,
          30.08,
          28.15,
          25.55,
          40.67,
          25.28,
          36.76,
          25.1,
          27.33,
          27.58,
          27.31,
          28.06,
          33.35,
          40.63,
          24.57,
          26.72,
          42.41,
          30.01,
          35.88,
          25.04,
          25.98,
          26.61,
          29.63,
          32.99,
          24.46,
          27.74,
          27.97,
          25.02,
          31.1,
          28.18,
          32.19,
          31.51,
          25.09,
          25.64,
          28.97,
          27.69,
          29.09,
          31.99,
          30.07,
          31,
          48.61,
          39.63,
          43.96,
          27.25,
          26.21,
          28.66,
          26.13,
          24.83,
          37.05,
          25.84,
          28.26,
          30.27,
          33.65,
          26.69,
          27.28,
          39.59,
          29.4,
          28.07,
          33.86,
          49.43,
          26.69,
          27.18,
          34.3,
          28.82,
          32.5,
          25.46,
          29.91,
          25.14,
          32.73,
          25.19,
          30.77,
          26.93,
          28.6,
          44.38,
          24.75,
          26.29,
          31.84,
          29.5,
          28.43,
          26.16,
          25.68,
          41.48,
          29.21,
          26.85,
          31.12,
          42.21,
          31.47,
          50.45,
          27.4,
          31.94,
          28.68,
          36.18,
          35.57,
          24.41,
          30.85,
          26.28,
          49.73,
          29.11,
          30.15,
          31.37,
          27.82,
          28.51,
          32.93,
          26.83,
          32.09,
          24.48,
          26.71,
          32.98,
          33.81,
          26.89,
          39.79,
          33.52,
          33.99,
          32.28,
          31.35,
          25.49,
          24.81,
          31.08,
          43.66,
          29.44,
          33.7,
          35.92,
          31.25,
          26.55,
          37.05,
          27.72,
          26.26,
          27.4,
          29.06,
          37.67,
          29.23,
          25.04,
          37.82,
          40.95,
          36.71,
          30.62,
          29.97,
          32.14,
          29.15,
          29.07,
          28.76,
          32.58,
          29.67,
          24.95,
          27.36,
          29.92,
          46.26,
          33.43,
          25.53,
          31.26,
          32.83,
          36.19,
          34.08,
          31.42,
          26.84,
          34.21,
          27.83,
          38.91,
          29.61,
          24.57,
          32.75,
          31.88,
          28.79,
          28.85,
          29.98,
          29.75,
          25.58,
          28.4,
          34.19,
          30.44,
          27.53,
          30.45,
          34.39,
          32,
          24.81,
          35.14,
          24.48,
          32.47,
          30.82,
          29.46,
          34.84,
          31.74,
          36.68,
          26,
          26.49,
          30.47,
          31.74,
          26.6,
          38.32,
          46.49,
          37.49,
          29.45,
          26.88,
          32.02,
          24.4,
          39.4,
          27.58,
          25.72,
          28.28,
          26.65,
          36.86,
          27.43,
          33.99,
          31.47,
          27.36,
          24.57,
          33.19,
          37.45,
          35,
          27.64,
          42.31,
          27.96,
          45.21,
          36.45,
          34.38,
          34.41,
          35.32,
          26.26,
          34.06,
          31.27,
          27.76,
          38.71,
          30.69,
          28.49,
          47.61,
          35.16,
          28.56,
          35.24,
          28.96,
          25.34,
          36.47,
          28.19
         ],
         "xaxis": "x",
         "y": [
          26.55,
          38.96,
          31.77,
          30.7,
          45.66,
          32.66,
          43.8,
          32.78,
          30.61,
          36.79,
          41.58,
          42.12,
          40.75,
          32.47,
          36.11,
          29.68,
          29.95,
          43.13,
          30.95,
          38.53,
          36.22,
          38.08,
          38.68,
          43.15,
          34.17,
          30.71,
          36.19,
          37,
          45.18,
          35.34,
          31.64,
          40.72,
          31.49,
          42.37,
          27.72,
          35.3,
          32.98,
          26.7,
          38.18,
          29,
          37.23,
          28.55,
          28.96,
          26.77,
          48.73,
          43.04,
          28.8,
          30.81,
          38.98,
          41.12,
          39.44,
          27.86,
          39.66,
          39.24,
          33.28,
          35.31,
          31.94,
          31.22,
          39.06,
          37.05,
          48.83,
          35.17,
          33.28,
          27.65,
          40.43,
          27.67,
          29.89,
          42.18,
          29.39,
          36.4,
          38.38,
          44.16,
          36.79,
          34.95,
          40.08,
          35.52,
          27.71,
          27.64,
          46.16,
          40.6,
          37.81,
          40.33,
          36.11,
          40.08,
          33.53,
          39.68,
          37.48,
          33.46,
          34.18,
          36.59,
          36.46,
          27.22,
          42.89,
          40.79,
          38.63,
          40.85,
          42.83,
          37.27,
          31.66,
          47.92,
          40.91,
          27.6,
          41.25,
          37.74,
          34.5,
          38.36,
          33.38,
          36.5,
          29.93,
          28.42,
          41.22,
          30.24,
          39.99,
          29.03,
          30.83,
          32,
          32.73,
          36.82,
          33.52,
          37.51,
          42.75,
          37.24,
          32.87,
          42.14,
          36.46,
          43.6,
          36.85,
          35.55,
          36.07,
          37.85,
          36.94,
          26.8,
          34.42,
          34.26,
          41.32,
          43.93,
          41.87,
          41.18,
          33.47,
          39.01,
          40.54,
          28.57,
          42.37,
          39.76,
          35.99,
          36.83,
          25.98,
          34.43,
          33.76,
          34.57,
          34.49,
          33.85,
          39.37,
          28.82,
          28.49,
          39.25,
          25.86,
          37.16,
          32.9,
          37.42,
          33.87,
          37.82,
          27.62,
          48.83,
          33.77,
          39.87,
          27.76,
          46.46,
          39.98,
          41.45,
          32.88,
          45.87,
          35.6,
          46.62,
          41.01,
          42.53,
          36.65,
          30.18,
          35.21,
          37.85,
          42.28,
          39.05,
          31.11,
          33.09,
          37.16,
          30.85,
          31.84,
          47.47,
          36.49,
          30.89,
          33.16,
          34.8,
          38.09,
          30.75,
          27.63,
          31.82,
          31.67,
          42.83,
          43.23,
          34.1,
          26.98,
          35.48,
          34.87,
          43.24,
          38.42,
          26.43,
          43.92,
          39.89,
          35.51,
          28.5,
          31.1,
          40.21,
          41.06,
          34.52,
          37.08,
          32.13,
          40.36,
          38.07,
          44.89,
          41.34,
          38.55,
          39.05,
          40.43,
          42.41,
          30.56,
          35.22,
          28.25,
          26.97,
          38.34,
          42.76,
          37.82,
          37.59,
          33.32,
          37.6,
          44.89,
          33.74,
          31.68,
          39.1,
          32.68,
          41.76,
          34.89,
          27.26,
          47.07,
          32.5,
          38.94,
          46.68,
          42.69,
          41.53,
          32.19,
          42.48,
          32.88,
          31.52,
          34.4,
          31.27,
          25.23,
          38.7,
          33.28,
          31.58,
          33.51,
          41.45,
          34.97,
          40.75,
          36.9,
          31.44,
          35.61,
          36.87,
          32.8,
          38.36,
          39.1,
          40.11,
          32.45,
          31.53,
          29.3,
          34.26,
          35.45,
          31.18,
          35.79,
          32.1,
          31.13,
          35.08,
          34.19,
          40.96,
          29.24,
          28.81,
          32.29,
          41.18,
          41.92,
          52.07,
          30.87,
          39.26,
          34.96,
          42.57,
          30.06,
          31.06,
          48.08,
          35.81,
          33.4,
          37.71,
          33.32,
          37.49,
          37.21,
          37.69,
          36.9,
          35.95,
          37.06,
          30.72,
          42.83,
          38.72,
          31.32,
          37.86,
          48.51,
          32.95,
          37.75,
          32.78,
          38.07,
          33.02,
          37.04,
          35.38,
          27.92,
          26.83,
          38.98,
          40.32,
          35.67,
          33.41,
          39.5,
          34.34,
          37.25,
          34.7,
          27.33,
          40.4,
          36.21,
          40.07,
          33.05,
          34.28,
          36.77,
          30.79,
          33.88,
          43.23,
          34.05,
          40.97,
          37.11,
          36.6,
          32.21,
          29.36,
          36.52,
          32.93,
          39.53,
          32.13,
          36.44,
          41.14,
          35.04,
          26.96,
          37.99,
          48.84,
          41.51,
          30.56,
          39.24,
          41.09,
          39.36,
          26.47,
          26.6,
          26.93,
          36.8,
          29.69,
          39.82,
          39.49,
          34.59,
          37.47,
          32.62,
          38.77,
          41.77,
          35.1,
          36.49,
          28.28,
          31.71,
          37.54,
          38,
          27.18,
          40.39,
          43.79,
          43.33,
          33.77,
          31.83,
          37.67,
          29.43,
          32.09,
          32.2,
          32.96,
          31.23,
          40.83,
          46.49,
          28.3,
          29.37,
          44.75,
          36.93,
          41.16,
          28.54,
          30.71,
          37.75,
          40.35,
          38.21,
          39.63,
          37.05,
          27.85,
          29.25,
          40.27,
          27.88,
          37.17,
          35.76,
          41.14,
          31.69,
          36.18,
          31.08,
          38.87,
          36.65,
          31.31,
          27.2,
          28.21,
          39.76,
          26.45,
          33.22,
          43.82,
          28.33,
          43.82,
          40.42,
          30.27,
          37.35,
          31.66,
          31.95,
          29.89,
          38.78,
          38.62,
          35.94,
          39.04,
          42.84,
          41.03,
          29.81,
          29.06,
          26.95,
          34.29,
          41.9,
          33.35,
          32.47,
          39.58,
          35.59,
          39.5,
          40.79,
          35.7,
          33.41,
          39.68,
          27.87,
          36.06,
          36.74,
          47.57,
          38.48,
          37.43,
          37.22,
          51.1,
          30.42,
          36.54,
          28.98,
          35.5,
          28.06,
          34.55,
          31.78,
          33.73,
          29.33,
          33.84,
          32.15,
          35.27,
          27.87,
          28.25,
          40.22,
          32.76,
          40.97,
          33.44,
          41.38,
          33.94,
          39.17,
          46.88,
          35.77,
          34.63,
          48.07,
          35.4,
          46.25,
          38.54,
          33.7,
          43.04,
          36.65,
          31.51,
          43.17,
          28.92,
          27.8,
          35.72,
          38.78,
          43.06,
          34.04,
          35.94,
          31.39,
          36.44,
          47.02,
          43.82,
          33.07,
          39.13,
          40.32,
          46.69,
          39.92,
          35,
          40.89,
          38.04,
          35.34,
          38.71,
          31.88,
          33.53,
          43.43,
          35.61,
          29.43,
          40.28,
          33.95,
          34.27,
          40.98,
          37.13,
          44.91,
          35.64,
          33.4,
          31.83,
          45.47,
          28.28,
          36.07,
          30.07,
          43.03,
          49.55,
          38.61,
          28.45,
          38.24,
          33.22,
          45.24,
          28.14,
          33.5,
          32.41,
          32.5,
          36.13,
          40.98,
          30.92,
          39.07,
          27.51,
          33.74,
          29.28,
          37.9,
          30.34,
          32.88,
          46.61,
          38.59,
          30.37,
          34.54,
          32.8,
          35.86,
          38.21,
          36.53,
          36.53,
          38.56,
          31.68,
          31.85,
          36.9,
          33.98,
          32.54,
          34.99,
          37.8,
          36.79,
          29.28,
          32.96,
          34.87,
          32.14,
          38.03,
          35.17,
          30.9,
          31.36,
          30.29,
          37.4,
          39.22,
          35.12,
          33.63,
          46.63,
          30.74,
          46.42,
          44.76,
          46.16,
          39.95,
          30.54,
          33.76,
          38.6,
          38.73,
          44.59,
          36.74,
          45.49,
          33,
          35.94,
          38.04,
          32.57,
          40.53,
          29.7,
          41.16,
          30.74,
          38.34,
          39.7,
          37.12,
          47.99,
          37.84,
          30.27,
          37,
          30.64,
          36.44,
          45.41,
          47.14,
          28.19,
          33.22,
          36.74,
          35.19,
          32.36,
          38.16,
          32.78,
          30.21,
          41.07,
          34.96,
          41.59,
          28.04,
          42.25,
          34.42,
          40.94,
          34.54,
          37.67,
          29.48,
          33.8,
          33.1,
          26.51,
          27.36,
          36.64,
          40.48,
          40.86,
          47.18,
          34.98,
          25.92,
          38.74,
          29.5,
          35.63,
          35.82,
          41.04,
          35.48,
          39.02,
          33.58,
          46.02,
          31.73,
          30.05,
          30.54,
          30.66,
          41.53,
          33.08,
          44.54,
          40.22,
          27.83,
          38.38,
          38.96,
          36.15,
          29.85,
          31.24,
          35.9,
          36.35,
          31.88,
          39.93,
          37.36,
          34.18,
          36.38,
          32.74,
          36.1,
          35.58,
          33.83,
          39.65,
          40.36,
          36.78,
          38.9,
          30.5,
          36.63,
          44.47,
          31.37,
          31.75,
          40.27,
          26.26,
          33.57,
          32.74,
          29.8,
          46,
          37.77,
          39.51,
          37.36,
          38.42,
          35.01,
          36.11,
          32.4,
          30.19,
          34.53,
          33.52,
          48.21,
          38.78,
          27.64,
          35.65,
          35.79,
          41.18,
          40.87,
          34.61,
          31.22,
          33.48,
          40.89,
          42.75,
          41.94,
          37.83,
          39.98,
          33.15,
          29.05,
          31.45,
          34.81,
          37.74,
          32.2,
          29,
          37.95,
          33,
          48.61,
          30.13,
          36.84,
          35.51,
          39.62,
          28.67,
          31.84,
          31.77,
          35.28,
          37.71,
          38.54,
          42.1,
          35.31,
          36.07,
          36.46,
          34.43,
          33.26,
          36.35,
          34.9,
          32.83,
          32.16,
          38.53,
          43.93,
          27.48,
          34.13,
          37.61,
          31.93,
          34.57,
          37.63,
          32.19,
          35.6,
          35.04,
          38.54,
          41.48,
          37.22,
          36.78,
          39.35,
          31.35,
          34.77,
          32.98,
          38.14,
          31.88,
          28.03,
          39.17,
          36.79,
          29.94,
          26.65,
          44.15,
          29.89,
          41.94,
          30.77,
          34.04,
          33.78,
          30.34,
          34.88,
          38.16,
          44.31,
          29.2,
          29.71,
          45.67,
          32.22,
          41.31,
          30.62,
          32.31,
          33.19,
          36.14,
          38.54,
          27.96,
          34.09,
          33.63,
          26.35,
          37.39,
          34.71,
          38.44,
          26.02,
          30.76,
          31.28,
          35.54,
          33.11,
          30.98,
          38.4,
          36.34,
          37.47,
          49.23,
          43.18,
          46.64,
          33.45,
          32.64,
          35.43,
          32.22,
          30.06,
          42.06,
          31.85,
          34.58,
          36.13,
          37.73,
          33.27,
          33.84,
          43.36,
          36.19,
          34.17,
          38.79,
          49.99,
          33.05,
          28.69,
          40.06,
          35.65,
          38.63,
          29.19,
          36.57,
          29.17,
          37.75,
          29.39,
          37.38,
          31.08,
          28.6,
          46.77,
          28.75,
          32.33,
          37.58,
          36.28,
          32.1,
          32.4,
          31,
          44.77,
          35.82,
          31.94,
          36.91,
          45.37,
          37.95,
          50.59,
          34.05,
          37.37,
          33.87,
          41.32,
          41.04,
          27.27,
          37.28,
          27.41,
          50.11,
          35.71,
          36.73,
          37.61,
          34.49,
          32.04,
          39.06,
          32.86,
          37.64,
          28.22,
          33.21,
          39.16,
          39.38,
          32.51,
          43.99,
          39.58,
          39.49,
          38.01,
          37.12,
          31.43,
          28.71,
          37.53,
          46.47,
          36.01,
          39.67,
          40.7,
          37.57,
          32.52,
          41.78,
          34.43,
          32.7,
          30.36,
          34.81,
          42.34,
          34.57,
          28.97,
          42.51,
          44.63,
          40.53,
          37.12,
          33.79,
          38.55,
          35.97,
          35.04,
          35.48,
          38.7,
          36.45,
          28.01,
          33.11,
          34.68,
          47.73,
          39.29,
          27.61,
          37.28,
          39.07,
          41.42,
          39.66,
          36.87,
          31.68,
          38.46,
          34.64,
          43.41,
          34.87,
          28.79,
          35.89,
          37.84,
          35.5,
          30.99,
          36.47,
          36.33,
          31.46,
          33.73,
          40.05,
          36.42,
          32.24,
          37.14,
          38.56,
          37.83,
          30.06,
          38.87,
          27.2,
          38.8,
          37.34,
          35.53,
          40.53,
          38.11,
          41.16,
          31.89,
          28.71,
          25.24,
          37.98,
          32.36,
          42.89,
          47.84,
          42.4,
          35.83,
          27.26,
          38.09,
          27.77,
          43.69,
          30.94,
          31.74,
          31.06,
          33.18,
          41.28,
          34.12,
          39.97,
          37.78,
          34.05,
          27.25,
          39.34,
          41.17,
          40.41,
          28.66,
          45.49,
          34.2,
          47.41,
          40.46,
          40.1,
          40.22,
          40.92,
          31.95,
          38.82,
          37.56,
          30.34,
          43.28,
          37.35,
          35.2,
          48.66,
          40.71,
          35.31,
          40.35,
          35.32,
          30.91,
          40.39,
          35.01
         ],
         "yaxis": "y"
        },
        {
         "customdata": [
          [
           "57.87%",
           "38.37%",
           "3.76%",
           101.09
          ]
         ],
         "hovertemplate": "Risk (%)=%{x}<br>Return (%)=%{y}<br>AAPL=%{customdata[0]}<br>TSLA=%{customdata[1]}<br>COKE=%{customdata[2]}<br>Sharpe Ratio=%{customdata[3]}<extra></extra>",
         "legendgroup": "",
         "marker": {
          "color": "Red",
          "size": 15,
          "symbol": "x"
         },
         "mode": "markers",
         "name": "",
         "orientation": "v",
         "showlegend": false,
         "type": "scatter",
         "x": [
          24.38
         ],
         "xaxis": "x",
         "y": [
          27.69
         ],
         "yaxis": "y"
        },
        {
         "customdata": [
          [
           "45.28%",
           "27.89%",
           "26.83%",
           113.6
          ]
         ],
         "hovertemplate": "Risk (%)=%{x}<br>Return (%)=%{y}<br>AAPL=%{customdata[0]}<br>TSLA=%{customdata[1]}<br>COKE=%{customdata[2]}<br>Sharpe Ratio=%{customdata[3]}<extra></extra>",
         "legendgroup": "",
         "marker": {
          "color": "Green",
          "size": 15,
          "symbol": "x"
         },
         "mode": "markers",
         "name": "",
         "orientation": "v",
         "showlegend": false,
         "type": "scatter",
         "x": [
          27.41
         ],
         "xaxis": "x",
         "y": [
          34.18
         ],
         "yaxis": "y"
        },
        {
         "customdata": [
          [
           "56.93%",
           "37.72%",
           "5.36%",
           102.86
          ]
         ],
         "hovertemplate": "Risk (%)=%{x}<br>Return (%)=%{y}<br>AAPL=%{customdata[0]}<br>TSLA=%{customdata[1]}<br>COKE=%{customdata[2]}<br>Sharpe Ratio=%{customdata[3]}<extra></extra>",
         "legendgroup": "",
         "marker": {
          "color": "Blue",
          "size": 15,
          "symbol": "x"
         },
         "mode": "markers",
         "name": "",
         "orientation": "v",
         "showlegend": false,
         "type": "scatter",
         "x": [
          24.4
         ],
         "xaxis": "x",
         "y": [
          28.14
         ],
         "yaxis": "y"
        },
        {
         "hovertemplate": "Risk=%{x}<br>Return=%{y}<extra></extra>",
         "legendgroup": "",
         "line": {
          "color": "#636efa",
          "dash": "solid"
         },
         "marker": {
          "symbol": "circle"
         },
         "mode": "lines",
         "name": "",
         "orientation": "v",
         "showlegend": false,
         "type": "scatter",
         "x": [
          24.46,
          24.57,
          24.59,
          24.66,
          24.75,
          24.81,
          24.89,
          24.96,
          25.09,
          25.18,
          25.31,
          25.37,
          25.46,
          25.55,
          25.65,
          25.72,
          25.84,
          25.92,
          26.03,
          26.15,
          26.23,
          26.32,
          26.5,
          26.65,
          26.72,
          26.83,
          26.88,
          26.93,
          26.96,
          27.04,
          27.14,
          27.23,
          27.28,
          27.36,
          27.43,
          27.47,
          27.53,
          27.64,
          27.72,
          27.79,
          27.88,
          27.95,
          28.06,
          28.17,
          28.22,
          28.31,
          28.46,
          28.56,
          28.66,
          28.74,
          28.85,
          28.95,
          29.02,
          29.09,
          29.23,
          29.31,
          29.44,
          29.5,
          29.63,
          29.73,
          29.79,
          29.9,
          29.96,
          30.04,
          30.17,
          30.26,
          30.38,
          30.51,
          30.72,
          30.83,
          30.95,
          31.08,
          31.13,
          31.28,
          31.37,
          31.47,
          31.55,
          31.73,
          31.87,
          31.97,
          32.04,
          32.18,
          32.28,
          32.43,
          32.54,
          32.62,
          32.75,
          32.87,
          33.06,
          33.29,
          33.42,
          33.61,
          33.74,
          33.94,
          34.08,
          34.21,
          34.38,
          34.57,
          34.73,
          35,
          35.14,
          35.32,
          35.53,
          35.84,
          35.94,
          36.19,
          36.35,
          36.68,
          36.95,
          37.28,
          37.82,
          38.32,
          38.61,
          38.76,
          39.4,
          39.69,
          40.67,
          41.48,
          42.41,
          43.65,
          44.08,
          44.92,
          46.38,
          47.73,
          53.05
         ],
         "xaxis": "x",
         "y": [
          28.14,
          29.03,
          29.3,
          28.98,
          29.5,
          30.06,
          30.06,
          30.42,
          30.62,
          30.77,
          29.89,
          31.22,
          31.39,
          31.49,
          31.68,
          31.84,
          31.95,
          32.21,
          32.31,
          32.47,
          32.68,
          32.8,
          32.98,
          33.19,
          33.27,
          33.41,
          33.5,
          33.52,
          33.52,
          33.73,
          33.48,
          33.88,
          33.94,
          34.04,
          34.18,
          34.18,
          33.98,
          34.29,
          34.43,
          34.13,
          34.64,
          34.59,
          34.89,
          34.9,
          35.04,
          34.58,
          35.27,
          35.31,
          35.38,
          35.48,
          35.65,
          35.7,
          35.82,
          35.55,
          35.97,
          36.07,
          36.19,
          36.28,
          36.22,
          36.46,
          36.46,
          36.65,
          36.57,
          36.79,
          36.83,
          36.93,
          37.04,
          37.16,
          37.36,
          37.43,
          37.51,
          37.67,
          37.53,
          37.75,
          37.86,
          38,
          38.07,
          38.21,
          38.24,
          38.36,
          38.4,
          38.55,
          38.63,
          38.62,
          38.8,
          38.78,
          39.01,
          39.07,
          39.16,
          39.35,
          39.53,
          39.65,
          39.68,
          39.89,
          39.97,
          40.11,
          40.21,
          40.36,
          40.43,
          40.6,
          40.79,
          40.92,
          41.09,
          41.22,
          41.34,
          41.51,
          41.59,
          41.76,
          41.94,
          42.25,
          42.51,
          42.89,
          43.13,
          43.28,
          43.6,
          43.93,
          44.54,
          44.89,
          45.67,
          46.46,
          46.69,
          47.18,
          48.08,
          48.84,
          52.07
         ],
         "yaxis": "y"
        }
       ],
       "layout": {
        "font": {
         "color": "RebeccaPurple",
         "family": "Bahnschrift",
         "size": 18
        },
        "template": {
         "data": {
          "bar": [
           {
            "error_x": {
             "color": "#2a3f5f"
            },
            "error_y": {
             "color": "#2a3f5f"
            },
            "marker": {
             "line": {
              "color": "#E5ECF6",
              "width": 0.5
             },
             "pattern": {
              "fillmode": "overlay",
              "size": 10,
              "solidity": 0.2
             }
            },
            "type": "bar"
           }
          ],
          "barpolar": [
           {
            "marker": {
             "line": {
              "color": "#E5ECF6",
              "width": 0.5
             },
             "pattern": {
              "fillmode": "overlay",
              "size": 10,
              "solidity": 0.2
             }
            },
            "type": "barpolar"
           }
          ],
          "carpet": [
           {
            "aaxis": {
             "endlinecolor": "#2a3f5f",
             "gridcolor": "white",
             "linecolor": "white",
             "minorgridcolor": "white",
             "startlinecolor": "#2a3f5f"
            },
            "baxis": {
             "endlinecolor": "#2a3f5f",
             "gridcolor": "white",
             "linecolor": "white",
             "minorgridcolor": "white",
             "startlinecolor": "#2a3f5f"
            },
            "type": "carpet"
           }
          ],
          "choropleth": [
           {
            "colorbar": {
             "outlinewidth": 0,
             "ticks": ""
            },
            "type": "choropleth"
           }
          ],
          "contour": [
           {
            "colorbar": {
             "outlinewidth": 0,
             "ticks": ""
            },
            "colorscale": [
             [
              0,
              "#0d0887"
             ],
             [
              0.1111111111111111,
              "#46039f"
             ],
             [
              0.2222222222222222,
              "#7201a8"
             ],
             [
              0.3333333333333333,
              "#9c179e"
             ],
             [
              0.4444444444444444,
              "#bd3786"
             ],
             [
              0.5555555555555556,
              "#d8576b"
             ],
             [
              0.6666666666666666,
              "#ed7953"
             ],
             [
              0.7777777777777778,
              "#fb9f3a"
             ],
             [
              0.8888888888888888,
              "#fdca26"
             ],
             [
              1,
              "#f0f921"
             ]
            ],
            "type": "contour"
           }
          ],
          "contourcarpet": [
           {
            "colorbar": {
             "outlinewidth": 0,
             "ticks": ""
            },
            "type": "contourcarpet"
           }
          ],
          "heatmap": [
           {
            "colorbar": {
             "outlinewidth": 0,
             "ticks": ""
            },
            "colorscale": [
             [
              0,
              "#0d0887"
             ],
             [
              0.1111111111111111,
              "#46039f"
             ],
             [
              0.2222222222222222,
              "#7201a8"
             ],
             [
              0.3333333333333333,
              "#9c179e"
             ],
             [
              0.4444444444444444,
              "#bd3786"
             ],
             [
              0.5555555555555556,
              "#d8576b"
             ],
             [
              0.6666666666666666,
              "#ed7953"
             ],
             [
              0.7777777777777778,
              "#fb9f3a"
             ],
             [
              0.8888888888888888,
              "#fdca26"
             ],
             [
              1,
              "#f0f921"
             ]
            ],
            "type": "heatmap"
           }
          ],
          "heatmapgl": [
           {
            "colorbar": {
             "outlinewidth": 0,
             "ticks": ""
            },
            "colorscale": [
             [
              0,
              "#0d0887"
             ],
             [
              0.1111111111111111,
              "#46039f"
             ],
             [
              0.2222222222222222,
              "#7201a8"
             ],
             [
              0.3333333333333333,
              "#9c179e"
             ],
             [
              0.4444444444444444,
              "#bd3786"
             ],
             [
              0.5555555555555556,
              "#d8576b"
             ],
             [
              0.6666666666666666,
              "#ed7953"
             ],
             [
              0.7777777777777778,
              "#fb9f3a"
             ],
             [
              0.8888888888888888,
              "#fdca26"
             ],
             [
              1,
              "#f0f921"
             ]
            ],
            "type": "heatmapgl"
           }
          ],
          "histogram": [
           {
            "marker": {
             "pattern": {
              "fillmode": "overlay",
              "size": 10,
              "solidity": 0.2
             }
            },
            "type": "histogram"
           }
          ],
          "histogram2d": [
           {
            "colorbar": {
             "outlinewidth": 0,
             "ticks": ""
            },
            "colorscale": [
             [
              0,
              "#0d0887"
             ],
             [
              0.1111111111111111,
              "#46039f"
             ],
             [
              0.2222222222222222,
              "#7201a8"
             ],
             [
              0.3333333333333333,
              "#9c179e"
             ],
             [
              0.4444444444444444,
              "#bd3786"
             ],
             [
              0.5555555555555556,
              "#d8576b"
             ],
             [
              0.6666666666666666,
              "#ed7953"
             ],
             [
              0.7777777777777778,
              "#fb9f3a"
             ],
             [
              0.8888888888888888,
              "#fdca26"
             ],
             [
              1,
              "#f0f921"
             ]
            ],
            "type": "histogram2d"
           }
          ],
          "histogram2dcontour": [
           {
            "colorbar": {
             "outlinewidth": 0,
             "ticks": ""
            },
            "colorscale": [
             [
              0,
              "#0d0887"
             ],
             [
              0.1111111111111111,
              "#46039f"
             ],
             [
              0.2222222222222222,
              "#7201a8"
             ],
             [
              0.3333333333333333,
              "#9c179e"
             ],
             [
              0.4444444444444444,
              "#bd3786"
             ],
             [
              0.5555555555555556,
              "#d8576b"
             ],
             [
              0.6666666666666666,
              "#ed7953"
             ],
             [
              0.7777777777777778,
              "#fb9f3a"
             ],
             [
              0.8888888888888888,
              "#fdca26"
             ],
             [
              1,
              "#f0f921"
             ]
            ],
            "type": "histogram2dcontour"
           }
          ],
          "mesh3d": [
           {
            "colorbar": {
             "outlinewidth": 0,
             "ticks": ""
            },
            "type": "mesh3d"
           }
          ],
          "parcoords": [
           {
            "line": {
             "colorbar": {
              "outlinewidth": 0,
              "ticks": ""
             }
            },
            "type": "parcoords"
           }
          ],
          "pie": [
           {
            "automargin": true,
            "type": "pie"
           }
          ],
          "scatter": [
           {
            "fillpattern": {
             "fillmode": "overlay",
             "size": 10,
             "solidity": 0.2
            },
            "type": "scatter"
           }
          ],
          "scatter3d": [
           {
            "line": {
             "colorbar": {
              "outlinewidth": 0,
              "ticks": ""
             }
            },
            "marker": {
             "colorbar": {
              "outlinewidth": 0,
              "ticks": ""
             }
            },
            "type": "scatter3d"
           }
          ],
          "scattercarpet": [
           {
            "marker": {
             "colorbar": {
              "outlinewidth": 0,
              "ticks": ""
             }
            },
            "type": "scattercarpet"
           }
          ],
          "scattergeo": [
           {
            "marker": {
             "colorbar": {
              "outlinewidth": 0,
              "ticks": ""
             }
            },
            "type": "scattergeo"
           }
          ],
          "scattergl": [
           {
            "marker": {
             "colorbar": {
              "outlinewidth": 0,
              "ticks": ""
             }
            },
            "type": "scattergl"
           }
          ],
          "scattermapbox": [
           {
            "marker": {
             "colorbar": {
              "outlinewidth": 0,
              "ticks": ""
             }
            },
            "type": "scattermapbox"
           }
          ],
          "scatterpolar": [
           {
            "marker": {
             "colorbar": {
              "outlinewidth": 0,
              "ticks": ""
             }
            },
            "type": "scatterpolar"
           }
          ],
          "scatterpolargl": [
           {
            "marker": {
             "colorbar": {
              "outlinewidth": 0,
              "ticks": ""
             }
            },
            "type": "scatterpolargl"
           }
          ],
          "scatterternary": [
           {
            "marker": {
             "colorbar": {
              "outlinewidth": 0,
              "ticks": ""
             }
            },
            "type": "scatterternary"
           }
          ],
          "surface": [
           {
            "colorbar": {
             "outlinewidth": 0,
             "ticks": ""
            },
            "colorscale": [
             [
              0,
              "#0d0887"
             ],
             [
              0.1111111111111111,
              "#46039f"
             ],
             [
              0.2222222222222222,
              "#7201a8"
             ],
             [
              0.3333333333333333,
              "#9c179e"
             ],
             [
              0.4444444444444444,
              "#bd3786"
             ],
             [
              0.5555555555555556,
              "#d8576b"
             ],
             [
              0.6666666666666666,
              "#ed7953"
             ],
             [
              0.7777777777777778,
              "#fb9f3a"
             ],
             [
              0.8888888888888888,
              "#fdca26"
             ],
             [
              1,
              "#f0f921"
             ]
            ],
            "type": "surface"
           }
          ],
          "table": [
           {
            "cells": {
             "fill": {
              "color": "#EBF0F8"
             },
             "line": {
              "color": "white"
             }
            },
            "header": {
             "fill": {
              "color": "#C8D4E3"
             },
             "line": {
              "color": "white"
             }
            },
            "type": "table"
           }
          ]
         },
         "layout": {
          "annotationdefaults": {
           "arrowcolor": "#2a3f5f",
           "arrowhead": 0,
           "arrowwidth": 1
          },
          "autotypenumbers": "strict",
          "coloraxis": {
           "colorbar": {
            "outlinewidth": 0,
            "ticks": ""
           }
          },
          "colorscale": {
           "diverging": [
            [
             0,
             "#8e0152"
            ],
            [
             0.1,
             "#c51b7d"
            ],
            [
             0.2,
             "#de77ae"
            ],
            [
             0.3,
             "#f1b6da"
            ],
            [
             0.4,
             "#fde0ef"
            ],
            [
             0.5,
             "#f7f7f7"
            ],
            [
             0.6,
             "#e6f5d0"
            ],
            [
             0.7,
             "#b8e186"
            ],
            [
             0.8,
             "#7fbc41"
            ],
            [
             0.9,
             "#4d9221"
            ],
            [
             1,
             "#276419"
            ]
           ],
           "sequential": [
            [
             0,
             "#0d0887"
            ],
            [
             0.1111111111111111,
             "#46039f"
            ],
            [
             0.2222222222222222,
             "#7201a8"
            ],
            [
             0.3333333333333333,
             "#9c179e"
            ],
            [
             0.4444444444444444,
             "#bd3786"
            ],
            [
             0.5555555555555556,
             "#d8576b"
            ],
            [
             0.6666666666666666,
             "#ed7953"
            ],
            [
             0.7777777777777778,
             "#fb9f3a"
            ],
            [
             0.8888888888888888,
             "#fdca26"
            ],
            [
             1,
             "#f0f921"
            ]
           ],
           "sequentialminus": [
            [
             0,
             "#0d0887"
            ],
            [
             0.1111111111111111,
             "#46039f"
            ],
            [
             0.2222222222222222,
             "#7201a8"
            ],
            [
             0.3333333333333333,
             "#9c179e"
            ],
            [
             0.4444444444444444,
             "#bd3786"
            ],
            [
             0.5555555555555556,
             "#d8576b"
            ],
            [
             0.6666666666666666,
             "#ed7953"
            ],
            [
             0.7777777777777778,
             "#fb9f3a"
            ],
            [
             0.8888888888888888,
             "#fdca26"
            ],
            [
             1,
             "#f0f921"
            ]
           ]
          },
          "colorway": [
           "#636efa",
           "#EF553B",
           "#00cc96",
           "#ab63fa",
           "#FFA15A",
           "#19d3f3",
           "#FF6692",
           "#B6E880",
           "#FF97FF",
           "#FECB52"
          ],
          "font": {
           "color": "#2a3f5f"
          },
          "geo": {
           "bgcolor": "white",
           "lakecolor": "white",
           "landcolor": "#E5ECF6",
           "showlakes": true,
           "showland": true,
           "subunitcolor": "white"
          },
          "hoverlabel": {
           "align": "left"
          },
          "hovermode": "closest",
          "mapbox": {
           "style": "light"
          },
          "paper_bgcolor": "white",
          "plot_bgcolor": "#E5ECF6",
          "polar": {
           "angularaxis": {
            "gridcolor": "white",
            "linecolor": "white",
            "ticks": ""
           },
           "bgcolor": "#E5ECF6",
           "radialaxis": {
            "gridcolor": "white",
            "linecolor": "white",
            "ticks": ""
           }
          },
          "scene": {
           "xaxis": {
            "backgroundcolor": "#E5ECF6",
            "gridcolor": "white",
            "gridwidth": 2,
            "linecolor": "white",
            "showbackground": true,
            "ticks": "",
            "zerolinecolor": "white"
           },
           "yaxis": {
            "backgroundcolor": "#E5ECF6",
            "gridcolor": "white",
            "gridwidth": 2,
            "linecolor": "white",
            "showbackground": true,
            "ticks": "",
            "zerolinecolor": "white"
           },
           "zaxis": {
            "backgroundcolor": "#E5ECF6",
            "gridcolor": "white",
            "gridwidth": 2,
            "linecolor": "white",
            "showbackground": true,
            "ticks": "",
            "zerolinecolor": "white"
           }
          },
          "shapedefaults": {
           "line": {
            "color": "#2a3f5f"
           }
          },
          "ternary": {
           "aaxis": {
            "gridcolor": "white",
            "linecolor": "white",
            "ticks": ""
           },
           "baxis": {
            "gridcolor": "white",
            "linecolor": "white",
            "ticks": ""
           },
           "bgcolor": "#E5ECF6",
           "caxis": {
            "gridcolor": "white",
            "linecolor": "white",
            "ticks": ""
           }
          },
          "title": {
           "x": 0.05
          },
          "xaxis": {
           "automargin": true,
           "gridcolor": "white",
           "linecolor": "white",
           "ticks": "",
           "title": {
            "standoff": 15
           },
           "zerolinecolor": "white",
           "zerolinewidth": 2
          },
          "yaxis": {
           "automargin": true,
           "gridcolor": "white",
           "linecolor": "white",
           "ticks": "",
           "title": {
            "standoff": 15
           },
           "zerolinecolor": "white",
           "zerolinewidth": 2
          }
         }
        },
        "title": {
         "text": "Portfolio Combination"
        },
        "xaxis": {
         "title": {
          "text": "Risk (%)"
         }
        },
        "yaxis": {
         "title": {
          "text": "Return (%)"
         }
        }
       }
      }
     },
     "metadata": {},
     "output_type": "display_data"
    }
   ],
   "source": [
    "#Visualizing the 1000 combination data\n",
    "fig1= px.scatter(data_frame=Scatter_Data,\n",
    "               x='Risk',y='Return',hover_data=Scatter_Data.columns, color='Sharpe Ratio',\n",
    "               )\n",
    "\n",
    "#Visualizing a portfolio with lowest risk\n",
    "fig2 = px.scatter(data_frame=Min_Varianz_Data, x = 'Risk', y = 'Return',hover_data=Min_Varianz_Data.columns,labels=dict(Risk=\"Risk (%)\", Return=\"Return (%)\"))\n",
    "#Visualizing a portfolio with highest sharpe ratio\n",
    "fig3 = px.scatter(data_frame=Sharpe_max_Data, x = 'Risk', y = 'Return',hover_data=Sharpe_max_Data.columns,labels=dict(Risk=\"Risk (%)\", Return=\"Return (%)\"))\n",
    "\n",
    "fig4 =px.scatter(data_frame=Optimal_Portfolio_Data,x = 'Risk', y = 'Return',hover_data=Optimal_Portfolio_Data.columns,labels=dict(Risk=\"Risk (%)\", Return=\"Return (%)\"))\n",
    "\n",
    "#adding marker to fig2 and fig3\n",
    "fig2.update_traces(marker=dict(size=15, color=\"Red\",symbol=\"x\"))\n",
    "fig3.update_traces(marker=dict(size=15, color=\"Green\",symbol=\"x\"))\n",
    "fig4.update_traces(marker=dict(size=15, color=\"Blue\",symbol=\"x\"))\n",
    "\n",
    "\n",
    "#here i'm trying to draw a efficient frontier line from the visualization but still not getting the result i wanted\n",
    "fig5= px.line(data_frame=test,\n",
    "               x='Risk',y='Return'\n",
    "               )\n",
    "\n",
    "\n",
    "fig = go.Figure(data = fig1.data + fig2.data + fig3.data+fig4.data+fig5.data)\n",
    "fig.update_layout(\n",
    "    title=\"Portfolio Combination\",\n",
    "    xaxis_title=\"Risk (%)\",\n",
    "    yaxis_title=\"Return (%)\",\n",
    "    font=dict(\n",
    "        family=\"Bahnschrift\",\n",
    "        size=18,\n",
    "        color=\"RebeccaPurple\"\n",
    "    )\n",
    ")\n",
    "fig.show()"
   ]
  },
  {
   "cell_type": "code",
   "execution_count": null,
   "metadata": {},
   "outputs": [],
   "source": []
  }
 ],
 "metadata": {
  "kernelspec": {
   "display_name": "Python 3.9.7 ('base')",
   "language": "python",
   "name": "python3"
  },
  "language_info": {
   "codemirror_mode": {
    "name": "ipython",
    "version": 3
   },
   "file_extension": ".py",
   "mimetype": "text/x-python",
   "name": "python",
   "nbconvert_exporter": "python",
   "pygments_lexer": "ipython3",
   "version": "3.9.7"
  },
  "orig_nbformat": 4,
  "vscode": {
   "interpreter": {
    "hash": "96141031d17e465f5977d226521e923ef5175ee67a8854d63efa59c89752494d"
   }
  }
 },
 "nbformat": 4,
 "nbformat_minor": 2
}

{
 "cells": [
  {
   "cell_type": "code",
   "execution_count": 9,
   "metadata": {},
   "outputs": [],
   "source": [
    "import numpy as np\n",
    "import pandas as pd\n",
    "import datetime\n",
    "from numpy.linalg import inv\n",
    "from pandas_datareader import data as pdr\n",
    "import yfinance as yfin\n",
    "#import matplotlib.pyplot as plt\n",
    "#from scipy.optimize import minimize\n",
    "import plotly.express as px\n",
    "from plotly.subplots import make_subplots\n",
    "import plotly.graph_objects as go\n",
    "start = datetime.datetime(2010,1,1)\n",
    "end = datetime.datetime.now()\n",
    "yfin.pdr_override()\n"
   ]
  },
  {
   "cell_type": "code",
   "execution_count": 10,
   "metadata": {},
   "outputs": [],
   "source": [
    "def data_returns(data): #generating daily avg assets return \n",
    "    returns = (data/data.shift(1))-1\n",
    "    return returns"
   ]
  },
  {
   "cell_type": "code",
   "execution_count": 11,
   "metadata": {},
   "outputs": [],
   "source": [
    "def portfolio_covariance(data): #generating yearly avg portfolio risk\n",
    "    yearly_port_cov = data_returns(data).cov()*252\n",
    "    return yearly_port_cov\n",
    "    "
   ]
  },
  {
   "cell_type": "markdown",
   "metadata": {},
   "source": [
    "#### Markowitz Portfolio Theory Function"
   ]
  },
  {
   "cell_type": "code",
   "execution_count": 4,
   "metadata": {},
   "outputs": [],
   "source": [
    "# 1000 combination with function (Simple return)\n",
    "\n",
    "def combination(Ticker):\n",
    "\n",
    "    #load data and create random weights dataframe\n",
    "    data = pd.DataFrame()\n",
    "    data = pdr.get_data_yahoo(Ticker,start,end)['Adj Close']\n",
    "    \n",
    "    weights_array = pd.DataFrame(columns=[Ticker])\n",
    "\n",
    "    #empty array for Risk and Return Columns\n",
    "    port_return = []\n",
    "    port_risk = []\n",
    "  \n",
    "    #generating 1000 random combination for the portfolio\n",
    "    for w in range (1000):\n",
    "        #get random weights for each Ticker\n",
    "        weights = np.random.random(len(Ticker)) \n",
    "\n",
    "        #weights return array\n",
    "        weights = weights/np.sum(weights) \n",
    "        \n",
    "        #insert weights (array) to a dataframe called each_weights\n",
    "        weights_array.loc[len(weights_array)] = weights.tolist()  \n",
    "        \n",
    "        #calculate avg annual return and store it to array port_return\n",
    "        port_return.append(np.sum(weights * (data_returns(data).mean()*252)))\n",
    "        \n",
    "        #calculate avg annual std dev/risk and store it to array port_risk\n",
    "        port_risk.append(np.sqrt(np.dot(weights.T, np.dot(portfolio_covariance(data), weights)))) \n",
    "\n",
    "\n",
    "    #create dataframe called portfolios to store risk and return\n",
    "    portfolios = pd.DataFrame({'Return':port_return, 'Risk': port_risk}) \n",
    "    for i in range(len(Ticker)):   \n",
    "        weights_array.columns.values[i] = Ticker[i]\n",
    "        \n",
    "    result = pd.concat([weights_array, portfolios], axis=1) #concat dataframe each_weights and portfolios\n",
    "    \n",
    "    #return port_return, port_risk\n",
    "    return  result"
   ]
  },
  {
   "cell_type": "code",
   "execution_count": 12,
   "metadata": {},
   "outputs": [],
   "source": [
    "#Calculation Minimum Variance Portfolio with Lagrange multiplier and Cramer's Rule based on Modul Portfolio Selection from Prof. Dr. Andreas Görg\n",
    "def Min_Varianz(Ticker):\n",
    "    \n",
    "    data = pd.DataFrame()\n",
    "    data = pdr.get_data_yahoo(Ticker,start,end)['Adj Close']\n",
    "\n",
    "    #Variable\n",
    "    Mu = (data_returns(data).mean()*252).to_numpy()\n",
    "    Sigma = (portfolio_covariance(data)).to_numpy()\n",
    "    One = [1 for x in range(len(Mu))]\n",
    "    One_arr = np.array(One)\n",
    "    Sigma_inverse = inv(Sigma)\n",
    "\n",
    "    a = np.dot(np.dot(Mu.T,Sigma_inverse),Mu)\n",
    "    b = np.dot(np.dot(Mu.T,Sigma_inverse),One_arr)\n",
    "    c = np.dot(np.dot(One_arr,Sigma_inverse),One_arr)\n",
    "\n",
    "\n",
    "    Return_x = b/c\n",
    "    Risk_x = 1/np.sqrt(c)\n",
    "\n",
    "    weights = (np.dot((Return_x*c-b)*Sigma_inverse,Mu)+(np.dot((a-Return_x*b)*Sigma_inverse,One_arr)))/(a*c-b**2)\n",
    "    \n",
    "    Min_Port = np.array([Return_x,Risk_x])\n",
    "\n",
    "    Data = np.concatenate((weights,Min_Port))\n",
    "\n",
    "    Columns = Ticker\n",
    "    Columns.append('Return')\n",
    "    Columns.append('Risk')\n",
    "\n",
    "    Min_Varianz_Data = pd.DataFrame(columns=Columns)\n",
    "    Min_Varianz_Data.loc[len(Min_Varianz_Data)] = Data    \n",
    "\n",
    "\n",
    "    return Min_Varianz_Data"
   ]
  },
  {
   "cell_type": "code",
   "execution_count": null,
   "metadata": {},
   "outputs": [],
   "source": []
  },
  {
   "cell_type": "markdown",
   "metadata": {},
   "source": [
    "#### Calling Function"
   ]
  },
  {
   "cell_type": "code",
   "execution_count": 13,
   "metadata": {},
   "outputs": [],
   "source": [
    "xxx = ['AAPL','TSLA','COKE']"
   ]
  },
  {
   "cell_type": "code",
   "execution_count": 14,
   "metadata": {},
   "outputs": [
    {
     "name": "stdout",
     "output_type": "stream",
     "text": [
      "[*********************100%***********************]  3 of 3 completed\n"
     ]
    }
   ],
   "source": [
    "my_combination = combination(xxx)"
   ]
  },
  {
   "cell_type": "code",
   "execution_count": 15,
   "metadata": {},
   "outputs": [
    {
     "data": {
      "text/html": [
       "<div>\n",
       "<style scoped>\n",
       "    .dataframe tbody tr th:only-of-type {\n",
       "        vertical-align: middle;\n",
       "    }\n",
       "\n",
       "    .dataframe tbody tr th {\n",
       "        vertical-align: top;\n",
       "    }\n",
       "\n",
       "    .dataframe thead th {\n",
       "        text-align: right;\n",
       "    }\n",
       "</style>\n",
       "<table border=\"1\" class=\"dataframe\">\n",
       "  <thead>\n",
       "    <tr style=\"text-align: right;\">\n",
       "      <th></th>\n",
       "      <th>AAPL</th>\n",
       "      <th>TSLA</th>\n",
       "      <th>COKE</th>\n",
       "      <th>Return</th>\n",
       "      <th>Risk</th>\n",
       "      <th>Sharpe Ratio</th>\n",
       "    </tr>\n",
       "  </thead>\n",
       "  <tbody>\n",
       "    <tr>\n",
       "      <th>0</th>\n",
       "      <td>0.400323</td>\n",
       "      <td>0.391693</td>\n",
       "      <td>0.207984</td>\n",
       "      <td>0.321640</td>\n",
       "      <td>0.261001</td>\n",
       "      <td>1.115854</td>\n",
       "    </tr>\n",
       "    <tr>\n",
       "      <th>1</th>\n",
       "      <td>0.135826</td>\n",
       "      <td>0.535028</td>\n",
       "      <td>0.329146</td>\n",
       "      <td>0.348238</td>\n",
       "      <td>0.301357</td>\n",
       "      <td>1.054690</td>\n",
       "    </tr>\n",
       "    <tr>\n",
       "      <th>2</th>\n",
       "      <td>0.082029</td>\n",
       "      <td>0.860511</td>\n",
       "      <td>0.057460</td>\n",
       "      <td>0.264044</td>\n",
       "      <td>0.305505</td>\n",
       "      <td>0.764778</td>\n",
       "    </tr>\n",
       "    <tr>\n",
       "      <th>3</th>\n",
       "      <td>0.497361</td>\n",
       "      <td>0.166550</td>\n",
       "      <td>0.336089</td>\n",
       "      <td>0.364059</td>\n",
       "      <td>0.297199</td>\n",
       "      <td>1.122680</td>\n",
       "    </tr>\n",
       "    <tr>\n",
       "      <th>4</th>\n",
       "      <td>0.508982</td>\n",
       "      <td>0.116777</td>\n",
       "      <td>0.374242</td>\n",
       "      <td>0.376037</td>\n",
       "      <td>0.311979</td>\n",
       "      <td>1.107883</td>\n",
       "    </tr>\n",
       "    <tr>\n",
       "      <th>...</th>\n",
       "      <td>...</td>\n",
       "      <td>...</td>\n",
       "      <td>...</td>\n",
       "      <td>...</td>\n",
       "      <td>...</td>\n",
       "      <td>...</td>\n",
       "    </tr>\n",
       "    <tr>\n",
       "      <th>995</th>\n",
       "      <td>0.174298</td>\n",
       "      <td>0.640111</td>\n",
       "      <td>0.185592</td>\n",
       "      <td>0.306290</td>\n",
       "      <td>0.279321</td>\n",
       "      <td>0.987717</td>\n",
       "    </tr>\n",
       "    <tr>\n",
       "      <th>996</th>\n",
       "      <td>0.478335</td>\n",
       "      <td>0.413308</td>\n",
       "      <td>0.108357</td>\n",
       "      <td>0.294475</td>\n",
       "      <td>0.247376</td>\n",
       "      <td>1.067506</td>\n",
       "    </tr>\n",
       "    <tr>\n",
       "      <th>997</th>\n",
       "      <td>0.061519</td>\n",
       "      <td>0.346796</td>\n",
       "      <td>0.591684</td>\n",
       "      <td>0.424804</td>\n",
       "      <td>0.385927</td>\n",
       "      <td>1.021967</td>\n",
       "    </tr>\n",
       "    <tr>\n",
       "      <th>998</th>\n",
       "      <td>0.397769</td>\n",
       "      <td>0.452122</td>\n",
       "      <td>0.150109</td>\n",
       "      <td>0.304042</td>\n",
       "      <td>0.253734</td>\n",
       "      <td>1.078462</td>\n",
       "    </tr>\n",
       "    <tr>\n",
       "      <th>999</th>\n",
       "      <td>0.140528</td>\n",
       "      <td>0.785354</td>\n",
       "      <td>0.074118</td>\n",
       "      <td>0.271301</td>\n",
       "      <td>0.290400</td>\n",
       "      <td>0.829548</td>\n",
       "    </tr>\n",
       "  </tbody>\n",
       "</table>\n",
       "<p>1000 rows × 6 columns</p>\n",
       "</div>"
      ],
      "text/plain": [
       "         AAPL      TSLA      COKE    Return      Risk  Sharpe Ratio\n",
       "0    0.400323  0.391693  0.207984  0.321640  0.261001      1.115854\n",
       "1    0.135826  0.535028  0.329146  0.348238  0.301357      1.054690\n",
       "2    0.082029  0.860511  0.057460  0.264044  0.305505      0.764778\n",
       "3    0.497361  0.166550  0.336089  0.364059  0.297199      1.122680\n",
       "4    0.508982  0.116777  0.374242  0.376037  0.311979      1.107883\n",
       "..        ...       ...       ...       ...       ...           ...\n",
       "995  0.174298  0.640111  0.185592  0.306290  0.279321      0.987717\n",
       "996  0.478335  0.413308  0.108357  0.294475  0.247376      1.067506\n",
       "997  0.061519  0.346796  0.591684  0.424804  0.385927      1.021967\n",
       "998  0.397769  0.452122  0.150109  0.304042  0.253734      1.078462\n",
       "999  0.140528  0.785354  0.074118  0.271301  0.290400      0.829548\n",
       "\n",
       "[1000 rows x 6 columns]"
      ]
     },
     "execution_count": 15,
     "metadata": {},
     "output_type": "execute_result"
    }
   ],
   "source": [
    "my_combination['Sharpe Ratio'] = (my_combination['Return']-0.0304)/my_combination['Risk']\n",
    "my_combination"
   ]
  },
  {
   "cell_type": "code",
   "execution_count": 16,
   "metadata": {},
   "outputs": [
    {
     "data": {
      "text/html": [
       "<div>\n",
       "<style scoped>\n",
       "    .dataframe tbody tr th:only-of-type {\n",
       "        vertical-align: middle;\n",
       "    }\n",
       "\n",
       "    .dataframe tbody tr th {\n",
       "        vertical-align: top;\n",
       "    }\n",
       "\n",
       "    .dataframe thead th {\n",
       "        text-align: right;\n",
       "    }\n",
       "</style>\n",
       "<table border=\"1\" class=\"dataframe\">\n",
       "  <thead>\n",
       "    <tr style=\"text-align: right;\">\n",
       "      <th></th>\n",
       "      <th>AAPL</th>\n",
       "      <th>TSLA</th>\n",
       "      <th>COKE</th>\n",
       "      <th>Return</th>\n",
       "      <th>Risk</th>\n",
       "      <th>Sharpe Ratio</th>\n",
       "    </tr>\n",
       "  </thead>\n",
       "  <tbody>\n",
       "    <tr>\n",
       "      <th>456</th>\n",
       "      <td>0.464086</td>\n",
       "      <td>0.267561</td>\n",
       "      <td>0.268352</td>\n",
       "      <td>0.342314</td>\n",
       "      <td>0.274516</td>\n",
       "      <td>1.136231</td>\n",
       "    </tr>\n",
       "  </tbody>\n",
       "</table>\n",
       "</div>"
      ],
      "text/plain": [
       "         AAPL      TSLA      COKE    Return      Risk  Sharpe Ratio\n",
       "456  0.464086  0.267561  0.268352  0.342314  0.274516      1.136231"
      ]
     },
     "execution_count": 16,
     "metadata": {},
     "output_type": "execute_result"
    }
   ],
   "source": [
    "Sharpe_max = my_combination[my_combination['Sharpe Ratio']== my_combination['Sharpe Ratio'].max()]\n",
    "Sharpe_max"
   ]
  },
  {
   "cell_type": "code",
   "execution_count": 17,
   "metadata": {},
   "outputs": [
    {
     "name": "stdout",
     "output_type": "stream",
     "text": [
      "[*********************100%***********************]  3 of 3 completed\n"
     ]
    },
    {
     "data": {
      "text/html": [
       "<div>\n",
       "<style scoped>\n",
       "    .dataframe tbody tr th:only-of-type {\n",
       "        vertical-align: middle;\n",
       "    }\n",
       "\n",
       "    .dataframe tbody tr th {\n",
       "        vertical-align: top;\n",
       "    }\n",
       "\n",
       "    .dataframe thead th {\n",
       "        text-align: right;\n",
       "    }\n",
       "</style>\n",
       "<table border=\"1\" class=\"dataframe\">\n",
       "  <thead>\n",
       "    <tr style=\"text-align: right;\">\n",
       "      <th></th>\n",
       "      <th>AAPL</th>\n",
       "      <th>TSLA</th>\n",
       "      <th>COKE</th>\n",
       "      <th>Return</th>\n",
       "      <th>Risk</th>\n",
       "    </tr>\n",
       "  </thead>\n",
       "  <tbody>\n",
       "    <tr>\n",
       "      <th>0</th>\n",
       "      <td>0.578688</td>\n",
       "      <td>0.383733</td>\n",
       "      <td>0.037579</td>\n",
       "      <td>0.276883</td>\n",
       "      <td>0.243822</td>\n",
       "    </tr>\n",
       "  </tbody>\n",
       "</table>\n",
       "</div>"
      ],
      "text/plain": [
       "       AAPL      TSLA      COKE    Return      Risk\n",
       "0  0.578688  0.383733  0.037579  0.276883  0.243822"
      ]
     },
     "execution_count": 17,
     "metadata": {},
     "output_type": "execute_result"
    }
   ],
   "source": [
    "Min_Var_Portfolio = Min_Varianz(xxx)\n",
    "Min_Var_Portfolio"
   ]
  },
  {
   "cell_type": "code",
   "execution_count": 18,
   "metadata": {},
   "outputs": [
    {
     "data": {
      "text/html": [
       "<div>\n",
       "<style scoped>\n",
       "    .dataframe tbody tr th:only-of-type {\n",
       "        vertical-align: middle;\n",
       "    }\n",
       "\n",
       "    .dataframe tbody tr th {\n",
       "        vertical-align: top;\n",
       "    }\n",
       "\n",
       "    .dataframe thead th {\n",
       "        text-align: right;\n",
       "    }\n",
       "</style>\n",
       "<table border=\"1\" class=\"dataframe\">\n",
       "  <thead>\n",
       "    <tr style=\"text-align: right;\">\n",
       "      <th></th>\n",
       "      <th>AAPL</th>\n",
       "      <th>TSLA</th>\n",
       "      <th>COKE</th>\n",
       "      <th>Return</th>\n",
       "      <th>Risk</th>\n",
       "      <th>Sharpe Ratio</th>\n",
       "    </tr>\n",
       "  </thead>\n",
       "  <tbody>\n",
       "    <tr>\n",
       "      <th>0</th>\n",
       "      <td>0.578688</td>\n",
       "      <td>0.383733</td>\n",
       "      <td>0.037579</td>\n",
       "      <td>0.276883</td>\n",
       "      <td>0.243822</td>\n",
       "      <td>1.010915</td>\n",
       "    </tr>\n",
       "  </tbody>\n",
       "</table>\n",
       "</div>"
      ],
      "text/plain": [
       "       AAPL      TSLA      COKE    Return      Risk  Sharpe Ratio\n",
       "0  0.578688  0.383733  0.037579  0.276883  0.243822      1.010915"
      ]
     },
     "execution_count": 18,
     "metadata": {},
     "output_type": "execute_result"
    }
   ],
   "source": [
    "Min_Var_Portfolio['Sharpe Ratio'] = (Min_Var_Portfolio['Return']-0.0304)/Min_Var_Portfolio['Risk']\n",
    "Min_Var_Portfolio\n"
   ]
  },
  {
   "cell_type": "code",
   "execution_count": 19,
   "metadata": {},
   "outputs": [],
   "source": [
    "#More Simple Version of Minimum Variance\n",
    "\n",
    "# Find index of row with minimum risk\n",
    "min_risk_idx = my_combination['Risk'].idxmin()\n",
    "\n",
    "# Subset DataFrame to only include rows with minimum risk\n",
    "min_risk_df = my_combination[my_combination['Risk'] == my_combination.loc[min_risk_idx, 'Risk']]\n",
    "\n",
    "# Find index of row with maximum return among rows with minimum risk\n",
    "optimal_return_idx = min_risk_df['Return'].idxmax()\n",
    "\n",
    "# Subset DataFrame to only include row with both minimum risk and maximum return\n",
    "optimal_portfolio = min_risk_df[min_risk_df['Return']==min_risk_df.loc[optimal_return_idx,'Return']]"
   ]
  },
  {
   "cell_type": "code",
   "execution_count": 22,
   "metadata": {},
   "outputs": [],
   "source": [
    "#reformat data\n",
    "def reformat_Data(Data):\n",
    "     \n",
    "     Data_1 = Data.copy()\n",
    "     Data_1.iloc[:,:-3] = (Data_1.iloc[:,:-3]*100).round(2).astype(str) + \"%\"\n",
    "     Data_1.iloc[:,-3:] = (Data_1.iloc[:,-3:]*100).round(2)\n",
    "     \n",
    "     return Data_1\n"
   ]
  },
  {
   "cell_type": "code",
   "execution_count": 23,
   "metadata": {},
   "outputs": [],
   "source": [
    "\n",
    "Scatter_Data = reformat_Data(my_combination)\n",
    "Min_Varianz_Data = reformat_Data(Min_Var_Portfolio)\n",
    "Sharpe_max_Data = reformat_Data(Sharpe_max)\n",
    "Optimal_Portfolio_Data = reformat_Data(optimal_portfolio)"
   ]
  },
  {
   "cell_type": "code",
   "execution_count": null,
   "metadata": {},
   "outputs": [],
   "source": [
    "sorted = my_combination.sort_values(by=['Risk'])\n",
    "test = sorted.groupby(np.arange(len(sorted))//8).max()\n",
    "test"
   ]
  },
  {
   "cell_type": "code",
   "execution_count": null,
   "metadata": {},
   "outputs": [],
   "source": [
    "sorted.groupby(np.arange(len(sorted))//8)['Sharpe Ratio'].agg(['max'])"
   ]
  },
  {
   "cell_type": "markdown",
   "metadata": {},
   "source": [
    "#### Visualization"
   ]
  },
  {
   "cell_type": "code",
   "execution_count": null,
   "metadata": {},
   "outputs": [],
   "source": [
    "#Visualizing the 1000 combination data\n",
    "fig1= px.scatter(data_frame=Scatter_Data,\n",
    "               x='Risk',y='Return',hover_data=Scatter_Data.columns, color='Sharpe Ratio',\n",
    "               )\n",
    "\n",
    "#Visualizing a portfolio with lowest risk\n",
    "fig2 = px.scatter(data_frame=Min_Varianz_Data, x = 'Risk', y = 'Return',hover_data=Min_Varianz_Data.columns,labels=dict(Risk=\"Risk (%)\", Return=\"Return (%)\"))\n",
    "#Visualizing a portfolio with highest sharpe ratio\n",
    "fig3 = px.scatter(data_frame=Sharpe_max_Data, x = 'Risk', y = 'Return',hover_data=Sharpe_max_Data.columns,labels=dict(Risk=\"Risk (%)\", Return=\"Return (%)\"))\n",
    "\n",
    "fig4 =px.scatter(data_frame=optimal_portfolio,x = 'Risk', y = 'Return',hover_data=optimal_portfolio.columns,labels=dict(Risk=\"Risk (%)\", Return=\"Return (%)\"))\n",
    "\n",
    "#adding marker to fig2 and fig3\n",
    "fig2.update_traces(marker=dict(size=15, color=\"Red\",symbol=\"x\"))\n",
    "fig3.update_traces(marker=dict(size=15, color=\"Green\",symbol=\"x\"))\n",
    "fig4.update_traces(marker=dict(size=15, color=\"Blue\",symbol=\"x\"))\n",
    "\n",
    "\n",
    "#here i'm trying to draw a efficient frontier line from the visualization but still not getting the result i wanted\n",
    "fig5= px.line(data_frame=test,\n",
    "               x='Risk',y='Return'\n",
    "               )\n",
    "\n",
    "\n",
    "fig = go.Figure(data = fig1.data + fig2.data + fig3.data+fig4.data+fig5.data)\n",
    "fig.update_layout(\n",
    "    title=\"Portfolio Combination\",\n",
    "    xaxis_title=\"Risk (%)\",\n",
    "    yaxis_title=\"Return (%)\",\n",
    "    font=dict(\n",
    "        family=\"Bahnschrift\",\n",
    "        size=18,\n",
    "        color=\"RebeccaPurple\"\n",
    "    )\n",
    ")\n",
    "fig.show()"
   ]
  },
  {
   "cell_type": "code",
   "execution_count": null,
   "metadata": {},
   "outputs": [],
   "source": []
  }
 ],
 "metadata": {
  "kernelspec": {
   "display_name": "Python 3.9.7 ('base')",
   "language": "python",
   "name": "python3"
  },
  "language_info": {
   "codemirror_mode": {
    "name": "ipython",
    "version": 3
   },
   "file_extension": ".py",
   "mimetype": "text/x-python",
   "name": "python",
   "nbconvert_exporter": "python",
   "pygments_lexer": "ipython3",
   "version": "3.9.7"
  },
  "orig_nbformat": 4,
  "vscode": {
   "interpreter": {
    "hash": "96141031d17e465f5977d226521e923ef5175ee67a8854d63efa59c89752494d"
   }
  }
 },
 "nbformat": 4,
 "nbformat_minor": 2
}
